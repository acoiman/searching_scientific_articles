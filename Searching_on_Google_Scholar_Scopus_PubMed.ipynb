{
  "cells": [
    {
      "cell_type": "markdown",
      "metadata": {
        "id": "view-in-github",
        "colab_type": "text"
      },
      "source": [
        "<a href=\"https://colab.research.google.com/github/acoiman/searching_scientific_articles/blob/main/Searching_on_Google_Scholar_Scopus_PubMed.ipynb\" target=\"_parent\"><img src=\"https://colab.research.google.com/assets/colab-badge.svg\" alt=\"Open In Colab\"/></a>"
      ]
    },
    {
      "cell_type": "markdown",
      "metadata": {
        "id": "Bp4yyWR-mfGY"
      },
      "source": [
        "#**Searching on Google Scholar, Scopus and Pubmed From 2013 to 2022 to write a systematic review article about asthma, allergic rhinitis, air quality, and remote sensing.**\n",
        "\n",
        "First, we will outline our main research question that will be used to filter our results from Google Scholar, Scopus, and PubMed."
      ]
    },
    {
      "cell_type": "code",
      "source": [
        "!pip install schemdraw --quiet\n",
        "!pip install dtale --quiet\n",
        "!pip install scholarly --quiet\n",
        "!pip install pydrive --quiet"
      ],
      "metadata": {
        "colab": {
          "base_uri": "https://localhost:8080/"
        },
        "id": "uAmMChLOJ9sp",
        "outputId": "c88ae3c4-a203-4591-b721-0f4e15b9b7a4"
      },
      "execution_count": 6,
      "outputs": [
        {
          "output_type": "stream",
          "name": "stdout",
          "text": [
            "\u001b[2K     \u001b[90m━━━━━━━━━━━━━━━━━━━━━━━━━━━━━━━━━━━━━━━━\u001b[0m \u001b[32m62.3/62.3 kB\u001b[0m \u001b[31m5.0 MB/s\u001b[0m eta \u001b[36m0:00:00\u001b[0m\n",
            "\u001b[?25h  Preparing metadata (setup.py) ... \u001b[?25l\u001b[?25hdone\n",
            "\u001b[2K     \u001b[90m━━━━━━━━━━━━━━━━━━━━━━━━━━━━━━━━━━━━━━━━\u001b[0m \u001b[32m642.7/642.7 kB\u001b[0m \u001b[31m31.1 MB/s\u001b[0m eta \u001b[36m0:00:00\u001b[0m\n",
            "\u001b[?25h  Preparing metadata (setup.py) ... \u001b[?25l\u001b[?25hdone\n",
            "\u001b[2K   \u001b[90m━━━━━━━━━━━━━━━━━━━━━━━━━━━━━━━━━━━━━━━━\u001b[0m \u001b[32m14.7/14.7 MB\u001b[0m \u001b[31m67.3 MB/s\u001b[0m eta \u001b[36m0:00:00\u001b[0m\n",
            "\u001b[2K   \u001b[90m━━━━━━━━━━━━━━━━━━━━━━━━━━━━━━━━━━━━━━━━\u001b[0m \u001b[32m7.8/7.8 MB\u001b[0m \u001b[31m91.0 MB/s\u001b[0m eta \u001b[36m0:00:00\u001b[0m\n",
            "\u001b[2K   \u001b[90m━━━━━━━━━━━━━━━━━━━━━━━━━━━━━━━━━━━━━━━━\u001b[0m \u001b[32m101.7/101.7 kB\u001b[0m \u001b[31m7.8 MB/s\u001b[0m eta \u001b[36m0:00:00\u001b[0m\n",
            "\u001b[2K   \u001b[90m━━━━━━━━━━━━━━━━━━━━━━━━━━━━━━━━━━━━━━━━\u001b[0m \u001b[32m228.0/228.0 kB\u001b[0m \u001b[31m17.5 MB/s\u001b[0m eta \u001b[36m0:00:00\u001b[0m\n",
            "\u001b[2K   \u001b[90m━━━━━━━━━━━━━━━━━━━━━━━━━━━━━━━━━━━━━━━━\u001b[0m \u001b[32m229.3/229.3 kB\u001b[0m \u001b[31m17.4 MB/s\u001b[0m eta \u001b[36m0:00:00\u001b[0m\n",
            "\u001b[2K   \u001b[90m━━━━━━━━━━━━━━━━━━━━━━━━━━━━━━━━━━━━━━━━\u001b[0m \u001b[32m79.9/79.9 MB\u001b[0m \u001b[31m10.1 MB/s\u001b[0m eta \u001b[36m0:00:00\u001b[0m\n",
            "\u001b[2K   \u001b[90m━━━━━━━━━━━━━━━━━━━━━━━━━━━━━━━━━━━━━━━━\u001b[0m \u001b[32m1.3/1.3 MB\u001b[0m \u001b[31m58.2 MB/s\u001b[0m eta \u001b[36m0:00:00\u001b[0m\n",
            "\u001b[2K   \u001b[90m━━━━━━━━━━━━━━━━━━━━━━━━━━━━━━━━━━━━━━━━\u001b[0m \u001b[32m45.9/45.9 kB\u001b[0m \u001b[31m3.1 MB/s\u001b[0m eta \u001b[36m0:00:00\u001b[0m\n",
            "\u001b[2K   \u001b[90m━━━━━━━━━━━━━━━━━━━━━━━━━━━━━━━━━━━━━━━━\u001b[0m \u001b[32m2.9/2.9 MB\u001b[0m \u001b[31m72.1 MB/s\u001b[0m eta \u001b[36m0:00:00\u001b[0m\n",
            "\u001b[?25h  Building wheel for dash-colorscales (setup.py) ... \u001b[?25l\u001b[?25hdone\n",
            "  Building wheel for dash-daq (setup.py) ... \u001b[?25l\u001b[?25hdone\n",
            "\u001b[2K     \u001b[90m━━━━━━━━━━━━━━━━━━━━━━━━━━━━━━━━━━━━━━━━\u001b[0m \u001b[32m55.6/55.6 kB\u001b[0m \u001b[31m4.0 MB/s\u001b[0m eta \u001b[36m0:00:00\u001b[0m\n",
            "\u001b[?25h  Preparing metadata (setup.py) ... \u001b[?25l\u001b[?25hdone\n",
            "  Preparing metadata (setup.py) ... \u001b[?25l\u001b[?25hdone\n",
            "\u001b[2K   \u001b[90m━━━━━━━━━━━━━━━━━━━━━━━━━━━━━━━━━━━━━━━━\u001b[0m \u001b[32m66.4/66.4 kB\u001b[0m \u001b[31m5.3 MB/s\u001b[0m eta \u001b[36m0:00:00\u001b[0m\n",
            "\u001b[2K   \u001b[90m━━━━━━━━━━━━━━━━━━━━━━━━━━━━━━━━━━━━━━━━\u001b[0m \u001b[32m201.1/201.1 kB\u001b[0m \u001b[31m15.9 MB/s\u001b[0m eta \u001b[36m0:00:00\u001b[0m\n",
            "\u001b[2K   \u001b[90m━━━━━━━━━━━━━━━━━━━━━━━━━━━━━━━━━━━━━━━━\u001b[0m \u001b[32m9.5/9.5 MB\u001b[0m \u001b[31m104.1 MB/s\u001b[0m eta \u001b[36m0:00:00\u001b[0m\n",
            "\u001b[2K   \u001b[90m━━━━━━━━━━━━━━━━━━━━━━━━━━━━━━━━━━━━━━━━\u001b[0m \u001b[32m7.7/7.7 MB\u001b[0m \u001b[31m103.5 MB/s\u001b[0m eta \u001b[36m0:00:00\u001b[0m\n",
            "\u001b[2K   \u001b[90m━━━━━━━━━━━━━━━━━━━━━━━━━━━━━━━━━━━━━━━━\u001b[0m \u001b[32m121.1/121.1 kB\u001b[0m \u001b[31m10.3 MB/s\u001b[0m eta \u001b[36m0:00:00\u001b[0m\n",
            "\u001b[2K   \u001b[90m━━━━━━━━━━━━━━━━━━━━━━━━━━━━━━━━━━━━━━━━\u001b[0m \u001b[32m486.3/486.3 kB\u001b[0m \u001b[31m31.0 MB/s\u001b[0m eta \u001b[36m0:00:00\u001b[0m\n",
            "\u001b[?25h  Building wheel for bibtexparser (setup.py) ... \u001b[?25l\u001b[?25hdone\n",
            "  Building wheel for free-proxy (setup.py) ... \u001b[?25l\u001b[?25hdone\n"
          ]
        }
      ]
    },
    {
      "cell_type": "code",
      "execution_count": 4,
      "metadata": {
        "id": "p_6PS_h1mfGd"
      },
      "outputs": [],
      "source": [
        "import schemdraw\n",
        "from schemdraw.flow import *"
      ]
    },
    {
      "cell_type": "code",
      "execution_count": null,
      "metadata": {
        "id": "qRYybzPWmfGg",
        "outputId": "c0684566-65b2-405b-dd06-d067d1c85cbe",
        "colab": {
          "base_uri": "https://localhost:8080/",
          "height": 294
        }
      },
      "outputs": [
        {
          "output_type": "display_data",
          "data": {
            "text/plain": [
              "<schemdraw.backends.mpl.Figure object at 0x7f89c291f430>"
            ],
            "image/svg+xml": "<?xml version=\"1.0\" encoding=\"utf-8\" standalone=\"no\"?>\n<!DOCTYPE svg PUBLIC \"-//W3C//DTD SVG 1.1//EN\"\n  \"http://www.w3.org/Graphics/SVG/1.1/DTD/svg11.dtd\">\n<svg xmlns:xlink=\"http://www.w3.org/1999/xlink\" width=\"632.425694pt\" height=\"204.12pt\" viewBox=\"0 0 632.425694 204.12\" xmlns=\"http://www.w3.org/2000/svg\" version=\"1.1\">\n <metadata>\n  <rdf:RDF xmlns:dc=\"http://purl.org/dc/elements/1.1/\" xmlns:cc=\"http://creativecommons.org/ns#\" xmlns:rdf=\"http://www.w3.org/1999/02/22-rdf-syntax-ns#\">\n   <cc:Work>\n    <dc:type rdf:resource=\"http://purl.org/dc/dcmitype/StillImage\"/>\n    <dc:date>2022-12-19T15:31:15.483180</dc:date>\n    <dc:format>image/svg+xml</dc:format>\n    <dc:creator>\n     <cc:Agent>\n      <dc:title>Matplotlib v3.6.0, https://matplotlib.org/</dc:title>\n     </cc:Agent>\n    </dc:creator>\n   </cc:Work>\n  </rdf:RDF>\n </metadata>\n <defs>\n  <style type=\"text/css\">*{stroke-linejoin: round; stroke-linecap: butt}</style>\n </defs>\n <g id=\"figure_1\">\n  <g id=\"patch_1\">\n   <path d=\"M 0 204.12 \nL 632.425694 204.12 \nL 632.425694 0 \nL 0 0 \nz\n\" style=\"fill: #ffffff\"/>\n  </g>\n  <g id=\"axes_1\">\n   <g id=\"patch_2\">\n    <path d=\"M 193.765694 102.06 \nL 316.165694 10.26 \nL 438.565694 102.06 \nL 316.165694 193.86 \nL 193.765694 102.06 \nz\n\" clip-path=\"url(#pcc69c8ecb8)\" style=\"fill: none; stroke: #000000; stroke-width: 2; stroke-linecap: round\"/>\n   </g>\n   <g id=\"line2d_1\">\n    <path d=\"M 438.565694 102.06 \nL 484.465694 102.06 \nL 522.715694 102.06 \n\" clip-path=\"url(#pcc69c8ecb8)\" style=\"fill: none; stroke: #000000; stroke-width: 2; stroke-linecap: round\"/>\n   </g>\n   <g id=\"patch_3\">\n    <path d=\"M 522.715694 99.765 \nL 530.365694 102.06 \nL 522.715694 104.355 \nz\n\" clip-path=\"url(#pcc69c8ecb8)\"/>\n   </g>\n   <g id=\"line2d_2\">\n    <path d=\"M 622.165694 102.06 \nL 621.788855 98.146959 \nL 620.664528 94.29817 \nL 618.811173 90.57683 \nL 616.259222 87.044043 \nL 613.050579 83.757818 \nL 609.237929 80.772114 \nL 604.883875 78.135957 \nL 600.059912 75.892631 \nL 594.845249 74.078974 \nL 589.32551 72.724764 \nL 583.591329 71.852237 \nL 577.736861 71.475722 \nL 571.858237 71.601399 \nL 566.051983 72.227206 \nL 560.413438 73.342866 \nL 555.035186 74.930061 \nL 550.005539 76.962729 \nL 545.407083 79.407493 \nL 541.315324 82.224211 \nL 537.79745 85.366632 \nL 534.911222 88.783158 \nL 532.704035 92.417689 \nL 531.212128 96.210546 \nL 530.46 100.099451 \nL 530.46 104.020549 \nL 531.212128 107.909454 \nL 532.704035 111.702311 \nL 534.911222 115.336842 \nL 537.79745 118.753368 \nL 541.315324 121.895789 \nL 545.407083 124.712507 \nL 550.005539 127.157271 \nL 555.035186 129.189939 \nL 560.413438 130.777134 \nL 566.051983 131.892794 \nL 571.858237 132.518601 \nL 577.736861 132.644278 \nL 583.591329 132.267763 \nL 589.32551 131.395236 \nL 594.845249 130.041026 \nL 600.059912 128.227369 \nL 604.883875 125.984043 \nL 609.237929 123.347886 \nL 613.050579 120.362182 \nL 616.259222 117.075957 \nL 618.811173 113.54317 \nL 620.664528 109.82183 \nL 621.788855 105.973041 \nL 622.165694 102.06 \n\" clip-path=\"url(#pcc69c8ecb8)\" style=\"fill: none; stroke: #000000; stroke-width: 2; stroke-linecap: round\"/>\n   </g>\n   <g id=\"line2d_3\">\n    <path d=\"M 193.765694 102.06 \nL 147.865694 102.06 \nL 109.615694 102.06 \n\" clip-path=\"url(#pcc69c8ecb8)\" style=\"fill: none; stroke: #000000; stroke-width: 2; stroke-linecap: round\"/>\n   </g>\n   <g id=\"patch_4\">\n    <path d=\"M 109.615694 104.355 \nL 101.965694 102.06 \nL 109.615694 99.765 \nz\n\" clip-path=\"url(#pcc69c8ecb8)\"/>\n   </g>\n   <g id=\"line2d_4\">\n    <path d=\"M 101.965694 102.06 \nL 101.588855 98.146959 \nL 100.464528 94.29817 \nL 98.611173 90.57683 \nL 96.059222 87.044043 \nL 92.850579 83.757818 \nL 89.037929 80.772114 \nL 84.683875 78.135957 \nL 79.859912 75.892631 \nL 74.645249 74.078974 \nL 69.12551 72.724764 \nL 63.391329 71.852237 \nL 57.536861 71.475722 \nL 51.658237 71.601399 \nL 45.851983 72.227206 \nL 40.213438 73.342866 \nL 34.835186 74.930061 \nL 29.805539 76.962729 \nL 25.207083 79.407493 \nL 21.115324 82.224211 \nL 17.59745 85.366632 \nL 14.711222 88.783158 \nL 12.504035 92.417689 \nL 11.012128 96.210546 \nL 10.26 100.099451 \nL 10.26 104.020549 \nL 11.012128 107.909454 \nL 12.504035 111.702311 \nL 14.711222 115.336842 \nL 17.59745 118.753368 \nL 21.115324 121.895789 \nL 25.207083 124.712507 \nL 29.805539 127.157271 \nL 34.835186 129.189939 \nL 40.213438 130.777134 \nL 45.851983 131.892794 \nL 51.658237 132.518601 \nL 57.536861 132.644278 \nL 63.391329 132.267763 \nL 69.12551 131.395236 \nL 74.645249 130.041026 \nL 79.859912 128.227369 \nL 84.683875 125.984043 \nL 89.037929 123.347886 \nL 92.850579 120.362182 \nL 96.059222 117.075957 \nL 98.611173 113.54317 \nL 100.464528 109.82183 \nL 101.588855 105.973041 \nL 101.965694 102.06 \n\" clip-path=\"url(#pcc69c8ecb8)\" style=\"fill: none; stroke: #000000; stroke-width: 2; stroke-linecap: round\"/>\n   </g>\n   <g id=\"text_1\">\n    <g clip-path=\"url(#pcc69c8ecb8)\">\n     <!-- False -->\n     <g transform=\"translate(442.543694 95.482391) scale(0.125 -0.125)\">\n      <defs>\n       <path id=\"DejaVuSans-46\" d=\"M 628 4666 \nL 3309 4666 \nL 3309 4134 \nL 1259 4134 \nL 1259 2759 \nL 3109 2759 \nL 3109 2228 \nL 1259 2228 \nL 1259 0 \nL 628 0 \nL 628 4666 \nz\n\" transform=\"scale(0.015625)\"/>\n       <path id=\"DejaVuSans-61\" d=\"M 2194 1759 \nQ 1497 1759 1228 1600 \nQ 959 1441 959 1056 \nQ 959 750 1161 570 \nQ 1363 391 1709 391 \nQ 2188 391 2477 730 \nQ 2766 1069 2766 1631 \nL 2766 1759 \nL 2194 1759 \nz\nM 3341 1997 \nL 3341 0 \nL 2766 0 \nL 2766 531 \nQ 2569 213 2275 61 \nQ 1981 -91 1556 -91 \nQ 1019 -91 701 211 \nQ 384 513 384 1019 \nQ 384 1609 779 1909 \nQ 1175 2209 1959 2209 \nL 2766 2209 \nL 2766 2266 \nQ 2766 2663 2505 2880 \nQ 2244 3097 1772 3097 \nQ 1472 3097 1187 3025 \nQ 903 2953 641 2809 \nL 641 3341 \nQ 956 3463 1253 3523 \nQ 1550 3584 1831 3584 \nQ 2591 3584 2966 3190 \nQ 3341 2797 3341 1997 \nz\n\" transform=\"scale(0.015625)\"/>\n       <path id=\"DejaVuSans-6c\" d=\"M 603 4863 \nL 1178 4863 \nL 1178 0 \nL 603 0 \nL 603 4863 \nz\n\" transform=\"scale(0.015625)\"/>\n       <path id=\"DejaVuSans-73\" d=\"M 2834 3397 \nL 2834 2853 \nQ 2591 2978 2328 3040 \nQ 2066 3103 1784 3103 \nQ 1356 3103 1142 2972 \nQ 928 2841 928 2578 \nQ 928 2378 1081 2264 \nQ 1234 2150 1697 2047 \nL 1894 2003 \nQ 2506 1872 2764 1633 \nQ 3022 1394 3022 966 \nQ 3022 478 2636 193 \nQ 2250 -91 1575 -91 \nQ 1294 -91 989 -36 \nQ 684 19 347 128 \nL 347 722 \nQ 666 556 975 473 \nQ 1284 391 1588 391 \nQ 1994 391 2212 530 \nQ 2431 669 2431 922 \nQ 2431 1156 2273 1281 \nQ 2116 1406 1581 1522 \nL 1381 1569 \nQ 847 1681 609 1914 \nQ 372 2147 372 2553 \nQ 372 3047 722 3315 \nQ 1072 3584 1716 3584 \nQ 2034 3584 2315 3537 \nQ 2597 3491 2834 3397 \nz\n\" transform=\"scale(0.015625)\"/>\n       <path id=\"DejaVuSans-65\" d=\"M 3597 1894 \nL 3597 1613 \nL 953 1613 \nQ 991 1019 1311 708 \nQ 1631 397 2203 397 \nQ 2534 397 2845 478 \nQ 3156 559 3463 722 \nL 3463 178 \nQ 3153 47 2828 -22 \nQ 2503 -91 2169 -91 \nQ 1331 -91 842 396 \nQ 353 884 353 1716 \nQ 353 2575 817 3079 \nQ 1281 3584 2069 3584 \nQ 2775 3584 3186 3129 \nQ 3597 2675 3597 1894 \nz\nM 3022 2063 \nQ 3016 2534 2758 2815 \nQ 2500 3097 2075 3097 \nQ 1594 3097 1305 2825 \nQ 1016 2553 972 2059 \nL 3022 2063 \nz\n\" transform=\"scale(0.015625)\"/>\n      </defs>\n      <use xlink:href=\"#DejaVuSans-46\"/>\n      <use xlink:href=\"#DejaVuSans-61\" x=\"48.394531\"/>\n      <use xlink:href=\"#DejaVuSans-6c\" x=\"109.673828\"/>\n      <use xlink:href=\"#DejaVuSans-73\" x=\"137.457031\"/>\n      <use xlink:href=\"#DejaVuSans-65\" x=\"189.556641\"/>\n     </g>\n    </g>\n   </g>\n   <g id=\"text_2\">\n    <g clip-path=\"url(#pcc69c8ecb8)\">\n     <!-- True -->\n     <g transform=\"translate(163.244725 95.482391) scale(0.125 -0.125)\">\n      <defs>\n       <path id=\"DejaVuSans-54\" d=\"M -19 4666 \nL 3928 4666 \nL 3928 4134 \nL 2272 4134 \nL 2272 0 \nL 1638 0 \nL 1638 4134 \nL -19 4134 \nL -19 4666 \nz\n\" transform=\"scale(0.015625)\"/>\n       <path id=\"DejaVuSans-72\" d=\"M 2631 2963 \nQ 2534 3019 2420 3045 \nQ 2306 3072 2169 3072 \nQ 1681 3072 1420 2755 \nQ 1159 2438 1159 1844 \nL 1159 0 \nL 581 0 \nL 581 3500 \nL 1159 3500 \nL 1159 2956 \nQ 1341 3275 1631 3429 \nQ 1922 3584 2338 3584 \nQ 2397 3584 2469 3576 \nQ 2541 3569 2628 3553 \nL 2631 2963 \nz\n\" transform=\"scale(0.015625)\"/>\n       <path id=\"DejaVuSans-75\" d=\"M 544 1381 \nL 544 3500 \nL 1119 3500 \nL 1119 1403 \nQ 1119 906 1312 657 \nQ 1506 409 1894 409 \nQ 2359 409 2629 706 \nQ 2900 1003 2900 1516 \nL 2900 3500 \nL 3475 3500 \nL 3475 0 \nL 2900 0 \nL 2900 538 \nQ 2691 219 2414 64 \nQ 2138 -91 1772 -91 \nQ 1169 -91 856 284 \nQ 544 659 544 1381 \nz\nM 1991 3584 \nL 1991 3584 \nz\n\" transform=\"scale(0.015625)\"/>\n      </defs>\n      <use xlink:href=\"#DejaVuSans-54\"/>\n      <use xlink:href=\"#DejaVuSans-72\" x=\"46.333984\"/>\n      <use xlink:href=\"#DejaVuSans-75\" x=\"87.447266\"/>\n      <use xlink:href=\"#DejaVuSans-65\" x=\"150.826172\"/>\n     </g>\n    </g>\n   </g>\n   <g id=\"text_3\">\n    <g clip-path=\"url(#pcc69c8ecb8)\">\n     <!-- Does the article study -->\n     <g transform=\"translate(247.273115 84.51332) scale(0.125 -0.125)\">\n      <defs>\n       <path id=\"DejaVuSans-44\" d=\"M 1259 4147 \nL 1259 519 \nL 2022 519 \nQ 2988 519 3436 956 \nQ 3884 1394 3884 2338 \nQ 3884 3275 3436 3711 \nQ 2988 4147 2022 4147 \nL 1259 4147 \nz\nM 628 4666 \nL 1925 4666 \nQ 3281 4666 3915 4102 \nQ 4550 3538 4550 2338 \nQ 4550 1131 3912 565 \nQ 3275 0 1925 0 \nL 628 0 \nL 628 4666 \nz\n\" transform=\"scale(0.015625)\"/>\n       <path id=\"DejaVuSans-6f\" d=\"M 1959 3097 \nQ 1497 3097 1228 2736 \nQ 959 2375 959 1747 \nQ 959 1119 1226 758 \nQ 1494 397 1959 397 \nQ 2419 397 2687 759 \nQ 2956 1122 2956 1747 \nQ 2956 2369 2687 2733 \nQ 2419 3097 1959 3097 \nz\nM 1959 3584 \nQ 2709 3584 3137 3096 \nQ 3566 2609 3566 1747 \nQ 3566 888 3137 398 \nQ 2709 -91 1959 -91 \nQ 1206 -91 779 398 \nQ 353 888 353 1747 \nQ 353 2609 779 3096 \nQ 1206 3584 1959 3584 \nz\n\" transform=\"scale(0.015625)\"/>\n       <path id=\"DejaVuSans-20\" transform=\"scale(0.015625)\"/>\n       <path id=\"DejaVuSans-74\" d=\"M 1172 4494 \nL 1172 3500 \nL 2356 3500 \nL 2356 3053 \nL 1172 3053 \nL 1172 1153 \nQ 1172 725 1289 603 \nQ 1406 481 1766 481 \nL 2356 481 \nL 2356 0 \nL 1766 0 \nQ 1100 0 847 248 \nQ 594 497 594 1153 \nL 594 3053 \nL 172 3053 \nL 172 3500 \nL 594 3500 \nL 594 4494 \nL 1172 4494 \nz\n\" transform=\"scale(0.015625)\"/>\n       <path id=\"DejaVuSans-68\" d=\"M 3513 2113 \nL 3513 0 \nL 2938 0 \nL 2938 2094 \nQ 2938 2591 2744 2837 \nQ 2550 3084 2163 3084 \nQ 1697 3084 1428 2787 \nQ 1159 2491 1159 1978 \nL 1159 0 \nL 581 0 \nL 581 4863 \nL 1159 4863 \nL 1159 2956 \nQ 1366 3272 1645 3428 \nQ 1925 3584 2291 3584 \nQ 2894 3584 3203 3211 \nQ 3513 2838 3513 2113 \nz\n\" transform=\"scale(0.015625)\"/>\n       <path id=\"DejaVuSans-69\" d=\"M 603 3500 \nL 1178 3500 \nL 1178 0 \nL 603 0 \nL 603 3500 \nz\nM 603 4863 \nL 1178 4863 \nL 1178 4134 \nL 603 4134 \nL 603 4863 \nz\n\" transform=\"scale(0.015625)\"/>\n       <path id=\"DejaVuSans-63\" d=\"M 3122 3366 \nL 3122 2828 \nQ 2878 2963 2633 3030 \nQ 2388 3097 2138 3097 \nQ 1578 3097 1268 2742 \nQ 959 2388 959 1747 \nQ 959 1106 1268 751 \nQ 1578 397 2138 397 \nQ 2388 397 2633 464 \nQ 2878 531 3122 666 \nL 3122 134 \nQ 2881 22 2623 -34 \nQ 2366 -91 2075 -91 \nQ 1284 -91 818 406 \nQ 353 903 353 1747 \nQ 353 2603 823 3093 \nQ 1294 3584 2113 3584 \nQ 2378 3584 2631 3529 \nQ 2884 3475 3122 3366 \nz\n\" transform=\"scale(0.015625)\"/>\n       <path id=\"DejaVuSans-64\" d=\"M 2906 2969 \nL 2906 4863 \nL 3481 4863 \nL 3481 0 \nL 2906 0 \nL 2906 525 \nQ 2725 213 2448 61 \nQ 2172 -91 1784 -91 \nQ 1150 -91 751 415 \nQ 353 922 353 1747 \nQ 353 2572 751 3078 \nQ 1150 3584 1784 3584 \nQ 2172 3584 2448 3432 \nQ 2725 3281 2906 2969 \nz\nM 947 1747 \nQ 947 1113 1208 752 \nQ 1469 391 1925 391 \nQ 2381 391 2643 752 \nQ 2906 1113 2906 1747 \nQ 2906 2381 2643 2742 \nQ 2381 3103 1925 3103 \nQ 1469 3103 1208 2742 \nQ 947 2381 947 1747 \nz\n\" transform=\"scale(0.015625)\"/>\n       <path id=\"DejaVuSans-79\" d=\"M 2059 -325 \nQ 1816 -950 1584 -1140 \nQ 1353 -1331 966 -1331 \nL 506 -1331 \nL 506 -850 \nL 844 -850 \nQ 1081 -850 1212 -737 \nQ 1344 -625 1503 -206 \nL 1606 56 \nL 191 3500 \nL 800 3500 \nL 1894 763 \nL 2988 3500 \nL 3597 3500 \nL 2059 -325 \nz\n\" transform=\"scale(0.015625)\"/>\n      </defs>\n      <use xlink:href=\"#DejaVuSans-44\"/>\n      <use xlink:href=\"#DejaVuSans-6f\" x=\"77.001953\"/>\n      <use xlink:href=\"#DejaVuSans-65\" x=\"138.183594\"/>\n      <use xlink:href=\"#DejaVuSans-73\" x=\"199.707031\"/>\n      <use xlink:href=\"#DejaVuSans-20\" x=\"251.806641\"/>\n      <use xlink:href=\"#DejaVuSans-74\" x=\"283.59375\"/>\n      <use xlink:href=\"#DejaVuSans-68\" x=\"322.802734\"/>\n      <use xlink:href=\"#DejaVuSans-65\" x=\"386.181641\"/>\n      <use xlink:href=\"#DejaVuSans-20\" x=\"447.705078\"/>\n      <use xlink:href=\"#DejaVuSans-61\" x=\"479.492188\"/>\n      <use xlink:href=\"#DejaVuSans-72\" x=\"540.771484\"/>\n      <use xlink:href=\"#DejaVuSans-74\" x=\"581.884766\"/>\n      <use xlink:href=\"#DejaVuSans-69\" x=\"621.09375\"/>\n      <use xlink:href=\"#DejaVuSans-63\" x=\"648.876953\"/>\n      <use xlink:href=\"#DejaVuSans-6c\" x=\"703.857422\"/>\n      <use xlink:href=\"#DejaVuSans-65\" x=\"731.640625\"/>\n      <use xlink:href=\"#DejaVuSans-20\" x=\"793.164062\"/>\n      <use xlink:href=\"#DejaVuSans-73\" x=\"824.951172\"/>\n      <use xlink:href=\"#DejaVuSans-74\" x=\"877.050781\"/>\n      <use xlink:href=\"#DejaVuSans-75\" x=\"916.259766\"/>\n      <use xlink:href=\"#DejaVuSans-64\" x=\"979.638672\"/>\n      <use xlink:href=\"#DejaVuSans-79\" x=\"1043.115234\"/>\n     </g>\n    </g>\n    <g clip-path=\"url(#pcc69c8ecb8)\">\n     <!-- Asthma and/or Rhinitis Allergic -->\n     <g transform=\"translate(219.714522 98.510586) scale(0.125 -0.125)\">\n      <defs>\n       <path id=\"DejaVuSans-41\" d=\"M 2188 4044 \nL 1331 1722 \nL 3047 1722 \nL 2188 4044 \nz\nM 1831 4666 \nL 2547 4666 \nL 4325 0 \nL 3669 0 \nL 3244 1197 \nL 1141 1197 \nL 716 0 \nL 50 0 \nL 1831 4666 \nz\n\" transform=\"scale(0.015625)\"/>\n       <path id=\"DejaVuSans-6d\" d=\"M 3328 2828 \nQ 3544 3216 3844 3400 \nQ 4144 3584 4550 3584 \nQ 5097 3584 5394 3201 \nQ 5691 2819 5691 2113 \nL 5691 0 \nL 5113 0 \nL 5113 2094 \nQ 5113 2597 4934 2840 \nQ 4756 3084 4391 3084 \nQ 3944 3084 3684 2787 \nQ 3425 2491 3425 1978 \nL 3425 0 \nL 2847 0 \nL 2847 2094 \nQ 2847 2600 2669 2842 \nQ 2491 3084 2119 3084 \nQ 1678 3084 1418 2786 \nQ 1159 2488 1159 1978 \nL 1159 0 \nL 581 0 \nL 581 3500 \nL 1159 3500 \nL 1159 2956 \nQ 1356 3278 1631 3431 \nQ 1906 3584 2284 3584 \nQ 2666 3584 2933 3390 \nQ 3200 3197 3328 2828 \nz\n\" transform=\"scale(0.015625)\"/>\n       <path id=\"DejaVuSans-6e\" d=\"M 3513 2113 \nL 3513 0 \nL 2938 0 \nL 2938 2094 \nQ 2938 2591 2744 2837 \nQ 2550 3084 2163 3084 \nQ 1697 3084 1428 2787 \nQ 1159 2491 1159 1978 \nL 1159 0 \nL 581 0 \nL 581 3500 \nL 1159 3500 \nL 1159 2956 \nQ 1366 3272 1645 3428 \nQ 1925 3584 2291 3584 \nQ 2894 3584 3203 3211 \nQ 3513 2838 3513 2113 \nz\n\" transform=\"scale(0.015625)\"/>\n       <path id=\"DejaVuSans-2f\" d=\"M 1625 4666 \nL 2156 4666 \nL 531 -594 \nL 0 -594 \nL 1625 4666 \nz\n\" transform=\"scale(0.015625)\"/>\n       <path id=\"DejaVuSans-52\" d=\"M 2841 2188 \nQ 3044 2119 3236 1894 \nQ 3428 1669 3622 1275 \nL 4263 0 \nL 3584 0 \nL 2988 1197 \nQ 2756 1666 2539 1819 \nQ 2322 1972 1947 1972 \nL 1259 1972 \nL 1259 0 \nL 628 0 \nL 628 4666 \nL 2053 4666 \nQ 2853 4666 3247 4331 \nQ 3641 3997 3641 3322 \nQ 3641 2881 3436 2590 \nQ 3231 2300 2841 2188 \nz\nM 1259 4147 \nL 1259 2491 \nL 2053 2491 \nQ 2509 2491 2742 2702 \nQ 2975 2913 2975 3322 \nQ 2975 3731 2742 3939 \nQ 2509 4147 2053 4147 \nL 1259 4147 \nz\n\" transform=\"scale(0.015625)\"/>\n       <path id=\"DejaVuSans-67\" d=\"M 2906 1791 \nQ 2906 2416 2648 2759 \nQ 2391 3103 1925 3103 \nQ 1463 3103 1205 2759 \nQ 947 2416 947 1791 \nQ 947 1169 1205 825 \nQ 1463 481 1925 481 \nQ 2391 481 2648 825 \nQ 2906 1169 2906 1791 \nz\nM 3481 434 \nQ 3481 -459 3084 -895 \nQ 2688 -1331 1869 -1331 \nQ 1566 -1331 1297 -1286 \nQ 1028 -1241 775 -1147 \nL 775 -588 \nQ 1028 -725 1275 -790 \nQ 1522 -856 1778 -856 \nQ 2344 -856 2625 -561 \nQ 2906 -266 2906 331 \nL 2906 616 \nQ 2728 306 2450 153 \nQ 2172 0 1784 0 \nQ 1141 0 747 490 \nQ 353 981 353 1791 \nQ 353 2603 747 3093 \nQ 1141 3584 1784 3584 \nQ 2172 3584 2450 3431 \nQ 2728 3278 2906 2969 \nL 2906 3500 \nL 3481 3500 \nL 3481 434 \nz\n\" transform=\"scale(0.015625)\"/>\n      </defs>\n      <use xlink:href=\"#DejaVuSans-41\"/>\n      <use xlink:href=\"#DejaVuSans-73\" x=\"68.408203\"/>\n      <use xlink:href=\"#DejaVuSans-74\" x=\"120.507812\"/>\n      <use xlink:href=\"#DejaVuSans-68\" x=\"159.716797\"/>\n      <use xlink:href=\"#DejaVuSans-6d\" x=\"223.095703\"/>\n      <use xlink:href=\"#DejaVuSans-61\" x=\"320.507812\"/>\n      <use xlink:href=\"#DejaVuSans-20\" x=\"381.787109\"/>\n      <use xlink:href=\"#DejaVuSans-61\" x=\"413.574219\"/>\n      <use xlink:href=\"#DejaVuSans-6e\" x=\"474.853516\"/>\n      <use xlink:href=\"#DejaVuSans-64\" x=\"538.232422\"/>\n      <use xlink:href=\"#DejaVuSans-2f\" x=\"601.708984\"/>\n      <use xlink:href=\"#DejaVuSans-6f\" x=\"635.400391\"/>\n      <use xlink:href=\"#DejaVuSans-72\" x=\"696.582031\"/>\n      <use xlink:href=\"#DejaVuSans-20\" x=\"737.695312\"/>\n      <use xlink:href=\"#DejaVuSans-52\" x=\"769.482422\"/>\n      <use xlink:href=\"#DejaVuSans-68\" x=\"838.964844\"/>\n      <use xlink:href=\"#DejaVuSans-69\" x=\"902.34375\"/>\n      <use xlink:href=\"#DejaVuSans-6e\" x=\"930.126953\"/>\n      <use xlink:href=\"#DejaVuSans-69\" x=\"993.505859\"/>\n      <use xlink:href=\"#DejaVuSans-74\" x=\"1021.289062\"/>\n      <use xlink:href=\"#DejaVuSans-69\" x=\"1060.498047\"/>\n      <use xlink:href=\"#DejaVuSans-73\" x=\"1088.28125\"/>\n      <use xlink:href=\"#DejaVuSans-20\" x=\"1140.380859\"/>\n      <use xlink:href=\"#DejaVuSans-41\" x=\"1172.167969\"/>\n      <use xlink:href=\"#DejaVuSans-6c\" x=\"1240.576172\"/>\n      <use xlink:href=\"#DejaVuSans-6c\" x=\"1268.359375\"/>\n      <use xlink:href=\"#DejaVuSans-65\" x=\"1296.142578\"/>\n      <use xlink:href=\"#DejaVuSans-72\" x=\"1357.666016\"/>\n      <use xlink:href=\"#DejaVuSans-67\" x=\"1397.029297\"/>\n      <use xlink:href=\"#DejaVuSans-69\" x=\"1460.505859\"/>\n      <use xlink:href=\"#DejaVuSans-63\" x=\"1488.289062\"/>\n     </g>\n    </g>\n    <g clip-path=\"url(#pcc69c8ecb8)\">\n     <!-- and Outdoor Air Quality -->\n     <g transform=\"translate(242.017256 112.507852) scale(0.125 -0.125)\">\n      <defs>\n       <path id=\"DejaVuSans-4f\" d=\"M 2522 4238 \nQ 1834 4238 1429 3725 \nQ 1025 3213 1025 2328 \nQ 1025 1447 1429 934 \nQ 1834 422 2522 422 \nQ 3209 422 3611 934 \nQ 4013 1447 4013 2328 \nQ 4013 3213 3611 3725 \nQ 3209 4238 2522 4238 \nz\nM 2522 4750 \nQ 3503 4750 4090 4092 \nQ 4678 3434 4678 2328 \nQ 4678 1225 4090 567 \nQ 3503 -91 2522 -91 \nQ 1538 -91 948 565 \nQ 359 1222 359 2328 \nQ 359 3434 948 4092 \nQ 1538 4750 2522 4750 \nz\n\" transform=\"scale(0.015625)\"/>\n       <path id=\"DejaVuSans-51\" d=\"M 2522 4238 \nQ 1834 4238 1429 3725 \nQ 1025 3213 1025 2328 \nQ 1025 1447 1429 934 \nQ 1834 422 2522 422 \nQ 3209 422 3611 934 \nQ 4013 1447 4013 2328 \nQ 4013 3213 3611 3725 \nQ 3209 4238 2522 4238 \nz\nM 3406 84 \nL 4238 -825 \nL 3475 -825 \nL 2784 -78 \nQ 2681 -84 2626 -87 \nQ 2572 -91 2522 -91 \nQ 1538 -91 948 567 \nQ 359 1225 359 2328 \nQ 359 3434 948 4092 \nQ 1538 4750 2522 4750 \nQ 3503 4750 4090 4092 \nQ 4678 3434 4678 2328 \nQ 4678 1516 4351 937 \nQ 4025 359 3406 84 \nz\n\" transform=\"scale(0.015625)\"/>\n      </defs>\n      <use xlink:href=\"#DejaVuSans-61\"/>\n      <use xlink:href=\"#DejaVuSans-6e\" x=\"61.279297\"/>\n      <use xlink:href=\"#DejaVuSans-64\" x=\"124.658203\"/>\n      <use xlink:href=\"#DejaVuSans-20\" x=\"188.134766\"/>\n      <use xlink:href=\"#DejaVuSans-4f\" x=\"219.921875\"/>\n      <use xlink:href=\"#DejaVuSans-75\" x=\"298.632812\"/>\n      <use xlink:href=\"#DejaVuSans-74\" x=\"362.011719\"/>\n      <use xlink:href=\"#DejaVuSans-64\" x=\"401.220703\"/>\n      <use xlink:href=\"#DejaVuSans-6f\" x=\"464.697266\"/>\n      <use xlink:href=\"#DejaVuSans-6f\" x=\"525.878906\"/>\n      <use xlink:href=\"#DejaVuSans-72\" x=\"587.060547\"/>\n      <use xlink:href=\"#DejaVuSans-20\" x=\"628.173828\"/>\n      <use xlink:href=\"#DejaVuSans-41\" x=\"659.960938\"/>\n      <use xlink:href=\"#DejaVuSans-69\" x=\"728.369141\"/>\n      <use xlink:href=\"#DejaVuSans-72\" x=\"756.152344\"/>\n      <use xlink:href=\"#DejaVuSans-20\" x=\"797.265625\"/>\n      <use xlink:href=\"#DejaVuSans-51\" x=\"829.052734\"/>\n      <use xlink:href=\"#DejaVuSans-75\" x=\"907.763672\"/>\n      <use xlink:href=\"#DejaVuSans-61\" x=\"971.142578\"/>\n      <use xlink:href=\"#DejaVuSans-6c\" x=\"1032.421875\"/>\n      <use xlink:href=\"#DejaVuSans-69\" x=\"1060.205078\"/>\n      <use xlink:href=\"#DejaVuSans-74\" x=\"1087.988281\"/>\n      <use xlink:href=\"#DejaVuSans-79\" x=\"1127.197266\"/>\n     </g>\n    </g>\n    <g clip-path=\"url(#pcc69c8ecb8)\">\n     <!-- using Remote Sensing? -->\n     <g transform=\"translate(243.183272 126.505117) scale(0.125 -0.125)\">\n      <defs>\n       <path id=\"DejaVuSans-53\" d=\"M 3425 4513 \nL 3425 3897 \nQ 3066 4069 2747 4153 \nQ 2428 4238 2131 4238 \nQ 1616 4238 1336 4038 \nQ 1056 3838 1056 3469 \nQ 1056 3159 1242 3001 \nQ 1428 2844 1947 2747 \nL 2328 2669 \nQ 3034 2534 3370 2195 \nQ 3706 1856 3706 1288 \nQ 3706 609 3251 259 \nQ 2797 -91 1919 -91 \nQ 1588 -91 1214 -16 \nQ 841 59 441 206 \nL 441 856 \nQ 825 641 1194 531 \nQ 1563 422 1919 422 \nQ 2459 422 2753 634 \nQ 3047 847 3047 1241 \nQ 3047 1584 2836 1778 \nQ 2625 1972 2144 2069 \nL 1759 2144 \nQ 1053 2284 737 2584 \nQ 422 2884 422 3419 \nQ 422 4038 858 4394 \nQ 1294 4750 2059 4750 \nQ 2388 4750 2728 4690 \nQ 3069 4631 3425 4513 \nz\n\" transform=\"scale(0.015625)\"/>\n       <path id=\"DejaVuSans-3f\" d=\"M 1222 794 \nL 1856 794 \nL 1856 0 \nL 1222 0 \nL 1222 794 \nz\nM 1838 1253 \nL 1241 1253 \nL 1241 1734 \nQ 1241 2050 1328 2253 \nQ 1416 2456 1697 2725 \nL 1978 3003 \nQ 2156 3169 2236 3316 \nQ 2316 3463 2316 3616 \nQ 2316 3894 2111 4066 \nQ 1906 4238 1569 4238 \nQ 1322 4238 1042 4128 \nQ 763 4019 459 3809 \nL 459 4397 \nQ 753 4575 1054 4662 \nQ 1356 4750 1678 4750 \nQ 2253 4750 2601 4447 \nQ 2950 4144 2950 3647 \nQ 2950 3409 2837 3195 \nQ 2725 2981 2444 2713 \nL 2169 2444 \nQ 2022 2297 1961 2214 \nQ 1900 2131 1875 2053 \nQ 1856 1988 1847 1894 \nQ 1838 1800 1838 1638 \nL 1838 1253 \nz\n\" transform=\"scale(0.015625)\"/>\n      </defs>\n      <use xlink:href=\"#DejaVuSans-75\"/>\n      <use xlink:href=\"#DejaVuSans-73\" x=\"63.378906\"/>\n      <use xlink:href=\"#DejaVuSans-69\" x=\"115.478516\"/>\n      <use xlink:href=\"#DejaVuSans-6e\" x=\"143.261719\"/>\n      <use xlink:href=\"#DejaVuSans-67\" x=\"206.640625\"/>\n      <use xlink:href=\"#DejaVuSans-20\" x=\"270.117188\"/>\n      <use xlink:href=\"#DejaVuSans-52\" x=\"301.904297\"/>\n      <use xlink:href=\"#DejaVuSans-65\" x=\"366.886719\"/>\n      <use xlink:href=\"#DejaVuSans-6d\" x=\"428.410156\"/>\n      <use xlink:href=\"#DejaVuSans-6f\" x=\"525.822266\"/>\n      <use xlink:href=\"#DejaVuSans-74\" x=\"587.003906\"/>\n      <use xlink:href=\"#DejaVuSans-65\" x=\"626.212891\"/>\n      <use xlink:href=\"#DejaVuSans-20\" x=\"687.736328\"/>\n      <use xlink:href=\"#DejaVuSans-53\" x=\"719.523438\"/>\n      <use xlink:href=\"#DejaVuSans-65\" x=\"783\"/>\n      <use xlink:href=\"#DejaVuSans-6e\" x=\"844.523438\"/>\n      <use xlink:href=\"#DejaVuSans-73\" x=\"907.902344\"/>\n      <use xlink:href=\"#DejaVuSans-69\" x=\"960.001953\"/>\n      <use xlink:href=\"#DejaVuSans-6e\" x=\"987.785156\"/>\n      <use xlink:href=\"#DejaVuSans-67\" x=\"1051.164062\"/>\n      <use xlink:href=\"#DejaVuSans-3f\" x=\"1114.640625\"/>\n     </g>\n    </g>\n   </g>\n   <g id=\"text_4\">\n    <g clip-path=\"url(#pcc69c8ecb8)\">\n     <!-- Rejected -->\n     <g transform=\"translate(549.07624 105.509219) scale(0.125 -0.125)\">\n      <defs>\n       <path id=\"DejaVuSans-6a\" d=\"M 603 3500 \nL 1178 3500 \nL 1178 -63 \nQ 1178 -731 923 -1031 \nQ 669 -1331 103 -1331 \nL -116 -1331 \nL -116 -844 \nL 38 -844 \nQ 366 -844 484 -692 \nQ 603 -541 603 -63 \nL 603 3500 \nz\nM 603 4863 \nL 1178 4863 \nL 1178 4134 \nL 603 4134 \nL 603 4863 \nz\n\" transform=\"scale(0.015625)\"/>\n      </defs>\n      <use xlink:href=\"#DejaVuSans-52\"/>\n      <use xlink:href=\"#DejaVuSans-65\" x=\"64.982422\"/>\n      <use xlink:href=\"#DejaVuSans-6a\" x=\"126.505859\"/>\n      <use xlink:href=\"#DejaVuSans-65\" x=\"154.289062\"/>\n      <use xlink:href=\"#DejaVuSans-63\" x=\"215.8125\"/>\n      <use xlink:href=\"#DejaVuSans-74\" x=\"270.792969\"/>\n      <use xlink:href=\"#DejaVuSans-65\" x=\"310.001953\"/>\n      <use xlink:href=\"#DejaVuSans-64\" x=\"371.525391\"/>\n     </g>\n    </g>\n   </g>\n   <g id=\"text_5\">\n    <g clip-path=\"url(#pcc69c8ecb8)\">\n     <!-- Accepted -->\n     <g transform=\"translate(26.949483 105.509219) scale(0.125 -0.125)\">\n      <defs>\n       <path id=\"DejaVuSans-70\" d=\"M 1159 525 \nL 1159 -1331 \nL 581 -1331 \nL 581 3500 \nL 1159 3500 \nL 1159 2969 \nQ 1341 3281 1617 3432 \nQ 1894 3584 2278 3584 \nQ 2916 3584 3314 3078 \nQ 3713 2572 3713 1747 \nQ 3713 922 3314 415 \nQ 2916 -91 2278 -91 \nQ 1894 -91 1617 61 \nQ 1341 213 1159 525 \nz\nM 3116 1747 \nQ 3116 2381 2855 2742 \nQ 2594 3103 2138 3103 \nQ 1681 3103 1420 2742 \nQ 1159 2381 1159 1747 \nQ 1159 1113 1420 752 \nQ 1681 391 2138 391 \nQ 2594 391 2855 752 \nQ 3116 1113 3116 1747 \nz\n\" transform=\"scale(0.015625)\"/>\n      </defs>\n      <use xlink:href=\"#DejaVuSans-41\"/>\n      <use xlink:href=\"#DejaVuSans-63\" x=\"66.658203\"/>\n      <use xlink:href=\"#DejaVuSans-63\" x=\"121.638672\"/>\n      <use xlink:href=\"#DejaVuSans-65\" x=\"176.619141\"/>\n      <use xlink:href=\"#DejaVuSans-70\" x=\"238.142578\"/>\n      <use xlink:href=\"#DejaVuSans-74\" x=\"301.619141\"/>\n      <use xlink:href=\"#DejaVuSans-65\" x=\"340.828125\"/>\n      <use xlink:href=\"#DejaVuSans-64\" x=\"402.351562\"/>\n     </g>\n    </g>\n   </g>\n  </g>\n </g>\n <defs>\n  <clipPath id=\"pcc69c8ecb8\">\n   <rect x=\"7.2\" y=\"7.2\" width=\"618.025694\" height=\"189.72\"/>\n  </clipPath>\n </defs>\n</svg>\n",
            "image/png": "[encoded data removed]"
          },
          "metadata": {}
        }
      ],
      "source": [
        "with schemdraw.Drawing() as d:\n",
        "\n",
        "    d+= (decision := Decision(w = 8, h= 6,\n",
        "                              E=\"False\",\n",
        "                              W='True'\n",
        "                              ).label(\"Does the article study\\nAsthma and/or Rhinitis Allergic\\nand Outdoor Air Quality\\nusing Remote Sensing?\"))\n",
        "    # if False arrow right from East of decision box\n",
        "    d+= Arrow().right(d.unit).at(decision.E)\n",
        "    # end-rejected\n",
        "    d+= (end := Ellipse().label(\"Rejected\"))\n",
        "    # if True arrow left from West of decision box\n",
        "    d+= Arrow().left(d.unit).at(decision.W)\n",
        "    # end-accepted\n",
        "    d+= (end := Ellipse().label(\"Accepted\"))\n"
      ]
    },
    {
      "cell_type": "markdown",
      "metadata": {
        "id": "x7saHoSamfGi"
      },
      "source": [
        "Based on this question we will build the following search terms for Google Scholar, Scopus, and PubMed from 2013 to 2022.\n",
        "\n",
        "- remote sensing AND air quality: both terms are mandatory in the result.\n",
        "- asthma  OR allergic rhinitis: any of this terms in the result (enclosing both terms inside brackets gives the same result)\n",
        "\n",
        "Exclusion terms:\n",
        "- indoor\n",
        "- COVID\n",
        "- coronavirus\n",
        "- SARS\n",
        "\n",
        "Period:\n",
        "- 2013-2022\n",
        "\n",
        "\n",
        "### **Google Scholar**\n",
        "\n",
        "asthma **and/or** allergic rhinitis **and** remote sensing **and** air quality in the **title** of the article\n",
        "\n",
        "`intitle:asthma OR “allergic rhinitis”  AND “remote sensing” AND “air quality” -indoor -COVID -coronavirus -SARS`\n",
        "\n",
        "This search string generates **172 results**\n",
        "\n",
        "**Note:** Google Scholar does not allow searching inside the abstract and keywords\n",
        "\n",
        "<hr style=\"border:1px solid gray\">\n",
        "\n",
        "### **Scopus**\n",
        "\n",
        "asthma **and/or** allergic rhinitis **and** remote sensing **and** air quality in the **title, abstract, and keywords** of the article\n",
        "\n",
        "`asthma OR “allergic rhinitis” AND \"remote sensing\" AND {air quality} AND NOT indoor OR COVID OR coronavirus OR SARS`\n",
        "\n",
        "This search string generates **18 results**\n",
        "\n",
        "<hr style=\"border:1px solid gray\">\n",
        "\n",
        "### **PubMed**\n",
        "\n",
        "asthma **and/or** allergic rhinitis **and** remote sensing **and** air quality in the **title, and abstract** of the article\n",
        "\n",
        "`(((((((asthma[Title/Abstract]) OR (allergic rhinitis[Title/Abstract])) AND (remote sensing[Title/Abstract])) AND (air quality[Title/Abstract])) NOT (indoor[Title/Abstract])) NOT (COVID[Title/Abstract])) NOT (coronavirus[Title/Abstract])) NOT (SARS[Title/Abstract])`\n",
        "\n",
        "This search string generates **7 results**\n",
        "\n",
        "**Note:** PubMed does not allow searching inside keywords.\n",
        "\n",
        "<hr style=\"border:1px solid gray\">\n",
        "\n",
        "### **Total Number of Articles**\n",
        "\n",
        "Based on the results we will start working with **197 papers**.\n",
        "\n",
        "### **Methodology to get article data**\n",
        "\n",
        "To get article data we will do the following:\n",
        "\n",
        "1. Scrape Google Scholar to get a CSV file containing the following columns: Paper Title, Year, Author, Citation, Publication, Url of paper, and Abstract.\n",
        "\n",
        "2. Get a CSV file from Scopus with the same column names.\n",
        "\n",
        "3. Compare both datasets to detect duplicate titles.\n",
        "\n",
        "4. Read the title and abstract of paper to answer the main research question. This reading will allow us to obtain a dataset of useful papers. Relevant papers will be used for writing our review article.  "
      ]
    },
    {
      "cell_type": "markdown",
      "metadata": {
        "id": "TsV-DnQ5mfGk"
      },
      "source": [
        "## 1. Scraping Google Scholar\n",
        "\n",
        "To scrape Google Scholar we will begin by importing all the required libraries."
      ]
    },
    {
      "cell_type": "code",
      "execution_count": 7,
      "metadata": {
        "id": "5j-QD4JlmfGl"
      },
      "outputs": [],
      "source": [
        "import requests\n",
        "from bs4 import BeautifulSoup\n",
        "from scholarly import scholarly\n",
        "import re\n",
        "import dtale\n",
        "import pandas as pd\n",
        "from time import sleep\n",
        "from urllib.parse import urlencode\n",
        "from scholarly import scholarly, ProxyGenerator, MaxTriesExceededException\n",
        "from getpass import getpass\n",
        "import numpy as np\n",
        "import matplotlib.pyplot as plt"
      ]
    },
    {
      "cell_type": "markdown",
      "metadata": {
        "id": "T_rSyaJ2mfGm"
      },
      "source": [
        "The following function will allow us to set a proxy to scrape Google Scholar so that we can avoid bot detection and blocking."
      ]
    },
    {
      "cell_type": "code",
      "execution_count": null,
      "metadata": {
        "id": "ATMvnWHTmfGn"
      },
      "outputs": [],
      "source": [
        "def set_proxy(proxy_type='NoProxy'):\n",
        "    \"\"\"Set a proxy for to scrape Google Scholar.\n",
        "\n",
        "    Only `NoProxy`, `FreeProxy` and `ScraperAPI` have been tested.\n",
        "\n",
        "    Parameters\n",
        "    ----------\n",
        "    proxy_type : str, optional\n",
        "        Type of proxy to use. Case insensitive. Options are:\n",
        "        `ScraperAPI`, `Luminati`, `FreeProxy`, `SingleProxy` and\n",
        "        `NoProxy` (default).\n",
        "    \"\"\"\n",
        "    if proxy_type.lower() == 'noproxy':\n",
        "        print(\"Using no proxies!\")\n",
        "        return\n",
        "\n",
        "    pg = ProxyGenerator()\n",
        "    if proxy_type.lower() == 'scraperapi':\n",
        "        payload = {'api_key': getpass(\"Enter your ScraperAPI\"), }\n",
        "        proxy_works = pg.ScraperAPI(payload['api_key'])\n",
        "        if proxy_works is True:\n",
        "            print(\"Using ScraperAPI!\")\n",
        "        elif proxy_works is False:\n",
        "            print(\"ScraperAPI is not working!\")\n",
        "        elif proxy_works is None:\n",
        "            print(\"Changes have not been reflected\")\n",
        "        else:\n",
        "            print(\"God knows what is going on\", proxy_works)\n",
        "    elif proxy_type.lower() == 'luminati':\n",
        "        pg.Luminati(getpass(\"Enter your Luminati username:\"), getpass(\"Enter your Luminati password:\"))\n",
        "        print(\"Using Luminati!\")\n",
        "    elif proxy_type.lower() == 'singleproxy':\n",
        "        proxy_address = getpass(\"Enter your proxy address:\")\n",
        "        pg.SingleProxy(proxy_address, proxy_address)\n",
        "        print(f\"Using SingleProxy: {proxy_address}\")\n",
        "    else:\n",
        "        pg.FreeProxies()\n",
        "        print(\"Using FreeProxy!\")\n",
        "\n",
        "    scholarly.use_proxy(pg)"
      ]
    },
    {
      "cell_type": "markdown",
      "metadata": {
        "id": "8Z3jS7IZmfGo"
      },
      "source": [
        "Next, we will set a proxy to scrape Google Scholar so that we can avoid bot detection and blocking."
      ]
    },
    {
      "cell_type": "code",
      "execution_count": null,
      "metadata": {
        "id": "Hk1Yv1VfmfGp",
        "colab": {
          "base_uri": "https://localhost:8080/"
        },
        "outputId": "fec5e807-8235-4bd6-9830-411c6a7e5412"
      },
      "outputs": [
        {
          "output_type": "stream",
          "name": "stdout",
          "text": [
            "Enter your ScraperAPI··········\n",
            "Using ScraperAPI!\n"
          ]
        }
      ],
      "source": [
        "# 037cc6348caa7ecb073bf21738d911a6\n",
        "proxy_type = 'ScraperAPI'\n",
        "set_proxy(proxy_type)"
      ]
    },
    {
      "cell_type": "markdown",
      "metadata": {
        "id": "04RP03AxmfGq"
      },
      "source": [
        "The following function will allow us to scrape each URL resulting from our research terms. The results will be stored in a DataFrame containing all the above columns."
      ]
    },
    {
      "cell_type": "code",
      "execution_count": null,
      "metadata": {
        "id": "FSbaF78umfGq"
      },
      "outputs": [],
      "source": [
        "def scrape_gs(url):\n",
        "\n",
        "    # this function for the getting information of the web page\n",
        "    def get_paperinfo(url):\n",
        "        #download the page\n",
        "        #response=requests.get(url,headers=headers)\n",
        "        params = {'api_key': '037cc6348caa7ecb073bf21738d911a6', 'url': url}\n",
        "        response = requests.get('http://api.scraperapi.com/', params=urlencode(params))\n",
        "\n",
        "        #check successful response\n",
        "        if response.status_code != 200:\n",
        "            print('Status code:', response.status_code)\n",
        "            raise Exception('Failed to fetch web page')\n",
        "\n",
        "        #parse using beautiful soup\n",
        "        paper_doc = BeautifulSoup(response.text,'html.parser')\n",
        "\n",
        "        return paper_doc\n",
        "\n",
        "    doc = get_paperinfo(url)\n",
        "\n",
        "    def get_tags(doc):\n",
        "        cite_tag = []\n",
        "\n",
        "        paper_tag = doc.select('[data-lid]')\n",
        "\n",
        "        for result in doc.select('.gs_ri'):\n",
        "            cited_by = result.select_one('#gs_res_ccl_mid .gs_nph+ a')\n",
        "            cite_tag.append(cited_by)\n",
        "\n",
        "            #cite_tag = doc.select('[data-lid]')\n",
        "            link_tag = doc.find_all('h3',{\"class\" : \"gs_rt\"})\n",
        "\n",
        "            #author_tag = doc.select_one('.gs_scl:nth-child .gs_a  .gs_scl:nth-child .gs_a  .gs_scl:nth-child .gs_a  .gs_scl:nth-child .gs_a  .gs_scl:nth-child .gs_a  .gs_scl:nth-child .gs_a')\n",
        "            author_tag = doc.find_all(\"div\", {\"class\": \"gs_a\"})\n",
        "\n",
        "        return paper_tag,cite_tag,link_tag,author_tag\n",
        "\n",
        "    paper_tag,cite_tag,link_tag,author_tag = get_tags(doc)\n",
        "\n",
        "    # it will return the title of the paper\n",
        "    def get_papertitle(paper_tag):\n",
        "\n",
        "        paper_names = []\n",
        "        paper_names_clean = []\n",
        "\n",
        "        for tag in paper_tag:\n",
        "            paper_names.append(tag.select('h3')[0].get_text())\n",
        "\n",
        "        for title in paper_names:\n",
        "            clean = title.replace('[HTML][HTML] ', '').replace('\\xa0…', '')\n",
        "            paper_names_clean .append(clean)\n",
        "\n",
        "        return paper_names_clean\n",
        "\n",
        "    paper_title = get_papertitle(paper_tag)\n",
        "\n",
        "    # it will return the number of citation of the paper\n",
        "    def get_citecount(cite_tag):\n",
        "        cite_count = []\n",
        "\n",
        "        for i in cite_tag:\n",
        "            cite = i.text\n",
        "            if i is None or cite is None:  # if paper has no citatation then consider 0\n",
        "                cite_count.append(0)\n",
        "            else:\n",
        "                tmp = re.search(r'\\d+', cite) # its handle the None type object error and re use to remove the string \" cited by \" and return only integer value\n",
        "\n",
        "                if tmp is None :\n",
        "                    cite_count.append(0)\n",
        "                else :\n",
        "                    cite_count.append(int(tmp.group()))\n",
        "        return cite_count\n",
        "\n",
        "    paper_cite= get_citecount(cite_tag)\n",
        "\n",
        "    # function for the getting link information\n",
        "    def get_link(link_tag):\n",
        "\n",
        "        links = []\n",
        "\n",
        "        for i in range(len(link_tag)):\n",
        "            try:\n",
        "                links.append(link_tag[i].a['href'])\n",
        "            except:\n",
        "                links.append(\"no data\")\n",
        "        return links\n",
        "\n",
        "    paper_link = get_link(link_tag)\n",
        "\n",
        "    # function for the getting author , year and publication information\n",
        "    def get_author_year_publi_info(author_tag):\n",
        "        years = []\n",
        "        publication = []\n",
        "        authors = []\n",
        "        lst_a_1 = []\n",
        "        for i in range(len(author_tag)):\n",
        "            authortag_text = (author_tag[i].text).split()\n",
        "\n",
        "            # r'\\d+\\s+' \\d is one o more digit followed by one o more sace\n",
        "            if (re.search(r'\\d+\\s+', author_tag[i].text)) is None:\n",
        "                years.append(np.nan)\n",
        "            else:\n",
        "                year = int(re.search(r'\\d+\\s+', author_tag[i].text).group())\n",
        "                years.append(year)\n",
        "\n",
        "            publication.append(authortag_text[-1])\n",
        "\n",
        "        for i in range(len(author_tag)):\n",
        "            authortag_text = (author_tag[i].text)\n",
        "            lst_a_1.append(authortag_text)\n",
        "\n",
        "        for item in lst_a_1:\n",
        "            try:\n",
        "                # extract until-\n",
        "                hy = re.search('.+?(?=-)', item)\n",
        "                gr = str(hy.group())\n",
        "                authors.append(gr.replace('\\xa0…', '').replace('\\xa0', '').replace('…', ''))\n",
        "            except:\n",
        "                authors.append('no data')\n",
        "\n",
        "        return years, publication, authors\n",
        "\n",
        "    year, publication, author = get_author_year_publi_info(author_tag)\n",
        "\n",
        "    # function to get abstract\n",
        "    def get_abstract(title):\n",
        "        paper_abs = []\n",
        "        for item in title:\n",
        "            try:\n",
        "                search_query = scholarly.search_pubs(item)\n",
        "                abst = next(search_query)\n",
        "                paper_abs.append(abst.get('bib')['abstract'])\n",
        "            except:\n",
        "                 paper_abs.append('no data')\n",
        "        return paper_abs\n",
        "\n",
        "    paper_abs = get_abstract(paper_title)\n",
        "\n",
        "    # creating final repository\n",
        "    paper_repos_dict = {\n",
        "        'Paper Title' : [],\n",
        "        'Year' : [],\n",
        "        'Author' : [],\n",
        "        'Citation' : [],\n",
        "        'Publication' : [],\n",
        "        'Url of paper' : [],\n",
        "        'Abstract': []\n",
        "    }\n",
        "\n",
        "    # adding information in repository\n",
        "    def add_in_paper_repo(papername,year,author,cite,publi,link, abstract):\n",
        "        paper_repos_dict['Paper Title'].extend(papername)\n",
        "        paper_repos_dict['Year'].extend(year)\n",
        "        paper_repos_dict['Author'].extend(author)\n",
        "        paper_repos_dict['Citation'].extend(cite)\n",
        "        paper_repos_dict['Publication'].extend(publi)\n",
        "        paper_repos_dict['Url of paper'].extend(link)\n",
        "        paper_repos_dict['Abstract'].extend(abstract)\n",
        "\n",
        "        return pd.DataFrame(paper_repos_dict)\n",
        "\n",
        "    df = add_in_paper_repo(paper_title ,year , author , paper_cite, publication, paper_link, paper_abs)\n",
        "\n",
        "    return df"
      ]
    },
    {
      "cell_type": "markdown",
      "metadata": {
        "id": "SwkIty_LmfGs"
      },
      "source": [
        "We will begin by scraping the first page."
      ]
    },
    {
      "cell_type": "code",
      "execution_count": null,
      "metadata": {
        "id": "wSC6vC41mfGs"
      },
      "outputs": [],
      "source": [
        "url_init = 'https://scholar.google.com/scholar?q=intitle%3Aasthma+OR+%E2%80%9Callergic+rhinitis%E2%80%9D+AND+%E2%80%9Cremote+sensing%E2%80%9D+AND+%E2%80%9Cair+quality%E2%80%9D+-indoor+-COVID+-coronavirus+-SARS&hl=en&as_sdt=0%2C5&as_ylo=2013&as_yhi=2022'"
      ]
    },
    {
      "cell_type": "code",
      "execution_count": null,
      "metadata": {
        "id": "yxlANo-ImfGs"
      },
      "outputs": [],
      "source": [
        "# scrape initial url\n",
        "df = scrape_gs(url_init)"
      ]
    },
    {
      "cell_type": "code",
      "source": [
        "# to avoid loss of data we will save our first results in our local drive\n",
        "df.to_csv('df_gs_sc_pm_part_1.csv', index=False)"
      ],
      "metadata": {
        "id": "x4lKIc-5N5u_"
      },
      "execution_count": null,
      "outputs": []
    },
    {
      "cell_type": "code",
      "source": [
        "# read again our csv as Data Frame\n",
        "df = pd.read_csv('df_gs_sc_pm_part_1.csv')"
      ],
      "metadata": {
        "id": "n3Ou15UPQSRC"
      },
      "execution_count": null,
      "outputs": []
    },
    {
      "cell_type": "markdown",
      "source": [
        "We will use `PyDrive` library to upload the DataFrame as CSV file to our Google Drive"
      ],
      "metadata": {
        "id": "VBKt2poEMbn9"
      }
    },
    {
      "cell_type": "code",
      "source": [
        "# set Pydrive\n",
        "from pydrive.auth import GoogleAuth\n",
        "from pydrive.drive import GoogleDrive\n",
        "gauth = GoogleAuth()\n",
        "drive = GoogleDrive(gauth)"
      ],
      "metadata": {
        "id": "xSjeTsVZs0Lm"
      },
      "execution_count": null,
      "outputs": []
    },
    {
      "cell_type": "code",
      "source": [
        "# authenticate out Google Drive\n",
        "gauth.LocalWebserverAuth()"
      ],
      "metadata": {
        "colab": {
          "base_uri": "https://localhost:8080/"
        },
        "id": "CElXvXuNytUd",
        "outputId": "76d3be5e-55e9-4cac-832f-d774a73195d8"
      },
      "execution_count": null,
      "outputs": [
        {
          "output_type": "stream",
          "name": "stdout",
          "text": [
            "Your browser has been opened to visit:\n",
            "\n",
            "    https://accounts.google.com/o/oauth2/auth?client_id=284609026786-f9vi3grg5gvek3emru80anfebn8cfr2g.apps.googleusercontent.com&redirect_uri=http%3A%2F%2Flocalhost%3A8080%2F&scope=https%3A%2F%2Fwww.googleapis.com%2Fauth%2Fdrive&access_type=offline&response_type=code\n",
            "\n",
            "Authentication successful.\n"
          ]
        }
      ]
    },
    {
      "cell_type": "markdown",
      "source": [
        "We will create a function to set folder name within our Google Drive and upload our CSV file"
      ],
      "metadata": {
        "id": "WctTQo4-NPzq"
      }
    },
    {
      "cell_type": "code",
      "source": [
        "def uploadgd(foldername, filename):\n",
        "  folderName = foldername   # please set the folder name\n",
        "  folders = drive.ListFile(\n",
        "      {'q': \"title='\" + folderName + \"' and mimeType='application/vnd.google-apps.folder' and trashed=false\"}).GetList()\n",
        "  for folder in folders:\n",
        "    if folder['title'] == folderName:\n",
        "      file2 = drive.CreateFile({'parents': [{'id': folder['id']}]})\n",
        "      file2.SetContentFile(filename)\n",
        "      file2.Upload()\n"
      ],
      "metadata": {
        "id": "p135StEKR13s"
      },
      "execution_count": null,
      "outputs": []
    },
    {
      "cell_type": "code",
      "source": [
        "# apply function uploadgd\n",
        "uploadgd('Conduct_literature_search', 'df_gs_sc_pm_part_1.csv')"
      ],
      "metadata": {
        "id": "Hd510hNuSZmd"
      },
      "execution_count": null,
      "outputs": []
    },
    {
      "cell_type": "markdown",
      "metadata": {
        "id": "H0bZrZRdmfGt"
      },
      "source": [
        "Then, we will create a list containing all urls of web pages that will be scraped"
      ]
    },
    {
      "cell_type": "code",
      "execution_count": null,
      "metadata": {
        "id": "2rB8O3egmfGt"
      },
      "outputs": [],
      "source": [
        "seq = [*range(10, 140, 10)] #\n",
        "\n",
        "url_list = []\n",
        "for i in seq:\n",
        "    url_base = f\"https://scholar.google.com/scholar?start={i}&q=intitle:asthma+OR+%E2%80%9Callergic+rhinitis%E2%80%9D+AND+%E2%80%9Cremote+sensing%E2%80%9D+AND+%E2%80%9Cair+quality%E2%80%9D+-indoor+-COVID+-coronavirus+-SARS&hl=en&as_sdt=0,5&as_ylo=2013&as_yhi=2022\"\n",
        "    url_list.append(url_base)\n",
        "\n",
        "seq_2 = [*range(142, 172, 10)]\n",
        "for i in seq_2:\n",
        "    url_base = f\"https://scholar.google.com/scholar?start={i}&q=intitle:asthma+OR+%E2%80%9Callergic+rhinitis%E2%80%9D+AND+%E2%80%9Cremote+sensing%E2%80%9D+AND+%E2%80%9Cair+quality%E2%80%9D+-indoor+-COVID+-coronavirus+-SARS&hl=en&as_sdt=0,5&as_ylo=2013&as_yhi=2022\"\n",
        "    url_list.append(url_base)"
      ]
    },
    {
      "cell_type": "code",
      "execution_count": null,
      "metadata": {
        "id": "dsnKaAOZmfGt",
        "outputId": "c75d9d55-4fb4-465a-bb50-8f6587320c0d",
        "colab": {
          "base_uri": "https://localhost:8080/"
        }
      },
      "outputs": [
        {
          "output_type": "execute_result",
          "data": {
            "text/plain": [
              "['https://scholar.google.com/scholar?start=10&q=intitle:asthma+OR+%E2%80%9Callergic+rhinitis%E2%80%9D+AND+%E2%80%9Cremote+sensing%E2%80%9D+AND+%E2%80%9Cair+quality%E2%80%9D+-indoor+-COVID+-coronavirus+-SARS&hl=en&as_sdt=0,5&as_ylo=2013&as_yhi=2022',\n",
              " 'https://scholar.google.com/scholar?start=20&q=intitle:asthma+OR+%E2%80%9Callergic+rhinitis%E2%80%9D+AND+%E2%80%9Cremote+sensing%E2%80%9D+AND+%E2%80%9Cair+quality%E2%80%9D+-indoor+-COVID+-coronavirus+-SARS&hl=en&as_sdt=0,5&as_ylo=2013&as_yhi=2022',\n",
              " 'https://scholar.google.com/scholar?start=30&q=intitle:asthma+OR+%E2%80%9Callergic+rhinitis%E2%80%9D+AND+%E2%80%9Cremote+sensing%E2%80%9D+AND+%E2%80%9Cair+quality%E2%80%9D+-indoor+-COVID+-coronavirus+-SARS&hl=en&as_sdt=0,5&as_ylo=2013&as_yhi=2022',\n",
              " 'https://scholar.google.com/scholar?start=40&q=intitle:asthma+OR+%E2%80%9Callergic+rhinitis%E2%80%9D+AND+%E2%80%9Cremote+sensing%E2%80%9D+AND+%E2%80%9Cair+quality%E2%80%9D+-indoor+-COVID+-coronavirus+-SARS&hl=en&as_sdt=0,5&as_ylo=2013&as_yhi=2022',\n",
              " 'https://scholar.google.com/scholar?start=50&q=intitle:asthma+OR+%E2%80%9Callergic+rhinitis%E2%80%9D+AND+%E2%80%9Cremote+sensing%E2%80%9D+AND+%E2%80%9Cair+quality%E2%80%9D+-indoor+-COVID+-coronavirus+-SARS&hl=en&as_sdt=0,5&as_ylo=2013&as_yhi=2022',\n",
              " 'https://scholar.google.com/scholar?start=60&q=intitle:asthma+OR+%E2%80%9Callergic+rhinitis%E2%80%9D+AND+%E2%80%9Cremote+sensing%E2%80%9D+AND+%E2%80%9Cair+quality%E2%80%9D+-indoor+-COVID+-coronavirus+-SARS&hl=en&as_sdt=0,5&as_ylo=2013&as_yhi=2022',\n",
              " 'https://scholar.google.com/scholar?start=70&q=intitle:asthma+OR+%E2%80%9Callergic+rhinitis%E2%80%9D+AND+%E2%80%9Cremote+sensing%E2%80%9D+AND+%E2%80%9Cair+quality%E2%80%9D+-indoor+-COVID+-coronavirus+-SARS&hl=en&as_sdt=0,5&as_ylo=2013&as_yhi=2022',\n",
              " 'https://scholar.google.com/scholar?start=80&q=intitle:asthma+OR+%E2%80%9Callergic+rhinitis%E2%80%9D+AND+%E2%80%9Cremote+sensing%E2%80%9D+AND+%E2%80%9Cair+quality%E2%80%9D+-indoor+-COVID+-coronavirus+-SARS&hl=en&as_sdt=0,5&as_ylo=2013&as_yhi=2022',\n",
              " 'https://scholar.google.com/scholar?start=90&q=intitle:asthma+OR+%E2%80%9Callergic+rhinitis%E2%80%9D+AND+%E2%80%9Cremote+sensing%E2%80%9D+AND+%E2%80%9Cair+quality%E2%80%9D+-indoor+-COVID+-coronavirus+-SARS&hl=en&as_sdt=0,5&as_ylo=2013&as_yhi=2022',\n",
              " 'https://scholar.google.com/scholar?start=100&q=intitle:asthma+OR+%E2%80%9Callergic+rhinitis%E2%80%9D+AND+%E2%80%9Cremote+sensing%E2%80%9D+AND+%E2%80%9Cair+quality%E2%80%9D+-indoor+-COVID+-coronavirus+-SARS&hl=en&as_sdt=0,5&as_ylo=2013&as_yhi=2022',\n",
              " 'https://scholar.google.com/scholar?start=110&q=intitle:asthma+OR+%E2%80%9Callergic+rhinitis%E2%80%9D+AND+%E2%80%9Cremote+sensing%E2%80%9D+AND+%E2%80%9Cair+quality%E2%80%9D+-indoor+-COVID+-coronavirus+-SARS&hl=en&as_sdt=0,5&as_ylo=2013&as_yhi=2022',\n",
              " 'https://scholar.google.com/scholar?start=120&q=intitle:asthma+OR+%E2%80%9Callergic+rhinitis%E2%80%9D+AND+%E2%80%9Cremote+sensing%E2%80%9D+AND+%E2%80%9Cair+quality%E2%80%9D+-indoor+-COVID+-coronavirus+-SARS&hl=en&as_sdt=0,5&as_ylo=2013&as_yhi=2022',\n",
              " 'https://scholar.google.com/scholar?start=130&q=intitle:asthma+OR+%E2%80%9Callergic+rhinitis%E2%80%9D+AND+%E2%80%9Cremote+sensing%E2%80%9D+AND+%E2%80%9Cair+quality%E2%80%9D+-indoor+-COVID+-coronavirus+-SARS&hl=en&as_sdt=0,5&as_ylo=2013&as_yhi=2022',\n",
              " 'https://scholar.google.com/scholar?start=142&q=intitle:asthma+OR+%E2%80%9Callergic+rhinitis%E2%80%9D+AND+%E2%80%9Cremote+sensing%E2%80%9D+AND+%E2%80%9Cair+quality%E2%80%9D+-indoor+-COVID+-coronavirus+-SARS&hl=en&as_sdt=0,5&as_ylo=2013&as_yhi=2022',\n",
              " 'https://scholar.google.com/scholar?start=152&q=intitle:asthma+OR+%E2%80%9Callergic+rhinitis%E2%80%9D+AND+%E2%80%9Cremote+sensing%E2%80%9D+AND+%E2%80%9Cair+quality%E2%80%9D+-indoor+-COVID+-coronavirus+-SARS&hl=en&as_sdt=0,5&as_ylo=2013&as_yhi=2022',\n",
              " 'https://scholar.google.com/scholar?start=162&q=intitle:asthma+OR+%E2%80%9Callergic+rhinitis%E2%80%9D+AND+%E2%80%9Cremote+sensing%E2%80%9D+AND+%E2%80%9Cair+quality%E2%80%9D+-indoor+-COVID+-coronavirus+-SARS&hl=en&as_sdt=0,5&as_ylo=2013&as_yhi=2022']"
            ]
          },
          "metadata": {},
          "execution_count": 11
        }
      ],
      "source": [
        "url_list"
      ]
    },
    {
      "cell_type": "markdown",
      "metadata": {
        "id": "U_n1ang9mfGu"
      },
      "source": [
        "Having scraped the initial page, we will scrape pages in batches of  8 pages"
      ]
    },
    {
      "cell_type": "code",
      "execution_count": null,
      "metadata": {
        "scrolled": true,
        "id": "IGXBZdm6mfGu",
        "colab": {
          "base_uri": "https://localhost:8080/"
        },
        "outputId": "defe7726-94c9-4f54-da77-048be4b0b9e2"
      },
      "outputs": [
        {
          "output_type": "stream",
          "name": "stdout",
          "text": [
            "https://scholar.google.com/scholar?start=10&q=intitle:asthma+OR+%E2%80%9Callergic+rhinitis%E2%80%9D+AND+%E2%80%9Cremote+sensing%E2%80%9D+AND+%E2%80%9Cair+quality%E2%80%9D+-indoor+-COVID+-coronavirus+-SARS&hl=en&as_sdt=0,5&as_ylo=2013&as_yhi=2022\n",
            "https://scholar.google.com/scholar?start=20&q=intitle:asthma+OR+%E2%80%9Callergic+rhinitis%E2%80%9D+AND+%E2%80%9Cremote+sensing%E2%80%9D+AND+%E2%80%9Cair+quality%E2%80%9D+-indoor+-COVID+-coronavirus+-SARS&hl=en&as_sdt=0,5&as_ylo=2013&as_yhi=2022\n",
            "https://scholar.google.com/scholar?start=30&q=intitle:asthma+OR+%E2%80%9Callergic+rhinitis%E2%80%9D+AND+%E2%80%9Cremote+sensing%E2%80%9D+AND+%E2%80%9Cair+quality%E2%80%9D+-indoor+-COVID+-coronavirus+-SARS&hl=en&as_sdt=0,5&as_ylo=2013&as_yhi=2022\n",
            "https://scholar.google.com/scholar?start=40&q=intitle:asthma+OR+%E2%80%9Callergic+rhinitis%E2%80%9D+AND+%E2%80%9Cremote+sensing%E2%80%9D+AND+%E2%80%9Cair+quality%E2%80%9D+-indoor+-COVID+-coronavirus+-SARS&hl=en&as_sdt=0,5&as_ylo=2013&as_yhi=2022\n",
            "https://scholar.google.com/scholar?start=50&q=intitle:asthma+OR+%E2%80%9Callergic+rhinitis%E2%80%9D+AND+%E2%80%9Cremote+sensing%E2%80%9D+AND+%E2%80%9Cair+quality%E2%80%9D+-indoor+-COVID+-coronavirus+-SARS&hl=en&as_sdt=0,5&as_ylo=2013&as_yhi=2022\n",
            "https://scholar.google.com/scholar?start=60&q=intitle:asthma+OR+%E2%80%9Callergic+rhinitis%E2%80%9D+AND+%E2%80%9Cremote+sensing%E2%80%9D+AND+%E2%80%9Cair+quality%E2%80%9D+-indoor+-COVID+-coronavirus+-SARS&hl=en&as_sdt=0,5&as_ylo=2013&as_yhi=2022\n",
            "https://scholar.google.com/scholar?start=70&q=intitle:asthma+OR+%E2%80%9Callergic+rhinitis%E2%80%9D+AND+%E2%80%9Cremote+sensing%E2%80%9D+AND+%E2%80%9Cair+quality%E2%80%9D+-indoor+-COVID+-coronavirus+-SARS&hl=en&as_sdt=0,5&as_ylo=2013&as_yhi=2022\n",
            "https://scholar.google.com/scholar?start=80&q=intitle:asthma+OR+%E2%80%9Callergic+rhinitis%E2%80%9D+AND+%E2%80%9Cremote+sensing%E2%80%9D+AND+%E2%80%9Cair+quality%E2%80%9D+-indoor+-COVID+-coronavirus+-SARS&hl=en&as_sdt=0,5&as_ylo=2013&as_yhi=2022\n"
          ]
        }
      ],
      "source": [
        "# first part 0-8\n",
        "for url in url_list[0:8]:\n",
        "    print(url)\n",
        "    df_it = scrape_gs(url)\n",
        "    df = pd.concat([df, df_it], ignore_index=True)"
      ]
    },
    {
      "cell_type": "code",
      "execution_count": null,
      "metadata": {
        "id": "IkRSUY1KmfGv"
      },
      "outputs": [],
      "source": [
        "# to avoid loss of data we will save intermediate results\n",
        "file = df.to_csv('df_gs_sc_pm_part_1.csv', index=False)"
      ]
    },
    {
      "cell_type": "code",
      "execution_count": null,
      "metadata": {
        "id": "LAF6kMM8mfGv"
      },
      "outputs": [],
      "source": [
        "df = pd.read_csv('df_gs_sc_pm_part_1.csv')"
      ]
    },
    {
      "cell_type": "code",
      "execution_count": null,
      "metadata": {
        "id": "vv1PBW71mfGv",
        "outputId": "cbe29bb5-65fb-4767-93c4-0f5fa8f67650",
        "colab": {
          "base_uri": "https://localhost:8080/"
        }
      },
      "outputs": [
        {
          "output_type": "stream",
          "name": "stdout",
          "text": [
            "https://scholar.google.com/scholar?start=90&q=intitle:asthma+OR+%E2%80%9Callergic+rhinitis%E2%80%9D+AND+%E2%80%9Cremote+sensing%E2%80%9D+AND+%E2%80%9Cair+quality%E2%80%9D+-indoor+-COVID+-coronavirus+-SARS&hl=en&as_sdt=0,5&as_ylo=2013&as_yhi=2022\n",
            "https://scholar.google.com/scholar?start=100&q=intitle:asthma+OR+%E2%80%9Callergic+rhinitis%E2%80%9D+AND+%E2%80%9Cremote+sensing%E2%80%9D+AND+%E2%80%9Cair+quality%E2%80%9D+-indoor+-COVID+-coronavirus+-SARS&hl=en&as_sdt=0,5&as_ylo=2013&as_yhi=2022\n",
            "https://scholar.google.com/scholar?start=110&q=intitle:asthma+OR+%E2%80%9Callergic+rhinitis%E2%80%9D+AND+%E2%80%9Cremote+sensing%E2%80%9D+AND+%E2%80%9Cair+quality%E2%80%9D+-indoor+-COVID+-coronavirus+-SARS&hl=en&as_sdt=0,5&as_ylo=2013&as_yhi=2022\n",
            "https://scholar.google.com/scholar?start=120&q=intitle:asthma+OR+%E2%80%9Callergic+rhinitis%E2%80%9D+AND+%E2%80%9Cremote+sensing%E2%80%9D+AND+%E2%80%9Cair+quality%E2%80%9D+-indoor+-COVID+-coronavirus+-SARS&hl=en&as_sdt=0,5&as_ylo=2013&as_yhi=2022\n",
            "https://scholar.google.com/scholar?start=130&q=intitle:asthma+OR+%E2%80%9Callergic+rhinitis%E2%80%9D+AND+%E2%80%9Cremote+sensing%E2%80%9D+AND+%E2%80%9Cair+quality%E2%80%9D+-indoor+-COVID+-coronavirus+-SARS&hl=en&as_sdt=0,5&as_ylo=2013&as_yhi=2022\n",
            "https://scholar.google.com/scholar?start=142&q=intitle:asthma+OR+%E2%80%9Callergic+rhinitis%E2%80%9D+AND+%E2%80%9Cremote+sensing%E2%80%9D+AND+%E2%80%9Cair+quality%E2%80%9D+-indoor+-COVID+-coronavirus+-SARS&hl=en&as_sdt=0,5&as_ylo=2013&as_yhi=2022\n",
            "https://scholar.google.com/scholar?start=152&q=intitle:asthma+OR+%E2%80%9Callergic+rhinitis%E2%80%9D+AND+%E2%80%9Cremote+sensing%E2%80%9D+AND+%E2%80%9Cair+quality%E2%80%9D+-indoor+-COVID+-coronavirus+-SARS&hl=en&as_sdt=0,5&as_ylo=2013&as_yhi=2022\n",
            "https://scholar.google.com/scholar?start=162&q=intitle:asthma+OR+%E2%80%9Callergic+rhinitis%E2%80%9D+AND+%E2%80%9Cremote+sensing%E2%80%9D+AND+%E2%80%9Cair+quality%E2%80%9D+-indoor+-COVID+-coronavirus+-SARS&hl=en&as_sdt=0,5&as_ylo=2013&as_yhi=2022\n"
          ]
        }
      ],
      "source": [
        "# second part 8-16\n",
        "for url in url_list[8:16]:\n",
        "    print(url)\n",
        "    df_it = scrape_gs(url)\n",
        "    df = pd.concat([df, df_it], ignore_index=True)"
      ]
    },
    {
      "cell_type": "markdown",
      "metadata": {
        "id": "0sVQPwopmfGx"
      },
      "source": [
        "Now, we can save our final DataFrame as a CSV file and open this file for visualization.  "
      ]
    },
    {
      "cell_type": "code",
      "execution_count": null,
      "metadata": {
        "id": "4FKd7aNDmfGx"
      },
      "outputs": [],
      "source": [
        "df.to_csv('df_gs_sc_pm_part_1_final.csv', index=False)"
      ]
    },
    {
      "cell_type": "code",
      "source": [
        "# apply function uploadgd\n",
        "uploadgd('Conduct_literature_search', 'df_gs_sc_pm_part_1_final.csv')"
      ],
      "metadata": {
        "id": "XmTB2-Ly6R10"
      },
      "execution_count": null,
      "outputs": []
    },
    {
      "cell_type": "markdown",
      "source": [
        "###**From now on, we will connect to the Google Colab environment.**"
      ],
      "metadata": {
        "id": "7A-Vtpbz8hkz"
      }
    },
    {
      "cell_type": "code",
      "source": [
        "# mount Google Drive\n",
        "from google.colab import drive # import drive from google colab\n",
        "\n",
        "# default location for the drive\n",
        "ROOT = \"/content/drive\"\n",
        "print(ROOT) # print content of ROOT (optional)\n",
        "\n",
        "drive.mount(ROOT) # we mount the google drive at /content/drive"
      ],
      "metadata": {
        "colab": {
          "base_uri": "https://localhost:8080/"
        },
        "id": "_aKc45oE8ArX",
        "outputId": "e408f6d8-1178-43c4-a4d9-8a80d4a870f9"
      },
      "execution_count": null,
      "outputs": [
        {
          "output_type": "stream",
          "name": "stdout",
          "text": [
            "/content/drive\n",
            "Mounted at /content/drive\n"
          ]
        }
      ]
    },
    {
      "cell_type": "code",
      "source": [
        "# change directory to our working folder\n",
        "%cd 'drive/MyDrive/abraham/review_paper/Conduct_literature_search/'"
      ],
      "metadata": {
        "colab": {
          "base_uri": "https://localhost:8080/"
        },
        "id": "GDU7A_Ci_YQl",
        "outputId": "eca4e1eb-de15-40ec-ba02-6e1fab9eb529"
      },
      "execution_count": null,
      "outputs": [
        {
          "output_type": "stream",
          "name": "stdout",
          "text": [
            "/content/drive/.shortcut-targets-by-id/1xp1fls1DGXQF35dWHB4u9XwL7MCxUE_7/Abraham/review_paper/Conduct_literature_search\n"
          ]
        }
      ]
    },
    {
      "cell_type": "code",
      "source": [
        "# import libraries\n",
        "import pandas as pd\n",
        "import matplotlib.pyplot as plt\n",
        "import numpy as np"
      ],
      "metadata": {
        "id": "Z8xkJe9PA8KN"
      },
      "execution_count": null,
      "outputs": []
    },
    {
      "cell_type": "code",
      "execution_count": null,
      "metadata": {
        "id": "IDBeF1r2mfGx",
        "outputId": "4bfdf8d6-15e5-467c-d1e1-5e67f506d6b7",
        "colab": {
          "base_uri": "https://localhost:8080/",
          "height": 337
        }
      },
      "outputs": [
        {
          "output_type": "execute_result",
          "data": {
            "text/plain": [
              "                                         Paper Title    Year  \\\n",
              "0  Aerosol optical depth as a measure of particul...  2015.0   \n",
              "1  Time series analysis of fine particulate matte...  2013.0   \n",
              "2  Fine particulate matter concentration and comp...  2021.0   \n",
              "3  Spatial Correlation of Satellite-Derived PM2.5...  2016.0   \n",
              "4  HIPAA compliant wireless sensing smartwatch ap...  2016.0   \n",
              "\n",
              "                                   Author  Citation           Publication  \\\n",
              "0           G Higgs, DA Sterling, S Aryal         8  journals.sagepub.com   \n",
              "1         CT Elliott, SB Henderson, V Wan       100              Springer   \n",
              "2  É Lavigne, R Talarico, A van Donkelaar        24              Elsevier   \n",
              "3       CJ Liu, CY Liu, NT Mong, CCK Chou        22              mdpi.com   \n",
              "4                A Hosseini, CM Buonocore        24   ieeexplore.ieee.org   \n",
              "\n",
              "                                        Url of paper  \\\n",
              "0  https://journals.sagepub.com/doi/abs/10.4137/E...   \n",
              "1  https://link.springer.com/article/10.1186/1476...   \n",
              "2  https://www.sciencedirect.com/science/article/...   \n",
              "3                        https://www.mdpi.com/164068   \n",
              "4  https://ieeexplore.ieee.org/abstract/document/...   \n",
              "\n",
              "                                            Abstract  \n",
              "0  An understanding of human health implications ...  \n",
              "1  Several studies have evaluated the association...  \n",
              "2  Background Several studies have found positive...  \n",
              "3  Respiratory diseases, particularly allergic rh...  \n",
              "4  Asthma is the most prevalent chronic disease a...  "
            ],
            "text/html": [
              "\n",
              "  <div id=\"df-d814cbae-abac-4d8e-baea-d5f8196257d3\">\n",
              "    <div class=\"colab-df-container\">\n",
              "      <div>\n",
              "<style scoped>\n",
              "    .dataframe tbody tr th:only-of-type {\n",
              "        vertical-align: middle;\n",
              "    }\n",
              "\n",
              "    .dataframe tbody tr th {\n",
              "        vertical-align: top;\n",
              "    }\n",
              "\n",
              "    .dataframe thead th {\n",
              "        text-align: right;\n",
              "    }\n",
              "</style>\n",
              "<table border=\"1\" class=\"dataframe\">\n",
              "  <thead>\n",
              "    <tr style=\"text-align: right;\">\n",
              "      <th></th>\n",
              "      <th>Paper Title</th>\n",
              "      <th>Year</th>\n",
              "      <th>Author</th>\n",
              "      <th>Citation</th>\n",
              "      <th>Publication</th>\n",
              "      <th>Url of paper</th>\n",
              "      <th>Abstract</th>\n",
              "    </tr>\n",
              "  </thead>\n",
              "  <tbody>\n",
              "    <tr>\n",
              "      <th>0</th>\n",
              "      <td>Aerosol optical depth as a measure of particul...</td>\n",
              "      <td>2015.0</td>\n",
              "      <td>G Higgs, DA Sterling, S Aryal</td>\n",
              "      <td>8</td>\n",
              "      <td>journals.sagepub.com</td>\n",
              "      <td>https://journals.sagepub.com/doi/abs/10.4137/E...</td>\n",
              "      <td>An understanding of human health implications ...</td>\n",
              "    </tr>\n",
              "    <tr>\n",
              "      <th>1</th>\n",
              "      <td>Time series analysis of fine particulate matte...</td>\n",
              "      <td>2013.0</td>\n",
              "      <td>CT Elliott, SB Henderson, V Wan</td>\n",
              "      <td>100</td>\n",
              "      <td>Springer</td>\n",
              "      <td>https://link.springer.com/article/10.1186/1476...</td>\n",
              "      <td>Several studies have evaluated the association...</td>\n",
              "    </tr>\n",
              "    <tr>\n",
              "      <th>2</th>\n",
              "      <td>Fine particulate matter concentration and comp...</td>\n",
              "      <td>2021.0</td>\n",
              "      <td>É Lavigne, R Talarico, A van Donkelaar</td>\n",
              "      <td>24</td>\n",
              "      <td>Elsevier</td>\n",
              "      <td>https://www.sciencedirect.com/science/article/...</td>\n",
              "      <td>Background Several studies have found positive...</td>\n",
              "    </tr>\n",
              "    <tr>\n",
              "      <th>3</th>\n",
              "      <td>Spatial Correlation of Satellite-Derived PM2.5...</td>\n",
              "      <td>2016.0</td>\n",
              "      <td>CJ Liu, CY Liu, NT Mong, CCK Chou</td>\n",
              "      <td>22</td>\n",
              "      <td>mdpi.com</td>\n",
              "      <td>https://www.mdpi.com/164068</td>\n",
              "      <td>Respiratory diseases, particularly allergic rh...</td>\n",
              "    </tr>\n",
              "    <tr>\n",
              "      <th>4</th>\n",
              "      <td>HIPAA compliant wireless sensing smartwatch ap...</td>\n",
              "      <td>2016.0</td>\n",
              "      <td>A Hosseini, CM Buonocore</td>\n",
              "      <td>24</td>\n",
              "      <td>ieeexplore.ieee.org</td>\n",
              "      <td>https://ieeexplore.ieee.org/abstract/document/...</td>\n",
              "      <td>Asthma is the most prevalent chronic disease a...</td>\n",
              "    </tr>\n",
              "  </tbody>\n",
              "</table>\n",
              "</div>\n",
              "      <button class=\"colab-df-convert\" onclick=\"convertToInteractive('df-d814cbae-abac-4d8e-baea-d5f8196257d3')\"\n",
              "              title=\"Convert this dataframe to an interactive table.\"\n",
              "              style=\"display:none;\">\n",
              "        \n",
              "  <svg xmlns=\"http://www.w3.org/2000/svg\" height=\"24px\"viewBox=\"0 0 24 24\"\n",
              "       width=\"24px\">\n",
              "    <path d=\"M0 0h24v24H0V0z\" fill=\"none\"/>\n",
              "    <path d=\"M18.56 5.44l.94 2.06.94-2.06 2.06-.94-2.06-.94-.94-2.06-.94 2.06-2.06.94zm-11 1L8.5 8.5l.94-2.06 2.06-.94-2.06-.94L8.5 2.5l-.94 2.06-2.06.94zm10 10l.94 2.06.94-2.06 2.06-.94-2.06-.94-.94-2.06-.94 2.06-2.06.94z\"/><path d=\"M17.41 7.96l-1.37-1.37c-.4-.4-.92-.59-1.43-.59-.52 0-1.04.2-1.43.59L10.3 9.45l-7.72 7.72c-.78.78-.78 2.05 0 2.83L4 21.41c.39.39.9.59 1.41.59.51 0 1.02-.2 1.41-.59l7.78-7.78 2.81-2.81c.8-.78.8-2.07 0-2.86zM5.41 20L4 18.59l7.72-7.72 1.47 1.35L5.41 20z\"/>\n",
              "  </svg>\n",
              "      </button>\n",
              "      \n",
              "  <style>\n",
              "    .colab-df-container {\n",
              "      display:flex;\n",
              "      flex-wrap:wrap;\n",
              "      gap: 12px;\n",
              "    }\n",
              "\n",
              "    .colab-df-convert {\n",
              "      background-color: #E8F0FE;\n",
              "      border: none;\n",
              "      border-radius: 50%;\n",
              "      cursor: pointer;\n",
              "      display: none;\n",
              "      fill: #1967D2;\n",
              "      height: 32px;\n",
              "      padding: 0 0 0 0;\n",
              "      width: 32px;\n",
              "    }\n",
              "\n",
              "    .colab-df-convert:hover {\n",
              "      background-color: #E2EBFA;\n",
              "      box-shadow: 0px 1px 2px rgba(60, 64, 67, 0.3), 0px 1px 3px 1px rgba(60, 64, 67, 0.15);\n",
              "      fill: #174EA6;\n",
              "    }\n",
              "\n",
              "    [theme=dark] .colab-df-convert {\n",
              "      background-color: #3B4455;\n",
              "      fill: #D2E3FC;\n",
              "    }\n",
              "\n",
              "    [theme=dark] .colab-df-convert:hover {\n",
              "      background-color: #434B5C;\n",
              "      box-shadow: 0px 1px 3px 1px rgba(0, 0, 0, 0.15);\n",
              "      filter: drop-shadow(0px 1px 2px rgba(0, 0, 0, 0.3));\n",
              "      fill: #FFFFFF;\n",
              "    }\n",
              "  </style>\n",
              "\n",
              "      <script>\n",
              "        const buttonEl =\n",
              "          document.querySelector('#df-d814cbae-abac-4d8e-baea-d5f8196257d3 button.colab-df-convert');\n",
              "        buttonEl.style.display =\n",
              "          google.colab.kernel.accessAllowed ? 'block' : 'none';\n",
              "\n",
              "        async function convertToInteractive(key) {\n",
              "          const element = document.querySelector('#df-d814cbae-abac-4d8e-baea-d5f8196257d3');\n",
              "          const dataTable =\n",
              "            await google.colab.kernel.invokeFunction('convertToInteractive',\n",
              "                                                     [key], {});\n",
              "          if (!dataTable) return;\n",
              "\n",
              "          const docLinkHtml = 'Like what you see? Visit the ' +\n",
              "            '<a target=\"_blank\" href=https://colab.research.google.com/notebooks/data_table.ipynb>data table notebook</a>'\n",
              "            + ' to learn more about interactive tables.';\n",
              "          element.innerHTML = '';\n",
              "          dataTable['output_type'] = 'display_data';\n",
              "          await google.colab.output.renderOutput(dataTable, element);\n",
              "          const docLink = document.createElement('div');\n",
              "          docLink.innerHTML = docLinkHtml;\n",
              "          element.appendChild(docLink);\n",
              "        }\n",
              "      </script>\n",
              "    </div>\n",
              "  </div>\n",
              "  "
            ]
          },
          "metadata": {},
          "execution_count": 4
        }
      ],
      "source": [
        "df_gs = pd.read_csv('df_gs_sc_pm_part_1_final.csv')\n",
        "df_gs.head()"
      ]
    },
    {
      "cell_type": "markdown",
      "metadata": {
        "id": "XqmSL85cmfGy"
      },
      "source": [
        "Now, let's visualize the number of documents by year."
      ]
    },
    {
      "cell_type": "code",
      "execution_count": null,
      "metadata": {
        "id": "J-exswUhmfGy"
      },
      "outputs": [],
      "source": [
        "%matplotlib inline\n",
        "df_art_gs = df_gs.groupby(['Year'])[['Paper Title']].count()\\\n",
        "                .rename(columns={'Paper Title':'Number of Articles'}).sort_index(ascending=True).reset_index()\n",
        "\n",
        "df_art_gs = df_art_gs.astype({\"Year\":'int'})\n",
        "df_art_gs = df_art_gs.astype({\"Year\":'str'})"
      ]
    },
    {
      "cell_type": "code",
      "execution_count": null,
      "metadata": {
        "id": "zzTkvLmRmfGy",
        "outputId": "8c8a9c01-b4d7-4b9c-d0fb-17d35fdeb78f",
        "colab": {
          "base_uri": "https://localhost:8080/",
          "height": 541
        }
      },
      "outputs": [
        {
          "output_type": "display_data",
          "data": {
            "text/plain": [
              "<Figure size 720x576 with 1 Axes>"
            ],
            "image/png": "[encoded data removed]"
          },
          "metadata": {
            "needs_background": "light"
          }
        }
      ],
      "source": [
        "plt.figure(figsize=(10,8))\n",
        "plt.bar(df_art_gs['Year'], df_art_gs['Number of Articles'],align='center')\n",
        "plt.title('Documents by Year')\n",
        "plt.xlabel('Year')\n",
        "plt.ylabel('Number of Documents')\n",
        "plt.xticks(rotation=45)\n",
        "plt.show();"
      ]
    },
    {
      "cell_type": "markdown",
      "metadata": {
        "id": "ugEZ2-6RmfGy"
      },
      "source": [
        "## 2. Get a csv file from Scopus with the same column names\n",
        "\n",
        "In this section, we will read the CSV file obtained from Scopus and modify its columns so that it matches Google Scholar DataFrame"
      ]
    },
    {
      "cell_type": "code",
      "execution_count": null,
      "metadata": {
        "id": "HS1-5Pb9mfGz"
      },
      "outputs": [],
      "source": [
        "# read csv file\n",
        "df_sc = pd.read_csv('scopus.csv')\n",
        "print(len(df_sc))\n",
        "df_sc.head()"
      ]
    },
    {
      "cell_type": "code",
      "execution_count": null,
      "metadata": {
        "id": "-ctsP8BcmfGz"
      },
      "outputs": [],
      "source": [
        "# get Scopus DataFrame column names\n",
        "cols = list(df_sc.columns.values)\n",
        "cols"
      ]
    },
    {
      "cell_type": "code",
      "execution_count": null,
      "metadata": {
        "scrolled": true,
        "id": "V50VYrIDmfGz"
      },
      "outputs": [],
      "source": [
        "# rearrange columns\n",
        "df_sc = df_sc[[cols[1], cols[2], cols[0],  cols[4], cols[3], cols[5], cols[6] ]]\n",
        "# rename Scopus columns based on Google Scholar DataFrame\n",
        "df_sc.columns=df_gs.columns.values\n",
        "df_sc.head(1)"
      ]
    },
    {
      "cell_type": "code",
      "execution_count": null,
      "metadata": {
        "id": "fsIw3qLrmfGz"
      },
      "outputs": [],
      "source": [
        "# check if columns are the same\n",
        "df_gs.columns==df_sc.columns"
      ]
    },
    {
      "cell_type": "code",
      "execution_count": null,
      "metadata": {
        "id": "2cAZHEGOmfG0"
      },
      "outputs": [],
      "source": [
        "# save DataFrame\n",
        "df_sc.to_csv('df_sc.csv', index=False)"
      ]
    },
    {
      "cell_type": "code",
      "execution_count": null,
      "metadata": {
        "id": "db6uxnt7mfG0"
      },
      "outputs": [],
      "source": [
        "df_sc = pd.read_csv('df_sc.csv')"
      ]
    },
    {
      "cell_type": "markdown",
      "metadata": {
        "id": "jUCKTgIRmfG0"
      },
      "source": [
        "Now, let's visualize the number of documents by year."
      ]
    },
    {
      "cell_type": "code",
      "execution_count": null,
      "metadata": {
        "id": "9PwqD5M8mfG0"
      },
      "outputs": [],
      "source": [
        "%matplotlib inline\n",
        "df_art_sc = df_sc.groupby(['Year'])[['Paper Title']].count()\\\n",
        "                .rename(columns={'Paper Title':'Number of Articles'}).sort_index(ascending=True).reset_index()\n",
        "\n",
        "df_art_sc = df_art_sc.astype({\"Year\":'int'})\n",
        "df_art_sc = df_art_sc.astype({\"Year\":'str'})"
      ]
    },
    {
      "cell_type": "code",
      "execution_count": null,
      "metadata": {
        "id": "i_Il5fnnmfG1"
      },
      "outputs": [],
      "source": [
        "plt.figure(figsize=(10,8))\n",
        "plt.bar(df_art_sc['Year'], df_art_sc['Number of Articles'],align='center')\n",
        "plt.title('Documents by Year')\n",
        "plt.xlabel('Year')\n",
        "plt.ylabel('Number of Documents')\n",
        "plt.xticks(rotation=45)\n",
        "plt.show();"
      ]
    },
    {
      "cell_type": "markdown",
      "source": [
        "## 3. Get a csv file from PubMed with the same column names\n",
        "\n",
        "In this section, we will read the CSV file obtained from PubMed and modify its columns so that it matches Google Scholar DataFrame"
      ],
      "metadata": {
        "id": "gai_oApeCIg4"
      }
    },
    {
      "cell_type": "code",
      "source": [
        "# read csv file\n",
        "df_pm = pd.read_csv('pubmed.csv')\n",
        "print(len(df_pm))\n",
        "df_pm.head()"
      ],
      "metadata": {
        "colab": {
          "base_uri": "https://localhost:8080/",
          "height": 372
        },
        "id": "0sIQDESkCH0R",
        "outputId": "3d7f8200-70cb-48ce-a125-2301eb357567"
      },
      "execution_count": null,
      "outputs": [
        {
          "output_type": "stream",
          "name": "stdout",
          "text": [
            "7\n"
          ]
        },
        {
          "output_type": "execute_result",
          "data": {
            "text/plain": [
              "       PMID                                              Title  \\\n",
              "0  31520956  Associations of wildfire smoke PM(2.5) exposur...   \n",
              "1  31254082  Time-series analysis of satellite-derived fine...   \n",
              "2  31806712  Early life exposure to air pollution and incid...   \n",
              "3  23906969  Evaluation of a wildfire smoke forecasting sys...   \n",
              "4  32642628  Using Satellites to Track Indicators of Global...   \n",
              "\n",
              "                                             Authors  \\\n",
              "0  Stowell JD, Geng G, Saikawa E, Chang HH, Fu J,...   \n",
              "1  Chang HH, Pan A, Lary DJ, Waller LA, Zhang L, ...   \n",
              "2  To T, Zhu J, Stieb D, Gray N, Fong I, Pinault ...   \n",
              "3                     Yao J, Brauer M, Henderson SB.   \n",
              "4  Anenberg SC, Bindl M, Brauer M, Castillo JJ, C...   \n",
              "\n",
              "                                            Citation First Author  \\\n",
              "0  Environ Int. 2019 Dec;133(Pt A):105151. doi: 1...   Stowell JD   \n",
              "1  Environ Monit Assess. 2019 Jun 28;191(Suppl 2)...     Chang HH   \n",
              "2  Eur Respir J. 2020 Feb 20;55(2):1900913. doi: ...         To T   \n",
              "3  Environ Health Perspect. 2013 Oct;121(10):1142...        Yao J   \n",
              "4  Geohealth. 2020 Jul 1;4(7):e2020GH000270. doi:...  Anenberg SC   \n",
              "\n",
              "              Journal/Book  Publication Year Create Date       PMCID  \\\n",
              "0              Environ Int              2019  2019/09/15  PMC8163094   \n",
              "1     Environ Monit Assess              2019  2019/06/30         NaN   \n",
              "2             Eur Respir J              2020  2019/12/07  PMC7031706   \n",
              "3  Environ Health Perspect              2013  2013/08/03  PMC3801470   \n",
              "4                Geohealth              2020  2020/07/10  PMC7334378   \n",
              "\n",
              "       NIHMS ID                           DOI  \n",
              "0  NIHMS1699076  10.1016/j.envint.2019.105151  \n",
              "1           NaN     10.1007/s10661-019-7421-4  \n",
              "2           NaN   10.1183/13993003.00913-2019  \n",
              "3           NaN           10.1289/ehp.1306768  \n",
              "4           NaN          10.1029/2020GH000270  "
            ],
            "text/html": [
              "\n",
              "  <div id=\"df-a1e9296b-9cb4-497c-b077-e94a3ba8ad18\">\n",
              "    <div class=\"colab-df-container\">\n",
              "      <div>\n",
              "<style scoped>\n",
              "    .dataframe tbody tr th:only-of-type {\n",
              "        vertical-align: middle;\n",
              "    }\n",
              "\n",
              "    .dataframe tbody tr th {\n",
              "        vertical-align: top;\n",
              "    }\n",
              "\n",
              "    .dataframe thead th {\n",
              "        text-align: right;\n",
              "    }\n",
              "</style>\n",
              "<table border=\"1\" class=\"dataframe\">\n",
              "  <thead>\n",
              "    <tr style=\"text-align: right;\">\n",
              "      <th></th>\n",
              "      <th>PMID</th>\n",
              "      <th>Title</th>\n",
              "      <th>Authors</th>\n",
              "      <th>Citation</th>\n",
              "      <th>First Author</th>\n",
              "      <th>Journal/Book</th>\n",
              "      <th>Publication Year</th>\n",
              "      <th>Create Date</th>\n",
              "      <th>PMCID</th>\n",
              "      <th>NIHMS ID</th>\n",
              "      <th>DOI</th>\n",
              "    </tr>\n",
              "  </thead>\n",
              "  <tbody>\n",
              "    <tr>\n",
              "      <th>0</th>\n",
              "      <td>31520956</td>\n",
              "      <td>Associations of wildfire smoke PM(2.5) exposur...</td>\n",
              "      <td>Stowell JD, Geng G, Saikawa E, Chang HH, Fu J,...</td>\n",
              "      <td>Environ Int. 2019 Dec;133(Pt A):105151. doi: 1...</td>\n",
              "      <td>Stowell JD</td>\n",
              "      <td>Environ Int</td>\n",
              "      <td>2019</td>\n",
              "      <td>2019/09/15</td>\n",
              "      <td>PMC8163094</td>\n",
              "      <td>NIHMS1699076</td>\n",
              "      <td>10.1016/j.envint.2019.105151</td>\n",
              "    </tr>\n",
              "    <tr>\n",
              "      <th>1</th>\n",
              "      <td>31254082</td>\n",
              "      <td>Time-series analysis of satellite-derived fine...</td>\n",
              "      <td>Chang HH, Pan A, Lary DJ, Waller LA, Zhang L, ...</td>\n",
              "      <td>Environ Monit Assess. 2019 Jun 28;191(Suppl 2)...</td>\n",
              "      <td>Chang HH</td>\n",
              "      <td>Environ Monit Assess</td>\n",
              "      <td>2019</td>\n",
              "      <td>2019/06/30</td>\n",
              "      <td>NaN</td>\n",
              "      <td>NaN</td>\n",
              "      <td>10.1007/s10661-019-7421-4</td>\n",
              "    </tr>\n",
              "    <tr>\n",
              "      <th>2</th>\n",
              "      <td>31806712</td>\n",
              "      <td>Early life exposure to air pollution and incid...</td>\n",
              "      <td>To T, Zhu J, Stieb D, Gray N, Fong I, Pinault ...</td>\n",
              "      <td>Eur Respir J. 2020 Feb 20;55(2):1900913. doi: ...</td>\n",
              "      <td>To T</td>\n",
              "      <td>Eur Respir J</td>\n",
              "      <td>2020</td>\n",
              "      <td>2019/12/07</td>\n",
              "      <td>PMC7031706</td>\n",
              "      <td>NaN</td>\n",
              "      <td>10.1183/13993003.00913-2019</td>\n",
              "    </tr>\n",
              "    <tr>\n",
              "      <th>3</th>\n",
              "      <td>23906969</td>\n",
              "      <td>Evaluation of a wildfire smoke forecasting sys...</td>\n",
              "      <td>Yao J, Brauer M, Henderson SB.</td>\n",
              "      <td>Environ Health Perspect. 2013 Oct;121(10):1142...</td>\n",
              "      <td>Yao J</td>\n",
              "      <td>Environ Health Perspect</td>\n",
              "      <td>2013</td>\n",
              "      <td>2013/08/03</td>\n",
              "      <td>PMC3801470</td>\n",
              "      <td>NaN</td>\n",
              "      <td>10.1289/ehp.1306768</td>\n",
              "    </tr>\n",
              "    <tr>\n",
              "      <th>4</th>\n",
              "      <td>32642628</td>\n",
              "      <td>Using Satellites to Track Indicators of Global...</td>\n",
              "      <td>Anenberg SC, Bindl M, Brauer M, Castillo JJ, C...</td>\n",
              "      <td>Geohealth. 2020 Jul 1;4(7):e2020GH000270. doi:...</td>\n",
              "      <td>Anenberg SC</td>\n",
              "      <td>Geohealth</td>\n",
              "      <td>2020</td>\n",
              "      <td>2020/07/10</td>\n",
              "      <td>PMC7334378</td>\n",
              "      <td>NaN</td>\n",
              "      <td>10.1029/2020GH000270</td>\n",
              "    </tr>\n",
              "  </tbody>\n",
              "</table>\n",
              "</div>\n",
              "      <button class=\"colab-df-convert\" onclick=\"convertToInteractive('df-a1e9296b-9cb4-497c-b077-e94a3ba8ad18')\"\n",
              "              title=\"Convert this dataframe to an interactive table.\"\n",
              "              style=\"display:none;\">\n",
              "        \n",
              "  <svg xmlns=\"http://www.w3.org/2000/svg\" height=\"24px\"viewBox=\"0 0 24 24\"\n",
              "       width=\"24px\">\n",
              "    <path d=\"M0 0h24v24H0V0z\" fill=\"none\"/>\n",
              "    <path d=\"M18.56 5.44l.94 2.06.94-2.06 2.06-.94-2.06-.94-.94-2.06-.94 2.06-2.06.94zm-11 1L8.5 8.5l.94-2.06 2.06-.94-2.06-.94L8.5 2.5l-.94 2.06-2.06.94zm10 10l.94 2.06.94-2.06 2.06-.94-2.06-.94-.94-2.06-.94 2.06-2.06.94z\"/><path d=\"M17.41 7.96l-1.37-1.37c-.4-.4-.92-.59-1.43-.59-.52 0-1.04.2-1.43.59L10.3 9.45l-7.72 7.72c-.78.78-.78 2.05 0 2.83L4 21.41c.39.39.9.59 1.41.59.51 0 1.02-.2 1.41-.59l7.78-7.78 2.81-2.81c.8-.78.8-2.07 0-2.86zM5.41 20L4 18.59l7.72-7.72 1.47 1.35L5.41 20z\"/>\n",
              "  </svg>\n",
              "      </button>\n",
              "      \n",
              "  <style>\n",
              "    .colab-df-container {\n",
              "      display:flex;\n",
              "      flex-wrap:wrap;\n",
              "      gap: 12px;\n",
              "    }\n",
              "\n",
              "    .colab-df-convert {\n",
              "      background-color: #E8F0FE;\n",
              "      border: none;\n",
              "      border-radius: 50%;\n",
              "      cursor: pointer;\n",
              "      display: none;\n",
              "      fill: #1967D2;\n",
              "      height: 32px;\n",
              "      padding: 0 0 0 0;\n",
              "      width: 32px;\n",
              "    }\n",
              "\n",
              "    .colab-df-convert:hover {\n",
              "      background-color: #E2EBFA;\n",
              "      box-shadow: 0px 1px 2px rgba(60, 64, 67, 0.3), 0px 1px 3px 1px rgba(60, 64, 67, 0.15);\n",
              "      fill: #174EA6;\n",
              "    }\n",
              "\n",
              "    [theme=dark] .colab-df-convert {\n",
              "      background-color: #3B4455;\n",
              "      fill: #D2E3FC;\n",
              "    }\n",
              "\n",
              "    [theme=dark] .colab-df-convert:hover {\n",
              "      background-color: #434B5C;\n",
              "      box-shadow: 0px 1px 3px 1px rgba(0, 0, 0, 0.15);\n",
              "      filter: drop-shadow(0px 1px 2px rgba(0, 0, 0, 0.3));\n",
              "      fill: #FFFFFF;\n",
              "    }\n",
              "  </style>\n",
              "\n",
              "      <script>\n",
              "        const buttonEl =\n",
              "          document.querySelector('#df-a1e9296b-9cb4-497c-b077-e94a3ba8ad18 button.colab-df-convert');\n",
              "        buttonEl.style.display =\n",
              "          google.colab.kernel.accessAllowed ? 'block' : 'none';\n",
              "\n",
              "        async function convertToInteractive(key) {\n",
              "          const element = document.querySelector('#df-a1e9296b-9cb4-497c-b077-e94a3ba8ad18');\n",
              "          const dataTable =\n",
              "            await google.colab.kernel.invokeFunction('convertToInteractive',\n",
              "                                                     [key], {});\n",
              "          if (!dataTable) return;\n",
              "\n",
              "          const docLinkHtml = 'Like what you see? Visit the ' +\n",
              "            '<a target=\"_blank\" href=https://colab.research.google.com/notebooks/data_table.ipynb>data table notebook</a>'\n",
              "            + ' to learn more about interactive tables.';\n",
              "          element.innerHTML = '';\n",
              "          dataTable['output_type'] = 'display_data';\n",
              "          await google.colab.output.renderOutput(dataTable, element);\n",
              "          const docLink = document.createElement('div');\n",
              "          docLink.innerHTML = docLinkHtml;\n",
              "          element.appendChild(docLink);\n",
              "        }\n",
              "      </script>\n",
              "    </div>\n",
              "  </div>\n",
              "  "
            ]
          },
          "metadata": {},
          "execution_count": 24
        }
      ]
    },
    {
      "cell_type": "code",
      "source": [
        "# get PubMed DataFrame column names\n",
        "colpm = list(df_pm.columns.values)\n",
        "colpm"
      ],
      "metadata": {
        "colab": {
          "base_uri": "https://localhost:8080/"
        },
        "id": "Ky2XBdcyDsKh",
        "outputId": "9eb3e64b-a303-4409-e4bd-cf382de171b6"
      },
      "execution_count": null,
      "outputs": [
        {
          "output_type": "execute_result",
          "data": {
            "text/plain": [
              "['PMID',\n",
              " 'Title',\n",
              " 'Authors',\n",
              " 'Citation',\n",
              " 'First Author',\n",
              " 'Journal/Book',\n",
              " 'Publication Year',\n",
              " 'Create Date',\n",
              " 'PMCID',\n",
              " 'NIHMS ID',\n",
              " 'DOI']"
            ]
          },
          "metadata": {},
          "execution_count": 25
        }
      ]
    },
    {
      "cell_type": "code",
      "source": [
        "# rearrange columns\n",
        "df_pm = df_pm[[colpm[1], colpm[6], colpm[2], colpm[5], colpm[-1]]]\n",
        "# add missing columns\n",
        "df_pm.insert(3, \"Citation\", np.nan)\n",
        "df_pm.insert(6, \"Abstract\", ' ')\n",
        "# rename Scopus columns based on Google Scholar DataFrame\n",
        "df_pm.columns=df_gs.columns.values\n",
        "df_pm.head(1)"
      ],
      "metadata": {
        "colab": {
          "base_uri": "https://localhost:8080/",
          "height": 81
        },
        "id": "wBF5OrtZECP1",
        "outputId": "d93a1960-e83d-4606-ec2a-76a8d2c389cd"
      },
      "execution_count": null,
      "outputs": [
        {
          "output_type": "execute_result",
          "data": {
            "text/plain": [
              "                                         Paper Title  Year  \\\n",
              "0  Associations of wildfire smoke PM(2.5) exposur...  2019   \n",
              "\n",
              "                                              Author  Citation  Publication  \\\n",
              "0  Stowell JD, Geng G, Saikawa E, Chang HH, Fu J,...       NaN  Environ Int   \n",
              "\n",
              "                   Url of paper Abstract  \n",
              "0  10.1016/j.envint.2019.105151           "
            ],
            "text/html": [
              "\n",
              "  <div id=\"df-de9a9b89-95ec-4d74-91e0-39c74091c837\">\n",
              "    <div class=\"colab-df-container\">\n",
              "      <div>\n",
              "<style scoped>\n",
              "    .dataframe tbody tr th:only-of-type {\n",
              "        vertical-align: middle;\n",
              "    }\n",
              "\n",
              "    .dataframe tbody tr th {\n",
              "        vertical-align: top;\n",
              "    }\n",
              "\n",
              "    .dataframe thead th {\n",
              "        text-align: right;\n",
              "    }\n",
              "</style>\n",
              "<table border=\"1\" class=\"dataframe\">\n",
              "  <thead>\n",
              "    <tr style=\"text-align: right;\">\n",
              "      <th></th>\n",
              "      <th>Paper Title</th>\n",
              "      <th>Year</th>\n",
              "      <th>Author</th>\n",
              "      <th>Citation</th>\n",
              "      <th>Publication</th>\n",
              "      <th>Url of paper</th>\n",
              "      <th>Abstract</th>\n",
              "    </tr>\n",
              "  </thead>\n",
              "  <tbody>\n",
              "    <tr>\n",
              "      <th>0</th>\n",
              "      <td>Associations of wildfire smoke PM(2.5) exposur...</td>\n",
              "      <td>2019</td>\n",
              "      <td>Stowell JD, Geng G, Saikawa E, Chang HH, Fu J,...</td>\n",
              "      <td>NaN</td>\n",
              "      <td>Environ Int</td>\n",
              "      <td>10.1016/j.envint.2019.105151</td>\n",
              "      <td></td>\n",
              "    </tr>\n",
              "  </tbody>\n",
              "</table>\n",
              "</div>\n",
              "      <button class=\"colab-df-convert\" onclick=\"convertToInteractive('df-de9a9b89-95ec-4d74-91e0-39c74091c837')\"\n",
              "              title=\"Convert this dataframe to an interactive table.\"\n",
              "              style=\"display:none;\">\n",
              "        \n",
              "  <svg xmlns=\"http://www.w3.org/2000/svg\" height=\"24px\"viewBox=\"0 0 24 24\"\n",
              "       width=\"24px\">\n",
              "    <path d=\"M0 0h24v24H0V0z\" fill=\"none\"/>\n",
              "    <path d=\"M18.56 5.44l.94 2.06.94-2.06 2.06-.94-2.06-.94-.94-2.06-.94 2.06-2.06.94zm-11 1L8.5 8.5l.94-2.06 2.06-.94-2.06-.94L8.5 2.5l-.94 2.06-2.06.94zm10 10l.94 2.06.94-2.06 2.06-.94-2.06-.94-.94-2.06-.94 2.06-2.06.94z\"/><path d=\"M17.41 7.96l-1.37-1.37c-.4-.4-.92-.59-1.43-.59-.52 0-1.04.2-1.43.59L10.3 9.45l-7.72 7.72c-.78.78-.78 2.05 0 2.83L4 21.41c.39.39.9.59 1.41.59.51 0 1.02-.2 1.41-.59l7.78-7.78 2.81-2.81c.8-.78.8-2.07 0-2.86zM5.41 20L4 18.59l7.72-7.72 1.47 1.35L5.41 20z\"/>\n",
              "  </svg>\n",
              "      </button>\n",
              "      \n",
              "  <style>\n",
              "    .colab-df-container {\n",
              "      display:flex;\n",
              "      flex-wrap:wrap;\n",
              "      gap: 12px;\n",
              "    }\n",
              "\n",
              "    .colab-df-convert {\n",
              "      background-color: #E8F0FE;\n",
              "      border: none;\n",
              "      border-radius: 50%;\n",
              "      cursor: pointer;\n",
              "      display: none;\n",
              "      fill: #1967D2;\n",
              "      height: 32px;\n",
              "      padding: 0 0 0 0;\n",
              "      width: 32px;\n",
              "    }\n",
              "\n",
              "    .colab-df-convert:hover {\n",
              "      background-color: #E2EBFA;\n",
              "      box-shadow: 0px 1px 2px rgba(60, 64, 67, 0.3), 0px 1px 3px 1px rgba(60, 64, 67, 0.15);\n",
              "      fill: #174EA6;\n",
              "    }\n",
              "\n",
              "    [theme=dark] .colab-df-convert {\n",
              "      background-color: #3B4455;\n",
              "      fill: #D2E3FC;\n",
              "    }\n",
              "\n",
              "    [theme=dark] .colab-df-convert:hover {\n",
              "      background-color: #434B5C;\n",
              "      box-shadow: 0px 1px 3px 1px rgba(0, 0, 0, 0.15);\n",
              "      filter: drop-shadow(0px 1px 2px rgba(0, 0, 0, 0.3));\n",
              "      fill: #FFFFFF;\n",
              "    }\n",
              "  </style>\n",
              "\n",
              "      <script>\n",
              "        const buttonEl =\n",
              "          document.querySelector('#df-de9a9b89-95ec-4d74-91e0-39c74091c837 button.colab-df-convert');\n",
              "        buttonEl.style.display =\n",
              "          google.colab.kernel.accessAllowed ? 'block' : 'none';\n",
              "\n",
              "        async function convertToInteractive(key) {\n",
              "          const element = document.querySelector('#df-de9a9b89-95ec-4d74-91e0-39c74091c837');\n",
              "          const dataTable =\n",
              "            await google.colab.kernel.invokeFunction('convertToInteractive',\n",
              "                                                     [key], {});\n",
              "          if (!dataTable) return;\n",
              "\n",
              "          const docLinkHtml = 'Like what you see? Visit the ' +\n",
              "            '<a target=\"_blank\" href=https://colab.research.google.com/notebooks/data_table.ipynb>data table notebook</a>'\n",
              "            + ' to learn more about interactive tables.';\n",
              "          element.innerHTML = '';\n",
              "          dataTable['output_type'] = 'display_data';\n",
              "          await google.colab.output.renderOutput(dataTable, element);\n",
              "          const docLink = document.createElement('div');\n",
              "          docLink.innerHTML = docLinkHtml;\n",
              "          element.appendChild(docLink);\n",
              "        }\n",
              "      </script>\n",
              "    </div>\n",
              "  </div>\n",
              "  "
            ]
          },
          "metadata": {},
          "execution_count": 26
        }
      ]
    },
    {
      "cell_type": "code",
      "source": [
        "# check if columns are the same\n",
        "df_gs.columns==df_pm.columns"
      ],
      "metadata": {
        "colab": {
          "base_uri": "https://localhost:8080/"
        },
        "id": "x9-6HM7vW2ZY",
        "outputId": "cb135236-3545-4656-d20b-392fed526c35"
      },
      "execution_count": null,
      "outputs": [
        {
          "output_type": "execute_result",
          "data": {
            "text/plain": [
              "array([ True,  True,  True,  True,  True,  True,  True])"
            ]
          },
          "metadata": {},
          "execution_count": 27
        }
      ]
    },
    {
      "cell_type": "markdown",
      "source": [
        "Now, let's visualize the number of documents by year."
      ],
      "metadata": {
        "id": "ahukICN9XjxB"
      }
    },
    {
      "cell_type": "code",
      "source": [
        "%matplotlib inline\n",
        "df_art_pm = df_pm.groupby(['Year'])[['Paper Title']].count()\\\n",
        "                .rename(columns={'Paper Title':'Number of Articles'}).sort_index(ascending=True).reset_index()\n",
        "\n",
        "df_art_pm = df_art_pm.astype({\"Year\":'int'})\n",
        "df_art_pm = df_art_pm.astype({\"Year\":'str'})"
      ],
      "metadata": {
        "id": "wbuZavC0XjJ9"
      },
      "execution_count": null,
      "outputs": []
    },
    {
      "cell_type": "code",
      "source": [
        "plt.figure(figsize=(10,8))\n",
        "plt.bar(df_art_pm['Year'], df_art_pm['Number of Articles'],align='center')\n",
        "plt.title('Documents by Year')\n",
        "plt.xlabel('Year')\n",
        "plt.ylabel('Number of Documents')\n",
        "plt.xticks(rotation=45)\n",
        "plt.show();"
      ],
      "metadata": {
        "colab": {
          "base_uri": "https://localhost:8080/",
          "height": 528
        },
        "id": "9W2C2wZEXoI5",
        "outputId": "89dc5404-54d9-4878-f265-621341f5f4bf"
      },
      "execution_count": null,
      "outputs": [
        {
          "output_type": "display_data",
          "data": {
            "text/plain": [
              "<Figure size 720x576 with 1 Axes>"
            ],
            "image/png": "[encoded data removed]"
          },
          "metadata": {
            "needs_background": "light"
          }
        }
      ]
    },
    {
      "cell_type": "markdown",
      "metadata": {
        "id": "18urV49GmfG1"
      },
      "source": [
        "## 4.Compare datasets to detect duplicate titles.\n",
        "\n",
        "In this section, we will concatenate out three datasets and detect if there are duplicated articles. Finally, we will save the resulting DataFrame that will be filtered using the main research question."
      ]
    },
    {
      "cell_type": "code",
      "execution_count": null,
      "metadata": {
        "id": "VAIO4n9zmfG1"
      },
      "outputs": [],
      "source": [
        "# concat DataFrames\n",
        "df_gs_sc_pm = pd.concat([df_gs, df_sc, df_pm], ignore_index=True)"
      ]
    },
    {
      "cell_type": "code",
      "execution_count": null,
      "metadata": {
        "id": "ELIjG8fdmfG1",
        "outputId": "ace05787-4a39-4eb7-bfc2-04be80691c13",
        "colab": {
          "base_uri": "https://localhost:8080/",
          "height": 206
        }
      },
      "outputs": [
        {
          "output_type": "execute_result",
          "data": {
            "text/plain": [
              "                                         Paper Title    Year  \\\n",
              "0  Aerosol optical depth as a measure of particul...  2015.0   \n",
              "1  Time series analysis of fine particulate matte...  2013.0   \n",
              "2  Fine particulate matter concentration and comp...  2021.0   \n",
              "3  Spatial Correlation of Satellite-Derived PM2.5...  2016.0   \n",
              "4  HIPAA compliant wireless sensing smartwatch ap...  2016.0   \n",
              "\n",
              "                                   Author  Citation           Publication  \\\n",
              "0           G Higgs, DA Sterling, S Aryal       8.0  journals.sagepub.com   \n",
              "1         CT Elliott, SB Henderson, V Wan     100.0              Springer   \n",
              "2  É Lavigne, R Talarico, A van Donkelaar      24.0              Elsevier   \n",
              "3       CJ Liu, CY Liu, NT Mong, CCK Chou      22.0              mdpi.com   \n",
              "4                A Hosseini, CM Buonocore      24.0   ieeexplore.ieee.org   \n",
              "\n",
              "                                        Url of paper  \\\n",
              "0  https://journals.sagepub.com/doi/abs/10.4137/E...   \n",
              "1  https://link.springer.com/article/10.1186/1476...   \n",
              "2  https://www.sciencedirect.com/science/article/...   \n",
              "3                        https://www.mdpi.com/164068   \n",
              "4  https://ieeexplore.ieee.org/abstract/document/...   \n",
              "\n",
              "                                            Abstract  \n",
              "0  An understanding of human health implications ...  \n",
              "1  Several studies have evaluated the association...  \n",
              "2  Background Several studies have found positive...  \n",
              "3  Respiratory diseases, particularly allergic rh...  \n",
              "4  Asthma is the most prevalent chronic disease a...  "
            ],
            "text/html": [
              "\n",
              "  <div id=\"df-9df7df49-a679-4cd8-896b-ddc8f377c81f\">\n",
              "    <div class=\"colab-df-container\">\n",
              "      <div>\n",
              "<style scoped>\n",
              "    .dataframe tbody tr th:only-of-type {\n",
              "        vertical-align: middle;\n",
              "    }\n",
              "\n",
              "    .dataframe tbody tr th {\n",
              "        vertical-align: top;\n",
              "    }\n",
              "\n",
              "    .dataframe thead th {\n",
              "        text-align: right;\n",
              "    }\n",
              "</style>\n",
              "<table border=\"1\" class=\"dataframe\">\n",
              "  <thead>\n",
              "    <tr style=\"text-align: right;\">\n",
              "      <th></th>\n",
              "      <th>Paper Title</th>\n",
              "      <th>Year</th>\n",
              "      <th>Author</th>\n",
              "      <th>Citation</th>\n",
              "      <th>Publication</th>\n",
              "      <th>Url of paper</th>\n",
              "      <th>Abstract</th>\n",
              "    </tr>\n",
              "  </thead>\n",
              "  <tbody>\n",
              "    <tr>\n",
              "      <th>0</th>\n",
              "      <td>Aerosol optical depth as a measure of particul...</td>\n",
              "      <td>2015.0</td>\n",
              "      <td>G Higgs, DA Sterling, S Aryal</td>\n",
              "      <td>8.0</td>\n",
              "      <td>journals.sagepub.com</td>\n",
              "      <td>https://journals.sagepub.com/doi/abs/10.4137/E...</td>\n",
              "      <td>An understanding of human health implications ...</td>\n",
              "    </tr>\n",
              "    <tr>\n",
              "      <th>1</th>\n",
              "      <td>Time series analysis of fine particulate matte...</td>\n",
              "      <td>2013.0</td>\n",
              "      <td>CT Elliott, SB Henderson, V Wan</td>\n",
              "      <td>100.0</td>\n",
              "      <td>Springer</td>\n",
              "      <td>https://link.springer.com/article/10.1186/1476...</td>\n",
              "      <td>Several studies have evaluated the association...</td>\n",
              "    </tr>\n",
              "    <tr>\n",
              "      <th>2</th>\n",
              "      <td>Fine particulate matter concentration and comp...</td>\n",
              "      <td>2021.0</td>\n",
              "      <td>É Lavigne, R Talarico, A van Donkelaar</td>\n",
              "      <td>24.0</td>\n",
              "      <td>Elsevier</td>\n",
              "      <td>https://www.sciencedirect.com/science/article/...</td>\n",
              "      <td>Background Several studies have found positive...</td>\n",
              "    </tr>\n",
              "    <tr>\n",
              "      <th>3</th>\n",
              "      <td>Spatial Correlation of Satellite-Derived PM2.5...</td>\n",
              "      <td>2016.0</td>\n",
              "      <td>CJ Liu, CY Liu, NT Mong, CCK Chou</td>\n",
              "      <td>22.0</td>\n",
              "      <td>mdpi.com</td>\n",
              "      <td>https://www.mdpi.com/164068</td>\n",
              "      <td>Respiratory diseases, particularly allergic rh...</td>\n",
              "    </tr>\n",
              "    <tr>\n",
              "      <th>4</th>\n",
              "      <td>HIPAA compliant wireless sensing smartwatch ap...</td>\n",
              "      <td>2016.0</td>\n",
              "      <td>A Hosseini, CM Buonocore</td>\n",
              "      <td>24.0</td>\n",
              "      <td>ieeexplore.ieee.org</td>\n",
              "      <td>https://ieeexplore.ieee.org/abstract/document/...</td>\n",
              "      <td>Asthma is the most prevalent chronic disease a...</td>\n",
              "    </tr>\n",
              "  </tbody>\n",
              "</table>\n",
              "</div>\n",
              "      <button class=\"colab-df-convert\" onclick=\"convertToInteractive('df-9df7df49-a679-4cd8-896b-ddc8f377c81f')\"\n",
              "              title=\"Convert this dataframe to an interactive table.\"\n",
              "              style=\"display:none;\">\n",
              "        \n",
              "  <svg xmlns=\"http://www.w3.org/2000/svg\" height=\"24px\"viewBox=\"0 0 24 24\"\n",
              "       width=\"24px\">\n",
              "    <path d=\"M0 0h24v24H0V0z\" fill=\"none\"/>\n",
              "    <path d=\"M18.56 5.44l.94 2.06.94-2.06 2.06-.94-2.06-.94-.94-2.06-.94 2.06-2.06.94zm-11 1L8.5 8.5l.94-2.06 2.06-.94-2.06-.94L8.5 2.5l-.94 2.06-2.06.94zm10 10l.94 2.06.94-2.06 2.06-.94-2.06-.94-.94-2.06-.94 2.06-2.06.94z\"/><path d=\"M17.41 7.96l-1.37-1.37c-.4-.4-.92-.59-1.43-.59-.52 0-1.04.2-1.43.59L10.3 9.45l-7.72 7.72c-.78.78-.78 2.05 0 2.83L4 21.41c.39.39.9.59 1.41.59.51 0 1.02-.2 1.41-.59l7.78-7.78 2.81-2.81c.8-.78.8-2.07 0-2.86zM5.41 20L4 18.59l7.72-7.72 1.47 1.35L5.41 20z\"/>\n",
              "  </svg>\n",
              "      </button>\n",
              "      \n",
              "  <style>\n",
              "    .colab-df-container {\n",
              "      display:flex;\n",
              "      flex-wrap:wrap;\n",
              "      gap: 12px;\n",
              "    }\n",
              "\n",
              "    .colab-df-convert {\n",
              "      background-color: #E8F0FE;\n",
              "      border: none;\n",
              "      border-radius: 50%;\n",
              "      cursor: pointer;\n",
              "      display: none;\n",
              "      fill: #1967D2;\n",
              "      height: 32px;\n",
              "      padding: 0 0 0 0;\n",
              "      width: 32px;\n",
              "    }\n",
              "\n",
              "    .colab-df-convert:hover {\n",
              "      background-color: #E2EBFA;\n",
              "      box-shadow: 0px 1px 2px rgba(60, 64, 67, 0.3), 0px 1px 3px 1px rgba(60, 64, 67, 0.15);\n",
              "      fill: #174EA6;\n",
              "    }\n",
              "\n",
              "    [theme=dark] .colab-df-convert {\n",
              "      background-color: #3B4455;\n",
              "      fill: #D2E3FC;\n",
              "    }\n",
              "\n",
              "    [theme=dark] .colab-df-convert:hover {\n",
              "      background-color: #434B5C;\n",
              "      box-shadow: 0px 1px 3px 1px rgba(0, 0, 0, 0.15);\n",
              "      filter: drop-shadow(0px 1px 2px rgba(0, 0, 0, 0.3));\n",
              "      fill: #FFFFFF;\n",
              "    }\n",
              "  </style>\n",
              "\n",
              "      <script>\n",
              "        const buttonEl =\n",
              "          document.querySelector('#df-9df7df49-a679-4cd8-896b-ddc8f377c81f button.colab-df-convert');\n",
              "        buttonEl.style.display =\n",
              "          google.colab.kernel.accessAllowed ? 'block' : 'none';\n",
              "\n",
              "        async function convertToInteractive(key) {\n",
              "          const element = document.querySelector('#df-9df7df49-a679-4cd8-896b-ddc8f377c81f');\n",
              "          const dataTable =\n",
              "            await google.colab.kernel.invokeFunction('convertToInteractive',\n",
              "                                                     [key], {});\n",
              "          if (!dataTable) return;\n",
              "\n",
              "          const docLinkHtml = 'Like what you see? Visit the ' +\n",
              "            '<a target=\"_blank\" href=https://colab.research.google.com/notebooks/data_table.ipynb>data table notebook</a>'\n",
              "            + ' to learn more about interactive tables.';\n",
              "          element.innerHTML = '';\n",
              "          dataTable['output_type'] = 'display_data';\n",
              "          await google.colab.output.renderOutput(dataTable, element);\n",
              "          const docLink = document.createElement('div');\n",
              "          docLink.innerHTML = docLinkHtml;\n",
              "          element.appendChild(docLink);\n",
              "        }\n",
              "      </script>\n",
              "    </div>\n",
              "  </div>\n",
              "  "
            ]
          },
          "metadata": {},
          "execution_count": 67
        }
      ],
      "source": [
        "df_gs_sc_pm.head()"
      ]
    },
    {
      "cell_type": "code",
      "execution_count": null,
      "metadata": {
        "id": "FHi85V2emfG2",
        "outputId": "f9d072ea-5584-47d6-9c65-56a453a993c7",
        "colab": {
          "base_uri": "https://localhost:8080/"
        }
      },
      "outputs": [
        {
          "output_type": "stream",
          "name": "stdout",
          "text": [
            "194\n"
          ]
        },
        {
          "output_type": "execute_result",
          "data": {
            "text/plain": [
              "True"
            ]
          },
          "metadata": {},
          "execution_count": 68
        }
      ],
      "source": [
        "# verify length\n",
        "print(len(df_gs_sc_pm))\n",
        "len(df_gs) + len(df_sc) + len(df_pm) == len(df_gs_sc_pm)"
      ]
    },
    {
      "cell_type": "code",
      "execution_count": null,
      "metadata": {
        "id": "oPh3rygZmfG2"
      },
      "outputs": [],
      "source": [
        "# detect duplicated\n",
        "duplicate = df_gs_sc_pm[df_gs_sc_pm.duplicated(['Paper Title'], keep='last')]"
      ]
    },
    {
      "cell_type": "code",
      "execution_count": null,
      "metadata": {
        "id": "T2d_wHHImfG2",
        "outputId": "43f02fa1-023f-4cb1-8c15-208e69cc512a",
        "colab": {
          "base_uri": "https://localhost:8080/",
          "height": 431
        }
      },
      "outputs": [
        {
          "output_type": "execute_result",
          "data": {
            "text/plain": [
              "                                           Paper Title    Year  \\\n",
              "1    Time series analysis of fine particulate matte...  2013.0   \n",
              "69   Predicting high-resolution spatial and tempora...  2022.0   \n",
              "167  [PDF][PDF] Stadtbäume: Wachstum, Funktionen un...  2018.0   \n",
              "172  Using Satellites to Track Indicators of Global...  2020.0   \n",
              "174  Early life exposure to air pollution and incid...  2020.0   \n",
              "178  Time-series analysis of satellite-derived fine...  2019.0   \n",
              "184  An empirical model to estimate daily forest fi...  2014.0   \n",
              "185  Evaluation of a wildfire smoke forecasting sys...  2013.0   \n",
              "\n",
              "                                                Author  Citation  \\\n",
              "1                      CT Elliott, SB Henderson, V Wan     100.0   \n",
              "69                                            T Okome        0.0   \n",
              "167                       A Moser, T Rötzer, S Pauleit      11.0   \n",
              "172  Anenberg S.C., Bindl M., Brauer M., Castillo J...      12.0   \n",
              "174  To T., Zhu J., Stieb D., Gray N., Fong I., Pin...      52.0   \n",
              "178  Chang H.H., Pan A., Lary D.J., Waller L.A., Zh...      10.0   \n",
              "184                             Yao J., Henderson S.B.      39.0   \n",
              "185                  Yao J., Brauer M., Henderson S.B.      43.0   \n",
              "\n",
              "                                           Publication  \\\n",
              "1                                             Springer   \n",
              "69                              escholarship.mcgill.ca   \n",
              "167                            waldwachstum.wzw.tum.de   \n",
              "172                                          GeoHealth   \n",
              "174                       European Respiratory Journal   \n",
              "178            Environmental Monitoring and Assessment   \n",
              "184  Journal of Exposure Science and Environmental ...   \n",
              "185                  Environmental Health Perspectives   \n",
              "\n",
              "                                          Url of paper  \\\n",
              "1    https://link.springer.com/article/10.1186/1476...   \n",
              "69   https://escholarship.mcgill.ca/concern/theses/...   \n",
              "167  https://www.waldwachstum.wzw.tum.de/fileadmin/...   \n",
              "172  https://www.scopus.com/inward/record.uri?eid=2...   \n",
              "174  https://www.scopus.com/inward/record.uri?eid=2...   \n",
              "178  https://www.scopus.com/inward/record.uri?eid=2...   \n",
              "184  https://www.scopus.com/inward/record.uri?eid=2...   \n",
              "185  https://www.scopus.com/inward/record.uri?eid=2...   \n",
              "\n",
              "                                              Abstract  \n",
              "1    Several studies have evaluated the association...  \n",
              "69   Background: Scientists expect climate change t...  \n",
              "167  Als Folge der Urbanisierung steigt die Zahl de...  \n",
              "172  The 2018 NASA Health and Air Quality Applied S...  \n",
              "174  Rationale: There is growing evidence that air ...  \n",
              "178  In order to examine associations between asthm...  \n",
              "184  Exposure to forest fire smoke (FFS) is associa...  \n",
              "185  Background: Exposure to wildfire smoke has bee...  "
            ],
            "text/html": [
              "\n",
              "  <div id=\"df-a6539f09-a7f0-4eda-be8a-f21043bf5674\">\n",
              "    <div class=\"colab-df-container\">\n",
              "      <div>\n",
              "<style scoped>\n",
              "    .dataframe tbody tr th:only-of-type {\n",
              "        vertical-align: middle;\n",
              "    }\n",
              "\n",
              "    .dataframe tbody tr th {\n",
              "        vertical-align: top;\n",
              "    }\n",
              "\n",
              "    .dataframe thead th {\n",
              "        text-align: right;\n",
              "    }\n",
              "</style>\n",
              "<table border=\"1\" class=\"dataframe\">\n",
              "  <thead>\n",
              "    <tr style=\"text-align: right;\">\n",
              "      <th></th>\n",
              "      <th>Paper Title</th>\n",
              "      <th>Year</th>\n",
              "      <th>Author</th>\n",
              "      <th>Citation</th>\n",
              "      <th>Publication</th>\n",
              "      <th>Url of paper</th>\n",
              "      <th>Abstract</th>\n",
              "    </tr>\n",
              "  </thead>\n",
              "  <tbody>\n",
              "    <tr>\n",
              "      <th>1</th>\n",
              "      <td>Time series analysis of fine particulate matte...</td>\n",
              "      <td>2013.0</td>\n",
              "      <td>CT Elliott, SB Henderson, V Wan</td>\n",
              "      <td>100.0</td>\n",
              "      <td>Springer</td>\n",
              "      <td>https://link.springer.com/article/10.1186/1476...</td>\n",
              "      <td>Several studies have evaluated the association...</td>\n",
              "    </tr>\n",
              "    <tr>\n",
              "      <th>69</th>\n",
              "      <td>Predicting high-resolution spatial and tempora...</td>\n",
              "      <td>2022.0</td>\n",
              "      <td>T Okome</td>\n",
              "      <td>0.0</td>\n",
              "      <td>escholarship.mcgill.ca</td>\n",
              "      <td>https://escholarship.mcgill.ca/concern/theses/...</td>\n",
              "      <td>Background: Scientists expect climate change t...</td>\n",
              "    </tr>\n",
              "    <tr>\n",
              "      <th>167</th>\n",
              "      <td>[PDF][PDF] Stadtbäume: Wachstum, Funktionen un...</td>\n",
              "      <td>2018.0</td>\n",
              "      <td>A Moser, T Rötzer, S Pauleit</td>\n",
              "      <td>11.0</td>\n",
              "      <td>waldwachstum.wzw.tum.de</td>\n",
              "      <td>https://www.waldwachstum.wzw.tum.de/fileadmin/...</td>\n",
              "      <td>Als Folge der Urbanisierung steigt die Zahl de...</td>\n",
              "    </tr>\n",
              "    <tr>\n",
              "      <th>172</th>\n",
              "      <td>Using Satellites to Track Indicators of Global...</td>\n",
              "      <td>2020.0</td>\n",
              "      <td>Anenberg S.C., Bindl M., Brauer M., Castillo J...</td>\n",
              "      <td>12.0</td>\n",
              "      <td>GeoHealth</td>\n",
              "      <td>https://www.scopus.com/inward/record.uri?eid=2...</td>\n",
              "      <td>The 2018 NASA Health and Air Quality Applied S...</td>\n",
              "    </tr>\n",
              "    <tr>\n",
              "      <th>174</th>\n",
              "      <td>Early life exposure to air pollution and incid...</td>\n",
              "      <td>2020.0</td>\n",
              "      <td>To T., Zhu J., Stieb D., Gray N., Fong I., Pin...</td>\n",
              "      <td>52.0</td>\n",
              "      <td>European Respiratory Journal</td>\n",
              "      <td>https://www.scopus.com/inward/record.uri?eid=2...</td>\n",
              "      <td>Rationale: There is growing evidence that air ...</td>\n",
              "    </tr>\n",
              "    <tr>\n",
              "      <th>178</th>\n",
              "      <td>Time-series analysis of satellite-derived fine...</td>\n",
              "      <td>2019.0</td>\n",
              "      <td>Chang H.H., Pan A., Lary D.J., Waller L.A., Zh...</td>\n",
              "      <td>10.0</td>\n",
              "      <td>Environmental Monitoring and Assessment</td>\n",
              "      <td>https://www.scopus.com/inward/record.uri?eid=2...</td>\n",
              "      <td>In order to examine associations between asthm...</td>\n",
              "    </tr>\n",
              "    <tr>\n",
              "      <th>184</th>\n",
              "      <td>An empirical model to estimate daily forest fi...</td>\n",
              "      <td>2014.0</td>\n",
              "      <td>Yao J., Henderson S.B.</td>\n",
              "      <td>39.0</td>\n",
              "      <td>Journal of Exposure Science and Environmental ...</td>\n",
              "      <td>https://www.scopus.com/inward/record.uri?eid=2...</td>\n",
              "      <td>Exposure to forest fire smoke (FFS) is associa...</td>\n",
              "    </tr>\n",
              "    <tr>\n",
              "      <th>185</th>\n",
              "      <td>Evaluation of a wildfire smoke forecasting sys...</td>\n",
              "      <td>2013.0</td>\n",
              "      <td>Yao J., Brauer M., Henderson S.B.</td>\n",
              "      <td>43.0</td>\n",
              "      <td>Environmental Health Perspectives</td>\n",
              "      <td>https://www.scopus.com/inward/record.uri?eid=2...</td>\n",
              "      <td>Background: Exposure to wildfire smoke has bee...</td>\n",
              "    </tr>\n",
              "  </tbody>\n",
              "</table>\n",
              "</div>\n",
              "      <button class=\"colab-df-convert\" onclick=\"convertToInteractive('df-a6539f09-a7f0-4eda-be8a-f21043bf5674')\"\n",
              "              title=\"Convert this dataframe to an interactive table.\"\n",
              "              style=\"display:none;\">\n",
              "        \n",
              "  <svg xmlns=\"http://www.w3.org/2000/svg\" height=\"24px\"viewBox=\"0 0 24 24\"\n",
              "       width=\"24px\">\n",
              "    <path d=\"M0 0h24v24H0V0z\" fill=\"none\"/>\n",
              "    <path d=\"M18.56 5.44l.94 2.06.94-2.06 2.06-.94-2.06-.94-.94-2.06-.94 2.06-2.06.94zm-11 1L8.5 8.5l.94-2.06 2.06-.94-2.06-.94L8.5 2.5l-.94 2.06-2.06.94zm10 10l.94 2.06.94-2.06 2.06-.94-2.06-.94-.94-2.06-.94 2.06-2.06.94z\"/><path d=\"M17.41 7.96l-1.37-1.37c-.4-.4-.92-.59-1.43-.59-.52 0-1.04.2-1.43.59L10.3 9.45l-7.72 7.72c-.78.78-.78 2.05 0 2.83L4 21.41c.39.39.9.59 1.41.59.51 0 1.02-.2 1.41-.59l7.78-7.78 2.81-2.81c.8-.78.8-2.07 0-2.86zM5.41 20L4 18.59l7.72-7.72 1.47 1.35L5.41 20z\"/>\n",
              "  </svg>\n",
              "      </button>\n",
              "      \n",
              "  <style>\n",
              "    .colab-df-container {\n",
              "      display:flex;\n",
              "      flex-wrap:wrap;\n",
              "      gap: 12px;\n",
              "    }\n",
              "\n",
              "    .colab-df-convert {\n",
              "      background-color: #E8F0FE;\n",
              "      border: none;\n",
              "      border-radius: 50%;\n",
              "      cursor: pointer;\n",
              "      display: none;\n",
              "      fill: #1967D2;\n",
              "      height: 32px;\n",
              "      padding: 0 0 0 0;\n",
              "      width: 32px;\n",
              "    }\n",
              "\n",
              "    .colab-df-convert:hover {\n",
              "      background-color: #E2EBFA;\n",
              "      box-shadow: 0px 1px 2px rgba(60, 64, 67, 0.3), 0px 1px 3px 1px rgba(60, 64, 67, 0.15);\n",
              "      fill: #174EA6;\n",
              "    }\n",
              "\n",
              "    [theme=dark] .colab-df-convert {\n",
              "      background-color: #3B4455;\n",
              "      fill: #D2E3FC;\n",
              "    }\n",
              "\n",
              "    [theme=dark] .colab-df-convert:hover {\n",
              "      background-color: #434B5C;\n",
              "      box-shadow: 0px 1px 3px 1px rgba(0, 0, 0, 0.15);\n",
              "      filter: drop-shadow(0px 1px 2px rgba(0, 0, 0, 0.3));\n",
              "      fill: #FFFFFF;\n",
              "    }\n",
              "  </style>\n",
              "\n",
              "      <script>\n",
              "        const buttonEl =\n",
              "          document.querySelector('#df-a6539f09-a7f0-4eda-be8a-f21043bf5674 button.colab-df-convert');\n",
              "        buttonEl.style.display =\n",
              "          google.colab.kernel.accessAllowed ? 'block' : 'none';\n",
              "\n",
              "        async function convertToInteractive(key) {\n",
              "          const element = document.querySelector('#df-a6539f09-a7f0-4eda-be8a-f21043bf5674');\n",
              "          const dataTable =\n",
              "            await google.colab.kernel.invokeFunction('convertToInteractive',\n",
              "                                                     [key], {});\n",
              "          if (!dataTable) return;\n",
              "\n",
              "          const docLinkHtml = 'Like what you see? Visit the ' +\n",
              "            '<a target=\"_blank\" href=https://colab.research.google.com/notebooks/data_table.ipynb>data table notebook</a>'\n",
              "            + ' to learn more about interactive tables.';\n",
              "          element.innerHTML = '';\n",
              "          dataTable['output_type'] = 'display_data';\n",
              "          await google.colab.output.renderOutput(dataTable, element);\n",
              "          const docLink = document.createElement('div');\n",
              "          docLink.innerHTML = docLinkHtml;\n",
              "          element.appendChild(docLink);\n",
              "        }\n",
              "      </script>\n",
              "    </div>\n",
              "  </div>\n",
              "  "
            ]
          },
          "metadata": {},
          "execution_count": 70
        }
      ],
      "source": [
        "duplicate"
      ]
    },
    {
      "cell_type": "code",
      "execution_count": null,
      "metadata": {
        "id": "IsukPmFimfG2",
        "outputId": "b3e3b1fd-06e3-4d0d-9526-3bc1edbba108",
        "colab": {
          "base_uri": "https://localhost:8080/"
        }
      },
      "outputs": [
        {
          "output_type": "execute_result",
          "data": {
            "text/plain": [
              "8"
            ]
          },
          "metadata": {},
          "execution_count": 71
        }
      ],
      "source": [
        "len(duplicate)"
      ]
    },
    {
      "cell_type": "code",
      "execution_count": null,
      "metadata": {
        "id": "vcRIOyFomfG2",
        "outputId": "a4d5ca5a-b77f-472e-c5bf-dfedacf010a5",
        "colab": {
          "base_uri": "https://localhost:8080/",
          "height": 206
        }
      },
      "outputs": [
        {
          "output_type": "execute_result",
          "data": {
            "text/plain": [
              "                                         Paper Title    Year  \\\n",
              "0  Aerosol optical depth as a measure of particul...  2015.0   \n",
              "2  Fine particulate matter concentration and comp...  2021.0   \n",
              "3  Spatial Correlation of Satellite-Derived PM2.5...  2016.0   \n",
              "4  HIPAA compliant wireless sensing smartwatch ap...  2016.0   \n",
              "5  [PDF][PDF] Association between climate variabl...  2017.0   \n",
              "\n",
              "                                   Author  Citation           Publication  \\\n",
              "0           G Higgs, DA Sterling, S Aryal       8.0  journals.sagepub.com   \n",
              "2  É Lavigne, R Talarico, A van Donkelaar      24.0              Elsevier   \n",
              "3       CJ Liu, CY Liu, NT Mong, CCK Chou      22.0              mdpi.com   \n",
              "4                A Hosseini, CM Buonocore      24.0   ieeexplore.ieee.org   \n",
              "5          A de Souza, DA da Silva Santos       7.0      .emnuvens.com.br   \n",
              "\n",
              "                                        Url of paper  \\\n",
              "0  https://journals.sagepub.com/doi/abs/10.4137/E...   \n",
              "2  https://www.sciencedirect.com/science/article/...   \n",
              "3                        https://www.mdpi.com/164068   \n",
              "4  https://ieeexplore.ieee.org/abstract/document/...   \n",
              "5  https://revistamundodasaude.emnuvens.com.br/mu...   \n",
              "\n",
              "                                            Abstract  \n",
              "0  An understanding of human health implications ...  \n",
              "2  Background Several studies have found positive...  \n",
              "3  Respiratory diseases, particularly allergic rh...  \n",
              "4  Asthma is the most prevalent chronic disease a...  \n",
              "5  Many studies have shown that climatic and poll...  "
            ],
            "text/html": [
              "\n",
              "  <div id=\"df-082fe842-4e8b-4d8d-9de9-e27e1b4fe8aa\">\n",
              "    <div class=\"colab-df-container\">\n",
              "      <div>\n",
              "<style scoped>\n",
              "    .dataframe tbody tr th:only-of-type {\n",
              "        vertical-align: middle;\n",
              "    }\n",
              "\n",
              "    .dataframe tbody tr th {\n",
              "        vertical-align: top;\n",
              "    }\n",
              "\n",
              "    .dataframe thead th {\n",
              "        text-align: right;\n",
              "    }\n",
              "</style>\n",
              "<table border=\"1\" class=\"dataframe\">\n",
              "  <thead>\n",
              "    <tr style=\"text-align: right;\">\n",
              "      <th></th>\n",
              "      <th>Paper Title</th>\n",
              "      <th>Year</th>\n",
              "      <th>Author</th>\n",
              "      <th>Citation</th>\n",
              "      <th>Publication</th>\n",
              "      <th>Url of paper</th>\n",
              "      <th>Abstract</th>\n",
              "    </tr>\n",
              "  </thead>\n",
              "  <tbody>\n",
              "    <tr>\n",
              "      <th>0</th>\n",
              "      <td>Aerosol optical depth as a measure of particul...</td>\n",
              "      <td>2015.0</td>\n",
              "      <td>G Higgs, DA Sterling, S Aryal</td>\n",
              "      <td>8.0</td>\n",
              "      <td>journals.sagepub.com</td>\n",
              "      <td>https://journals.sagepub.com/doi/abs/10.4137/E...</td>\n",
              "      <td>An understanding of human health implications ...</td>\n",
              "    </tr>\n",
              "    <tr>\n",
              "      <th>2</th>\n",
              "      <td>Fine particulate matter concentration and comp...</td>\n",
              "      <td>2021.0</td>\n",
              "      <td>É Lavigne, R Talarico, A van Donkelaar</td>\n",
              "      <td>24.0</td>\n",
              "      <td>Elsevier</td>\n",
              "      <td>https://www.sciencedirect.com/science/article/...</td>\n",
              "      <td>Background Several studies have found positive...</td>\n",
              "    </tr>\n",
              "    <tr>\n",
              "      <th>3</th>\n",
              "      <td>Spatial Correlation of Satellite-Derived PM2.5...</td>\n",
              "      <td>2016.0</td>\n",
              "      <td>CJ Liu, CY Liu, NT Mong, CCK Chou</td>\n",
              "      <td>22.0</td>\n",
              "      <td>mdpi.com</td>\n",
              "      <td>https://www.mdpi.com/164068</td>\n",
              "      <td>Respiratory diseases, particularly allergic rh...</td>\n",
              "    </tr>\n",
              "    <tr>\n",
              "      <th>4</th>\n",
              "      <td>HIPAA compliant wireless sensing smartwatch ap...</td>\n",
              "      <td>2016.0</td>\n",
              "      <td>A Hosseini, CM Buonocore</td>\n",
              "      <td>24.0</td>\n",
              "      <td>ieeexplore.ieee.org</td>\n",
              "      <td>https://ieeexplore.ieee.org/abstract/document/...</td>\n",
              "      <td>Asthma is the most prevalent chronic disease a...</td>\n",
              "    </tr>\n",
              "    <tr>\n",
              "      <th>5</th>\n",
              "      <td>[PDF][PDF] Association between climate variabl...</td>\n",
              "      <td>2017.0</td>\n",
              "      <td>A de Souza, DA da Silva Santos</td>\n",
              "      <td>7.0</td>\n",
              "      <td>.emnuvens.com.br</td>\n",
              "      <td>https://revistamundodasaude.emnuvens.com.br/mu...</td>\n",
              "      <td>Many studies have shown that climatic and poll...</td>\n",
              "    </tr>\n",
              "  </tbody>\n",
              "</table>\n",
              "</div>\n",
              "      <button class=\"colab-df-convert\" onclick=\"convertToInteractive('df-082fe842-4e8b-4d8d-9de9-e27e1b4fe8aa')\"\n",
              "              title=\"Convert this dataframe to an interactive table.\"\n",
              "              style=\"display:none;\">\n",
              "        \n",
              "  <svg xmlns=\"http://www.w3.org/2000/svg\" height=\"24px\"viewBox=\"0 0 24 24\"\n",
              "       width=\"24px\">\n",
              "    <path d=\"M0 0h24v24H0V0z\" fill=\"none\"/>\n",
              "    <path d=\"M18.56 5.44l.94 2.06.94-2.06 2.06-.94-2.06-.94-.94-2.06-.94 2.06-2.06.94zm-11 1L8.5 8.5l.94-2.06 2.06-.94-2.06-.94L8.5 2.5l-.94 2.06-2.06.94zm10 10l.94 2.06.94-2.06 2.06-.94-2.06-.94-.94-2.06-.94 2.06-2.06.94z\"/><path d=\"M17.41 7.96l-1.37-1.37c-.4-.4-.92-.59-1.43-.59-.52 0-1.04.2-1.43.59L10.3 9.45l-7.72 7.72c-.78.78-.78 2.05 0 2.83L4 21.41c.39.39.9.59 1.41.59.51 0 1.02-.2 1.41-.59l7.78-7.78 2.81-2.81c.8-.78.8-2.07 0-2.86zM5.41 20L4 18.59l7.72-7.72 1.47 1.35L5.41 20z\"/>\n",
              "  </svg>\n",
              "      </button>\n",
              "      \n",
              "  <style>\n",
              "    .colab-df-container {\n",
              "      display:flex;\n",
              "      flex-wrap:wrap;\n",
              "      gap: 12px;\n",
              "    }\n",
              "\n",
              "    .colab-df-convert {\n",
              "      background-color: #E8F0FE;\n",
              "      border: none;\n",
              "      border-radius: 50%;\n",
              "      cursor: pointer;\n",
              "      display: none;\n",
              "      fill: #1967D2;\n",
              "      height: 32px;\n",
              "      padding: 0 0 0 0;\n",
              "      width: 32px;\n",
              "    }\n",
              "\n",
              "    .colab-df-convert:hover {\n",
              "      background-color: #E2EBFA;\n",
              "      box-shadow: 0px 1px 2px rgba(60, 64, 67, 0.3), 0px 1px 3px 1px rgba(60, 64, 67, 0.15);\n",
              "      fill: #174EA6;\n",
              "    }\n",
              "\n",
              "    [theme=dark] .colab-df-convert {\n",
              "      background-color: #3B4455;\n",
              "      fill: #D2E3FC;\n",
              "    }\n",
              "\n",
              "    [theme=dark] .colab-df-convert:hover {\n",
              "      background-color: #434B5C;\n",
              "      box-shadow: 0px 1px 3px 1px rgba(0, 0, 0, 0.15);\n",
              "      filter: drop-shadow(0px 1px 2px rgba(0, 0, 0, 0.3));\n",
              "      fill: #FFFFFF;\n",
              "    }\n",
              "  </style>\n",
              "\n",
              "      <script>\n",
              "        const buttonEl =\n",
              "          document.querySelector('#df-082fe842-4e8b-4d8d-9de9-e27e1b4fe8aa button.colab-df-convert');\n",
              "        buttonEl.style.display =\n",
              "          google.colab.kernel.accessAllowed ? 'block' : 'none';\n",
              "\n",
              "        async function convertToInteractive(key) {\n",
              "          const element = document.querySelector('#df-082fe842-4e8b-4d8d-9de9-e27e1b4fe8aa');\n",
              "          const dataTable =\n",
              "            await google.colab.kernel.invokeFunction('convertToInteractive',\n",
              "                                                     [key], {});\n",
              "          if (!dataTable) return;\n",
              "\n",
              "          const docLinkHtml = 'Like what you see? Visit the ' +\n",
              "            '<a target=\"_blank\" href=https://colab.research.google.com/notebooks/data_table.ipynb>data table notebook</a>'\n",
              "            + ' to learn more about interactive tables.';\n",
              "          element.innerHTML = '';\n",
              "          dataTable['output_type'] = 'display_data';\n",
              "          await google.colab.output.renderOutput(dataTable, element);\n",
              "          const docLink = document.createElement('div');\n",
              "          docLink.innerHTML = docLinkHtml;\n",
              "          element.appendChild(docLink);\n",
              "        }\n",
              "      </script>\n",
              "    </div>\n",
              "  </div>\n",
              "  "
            ]
          },
          "metadata": {},
          "execution_count": 77
        }
      ],
      "source": [
        "# drop dulicates and preserve the last one\n",
        "df_gs_sc_pm_2 = df_gs_sc_pm.drop_duplicates(subset=['Paper Title'], keep='last')\n",
        "df_gs_sc_pm_2.head()"
      ]
    },
    {
      "cell_type": "code",
      "execution_count": null,
      "metadata": {
        "id": "Lp8tqMQlmfG3",
        "outputId": "de9ae63a-cc9e-4967-864d-fae62808f4d8",
        "colab": {
          "base_uri": "https://localhost:8080/",
          "height": 49
        }
      },
      "outputs": [
        {
          "output_type": "execute_result",
          "data": {
            "text/plain": [
              "Empty DataFrame\n",
              "Columns: [Paper Title, Year, Author, Citation, Publication, Url of paper, Abstract]\n",
              "Index: []"
            ],
            "text/html": [
              "\n",
              "  <div id=\"df-979def1d-a176-4d40-80d9-2fb218da815b\">\n",
              "    <div class=\"colab-df-container\">\n",
              "      <div>\n",
              "<style scoped>\n",
              "    .dataframe tbody tr th:only-of-type {\n",
              "        vertical-align: middle;\n",
              "    }\n",
              "\n",
              "    .dataframe tbody tr th {\n",
              "        vertical-align: top;\n",
              "    }\n",
              "\n",
              "    .dataframe thead th {\n",
              "        text-align: right;\n",
              "    }\n",
              "</style>\n",
              "<table border=\"1\" class=\"dataframe\">\n",
              "  <thead>\n",
              "    <tr style=\"text-align: right;\">\n",
              "      <th></th>\n",
              "      <th>Paper Title</th>\n",
              "      <th>Year</th>\n",
              "      <th>Author</th>\n",
              "      <th>Citation</th>\n",
              "      <th>Publication</th>\n",
              "      <th>Url of paper</th>\n",
              "      <th>Abstract</th>\n",
              "    </tr>\n",
              "  </thead>\n",
              "  <tbody>\n",
              "  </tbody>\n",
              "</table>\n",
              "</div>\n",
              "      <button class=\"colab-df-convert\" onclick=\"convertToInteractive('df-979def1d-a176-4d40-80d9-2fb218da815b')\"\n",
              "              title=\"Convert this dataframe to an interactive table.\"\n",
              "              style=\"display:none;\">\n",
              "        \n",
              "  <svg xmlns=\"http://www.w3.org/2000/svg\" height=\"24px\"viewBox=\"0 0 24 24\"\n",
              "       width=\"24px\">\n",
              "    <path d=\"M0 0h24v24H0V0z\" fill=\"none\"/>\n",
              "    <path d=\"M18.56 5.44l.94 2.06.94-2.06 2.06-.94-2.06-.94-.94-2.06-.94 2.06-2.06.94zm-11 1L8.5 8.5l.94-2.06 2.06-.94-2.06-.94L8.5 2.5l-.94 2.06-2.06.94zm10 10l.94 2.06.94-2.06 2.06-.94-2.06-.94-.94-2.06-.94 2.06-2.06.94z\"/><path d=\"M17.41 7.96l-1.37-1.37c-.4-.4-.92-.59-1.43-.59-.52 0-1.04.2-1.43.59L10.3 9.45l-7.72 7.72c-.78.78-.78 2.05 0 2.83L4 21.41c.39.39.9.59 1.41.59.51 0 1.02-.2 1.41-.59l7.78-7.78 2.81-2.81c.8-.78.8-2.07 0-2.86zM5.41 20L4 18.59l7.72-7.72 1.47 1.35L5.41 20z\"/>\n",
              "  </svg>\n",
              "      </button>\n",
              "      \n",
              "  <style>\n",
              "    .colab-df-container {\n",
              "      display:flex;\n",
              "      flex-wrap:wrap;\n",
              "      gap: 12px;\n",
              "    }\n",
              "\n",
              "    .colab-df-convert {\n",
              "      background-color: #E8F0FE;\n",
              "      border: none;\n",
              "      border-radius: 50%;\n",
              "      cursor: pointer;\n",
              "      display: none;\n",
              "      fill: #1967D2;\n",
              "      height: 32px;\n",
              "      padding: 0 0 0 0;\n",
              "      width: 32px;\n",
              "    }\n",
              "\n",
              "    .colab-df-convert:hover {\n",
              "      background-color: #E2EBFA;\n",
              "      box-shadow: 0px 1px 2px rgba(60, 64, 67, 0.3), 0px 1px 3px 1px rgba(60, 64, 67, 0.15);\n",
              "      fill: #174EA6;\n",
              "    }\n",
              "\n",
              "    [theme=dark] .colab-df-convert {\n",
              "      background-color: #3B4455;\n",
              "      fill: #D2E3FC;\n",
              "    }\n",
              "\n",
              "    [theme=dark] .colab-df-convert:hover {\n",
              "      background-color: #434B5C;\n",
              "      box-shadow: 0px 1px 3px 1px rgba(0, 0, 0, 0.15);\n",
              "      filter: drop-shadow(0px 1px 2px rgba(0, 0, 0, 0.3));\n",
              "      fill: #FFFFFF;\n",
              "    }\n",
              "  </style>\n",
              "\n",
              "      <script>\n",
              "        const buttonEl =\n",
              "          document.querySelector('#df-979def1d-a176-4d40-80d9-2fb218da815b button.colab-df-convert');\n",
              "        buttonEl.style.display =\n",
              "          google.colab.kernel.accessAllowed ? 'block' : 'none';\n",
              "\n",
              "        async function convertToInteractive(key) {\n",
              "          const element = document.querySelector('#df-979def1d-a176-4d40-80d9-2fb218da815b');\n",
              "          const dataTable =\n",
              "            await google.colab.kernel.invokeFunction('convertToInteractive',\n",
              "                                                     [key], {});\n",
              "          if (!dataTable) return;\n",
              "\n",
              "          const docLinkHtml = 'Like what you see? Visit the ' +\n",
              "            '<a target=\"_blank\" href=https://colab.research.google.com/notebooks/data_table.ipynb>data table notebook</a>'\n",
              "            + ' to learn more about interactive tables.';\n",
              "          element.innerHTML = '';\n",
              "          dataTable['output_type'] = 'display_data';\n",
              "          await google.colab.output.renderOutput(dataTable, element);\n",
              "          const docLink = document.createElement('div');\n",
              "          docLink.innerHTML = docLinkHtml;\n",
              "          element.appendChild(docLink);\n",
              "        }\n",
              "      </script>\n",
              "    </div>\n",
              "  </div>\n",
              "  "
            ]
          },
          "metadata": {},
          "execution_count": 73
        }
      ],
      "source": [
        "# verify if there is any duplicate\n",
        "duplicate = df_gs_sc_pm_2[df_gs_sc_pm_2.duplicated(['Paper Title'])]\n",
        "duplicate"
      ]
    },
    {
      "cell_type": "code",
      "execution_count": null,
      "metadata": {
        "id": "ZnVXxrbXmfG3",
        "outputId": "8207a305-bd38-4e51-d762-4e849199a2b6",
        "colab": {
          "base_uri": "https://localhost:8080/"
        }
      },
      "outputs": [
        {
          "output_type": "execute_result",
          "data": {
            "text/plain": [
              "186"
            ]
          },
          "metadata": {},
          "execution_count": 74
        }
      ],
      "source": [
        "# 194-8 = 186\n",
        "len(df_gs_sc_pm_2)"
      ]
    },
    {
      "cell_type": "markdown",
      "metadata": {
        "id": "rIx8zUX8mfG3"
      },
      "source": [
        "Now, let's visualize the number of documents by year in the filtered dataframe."
      ]
    },
    {
      "cell_type": "code",
      "execution_count": null,
      "metadata": {
        "id": "E9bzOf5imfG3"
      },
      "outputs": [],
      "source": [
        "%matplotlib inline\n",
        "df_art_gs_sc_pm = df_gs_sc_pm_2 .groupby(['Year'])[['Paper Title']].count()\\\n",
        "                .rename(columns={'Paper Title':'Number of Articles'}).sort_index(ascending=True).reset_index()\n",
        "\n",
        "df_art_gs_sc_pm = df_art_gs_sc_pm.astype({\"Year\":'int'})\n",
        "df_art_gs_sc_pm = df_art_gs_sc_pm.astype({\"Year\":'str'})"
      ]
    },
    {
      "cell_type": "code",
      "execution_count": null,
      "metadata": {
        "id": "lwLFybBamfG3",
        "outputId": "1bc5ac38-202a-4387-c07c-ef182fd026f6",
        "colab": {
          "base_uri": "https://localhost:8080/",
          "height": 541
        }
      },
      "outputs": [
        {
          "output_type": "display_data",
          "data": {
            "text/plain": [
              "<Figure size 720x576 with 1 Axes>"
            ],
            "image/png": "[encoded data removed]"
          },
          "metadata": {
            "needs_background": "light"
          }
        }
      ],
      "source": [
        "plt.figure(figsize=(10,8))\n",
        "plt.bar(df_art_gs_sc_pm['Year'], df_art_gs_sc_pm['Number of Articles'],align='center')\n",
        "plt.title('Documents by Year')\n",
        "plt.xlabel('Year')\n",
        "plt.ylabel('Number of Documents')\n",
        "plt.xticks(rotation=45)\n",
        "plt.show();"
      ]
    },
    {
      "cell_type": "code",
      "execution_count": null,
      "metadata": {
        "id": "fOVVyKPmmfG4"
      },
      "outputs": [],
      "source": [
        "# save DataFrame\n",
        "df_gs_sc_pm_2.to_csv('df_gs_sc_pm.csv', index=False)"
      ]
    },
    {
      "cell_type": "markdown",
      "metadata": {
        "id": "sf3EyjqCmfG4"
      },
      "source": [
        "## 5. Reading title and abstract and answering the main research question.\n",
        "\n",
        "In this section, we will read the title and abstract of each article and try to answer the main research question. Those articles that meet the main question will be selected. To do that we will better visualize the DataFrame using `data table notebook`, then we will create a new column named `decision`where will mark if `accepted (1) rejected (0)`. The final filtered dataset will be used for subsequent querying in order to build our review article."
      ]
    },
    {
      "cell_type": "code",
      "source": [
        "import pandas as pd\n",
        "import ipywidgets as widgets"
      ],
      "metadata": {
        "id": "rBuhmfgxo6gP"
      },
      "execution_count": null,
      "outputs": []
    },
    {
      "cell_type": "code",
      "source": [
        "#\n",
        "index = 0"
      ],
      "metadata": {
        "id": "tiJ6sJVk9TR8"
      },
      "execution_count": null,
      "outputs": []
    },
    {
      "cell_type": "code",
      "execution_count": null,
      "metadata": {
        "id": "f8MHLZMGmfG4",
        "outputId": "12c3251f-17f5-44ac-c6a6-872151187463",
        "colab": {
          "base_uri": "https://localhost:8080/",
          "height": 228
        }
      },
      "outputs": [
        {
          "output_type": "execute_result",
          "data": {
            "text/plain": [
              "                                         Paper Title    Year  \\\n",
              "0  Aerosol optical depth as a measure of particul...  2015.0   \n",
              "\n",
              "                          Author  Citation           Publication  \\\n",
              "0  G Higgs, DA Sterling, S Aryal       8.0  journals.sagepub.com   \n",
              "\n",
              "                                        Url of paper  \\\n",
              "0  https://journals.sagepub.com/doi/abs/10.4137/E...   \n",
              "\n",
              "                                            Abstract  Desicion  \n",
              "0  An understanding of human health implications ...       1.0  "
            ],
            "text/html": [
              "\n",
              "  <div id=\"df-d4bb0db8-ac13-44ab-9baf-3eb0a0cb8895\">\n",
              "    <div class=\"colab-df-container\">\n",
              "      <div>\n",
              "<style scoped>\n",
              "    .dataframe tbody tr th:only-of-type {\n",
              "        vertical-align: middle;\n",
              "    }\n",
              "\n",
              "    .dataframe tbody tr th {\n",
              "        vertical-align: top;\n",
              "    }\n",
              "\n",
              "    .dataframe thead th {\n",
              "        text-align: right;\n",
              "    }\n",
              "</style>\n",
              "<table border=\"1\" class=\"dataframe\">\n",
              "  <thead>\n",
              "    <tr style=\"text-align: right;\">\n",
              "      <th></th>\n",
              "      <th>Paper Title</th>\n",
              "      <th>Year</th>\n",
              "      <th>Author</th>\n",
              "      <th>Citation</th>\n",
              "      <th>Publication</th>\n",
              "      <th>Url of paper</th>\n",
              "      <th>Abstract</th>\n",
              "      <th>Desicion</th>\n",
              "    </tr>\n",
              "  </thead>\n",
              "  <tbody>\n",
              "    <tr>\n",
              "      <th>0</th>\n",
              "      <td>Aerosol optical depth as a measure of particul...</td>\n",
              "      <td>2015.0</td>\n",
              "      <td>G Higgs, DA Sterling, S Aryal</td>\n",
              "      <td>8.0</td>\n",
              "      <td>journals.sagepub.com</td>\n",
              "      <td>https://journals.sagepub.com/doi/abs/10.4137/E...</td>\n",
              "      <td>An understanding of human health implications ...</td>\n",
              "      <td>1.0</td>\n",
              "    </tr>\n",
              "  </tbody>\n",
              "</table>\n",
              "</div>\n",
              "      <button class=\"colab-df-convert\" onclick=\"convertToInteractive('df-d4bb0db8-ac13-44ab-9baf-3eb0a0cb8895')\"\n",
              "              title=\"Convert this dataframe to an interactive table.\"\n",
              "              style=\"display:none;\">\n",
              "        \n",
              "  <svg xmlns=\"http://www.w3.org/2000/svg\" height=\"24px\"viewBox=\"0 0 24 24\"\n",
              "       width=\"24px\">\n",
              "    <path d=\"M0 0h24v24H0V0z\" fill=\"none\"/>\n",
              "    <path d=\"M18.56 5.44l.94 2.06.94-2.06 2.06-.94-2.06-.94-.94-2.06-.94 2.06-2.06.94zm-11 1L8.5 8.5l.94-2.06 2.06-.94-2.06-.94L8.5 2.5l-.94 2.06-2.06.94zm10 10l.94 2.06.94-2.06 2.06-.94-2.06-.94-.94-2.06-.94 2.06-2.06.94z\"/><path d=\"M17.41 7.96l-1.37-1.37c-.4-.4-.92-.59-1.43-.59-.52 0-1.04.2-1.43.59L10.3 9.45l-7.72 7.72c-.78.78-.78 2.05 0 2.83L4 21.41c.39.39.9.59 1.41.59.51 0 1.02-.2 1.41-.59l7.78-7.78 2.81-2.81c.8-.78.8-2.07 0-2.86zM5.41 20L4 18.59l7.72-7.72 1.47 1.35L5.41 20z\"/>\n",
              "  </svg>\n",
              "      </button>\n",
              "      \n",
              "  <style>\n",
              "    .colab-df-container {\n",
              "      display:flex;\n",
              "      flex-wrap:wrap;\n",
              "      gap: 12px;\n",
              "    }\n",
              "\n",
              "    .colab-df-convert {\n",
              "      background-color: #E8F0FE;\n",
              "      border: none;\n",
              "      border-radius: 50%;\n",
              "      cursor: pointer;\n",
              "      display: none;\n",
              "      fill: #1967D2;\n",
              "      height: 32px;\n",
              "      padding: 0 0 0 0;\n",
              "      width: 32px;\n",
              "    }\n",
              "\n",
              "    .colab-df-convert:hover {\n",
              "      background-color: #E2EBFA;\n",
              "      box-shadow: 0px 1px 2px rgba(60, 64, 67, 0.3), 0px 1px 3px 1px rgba(60, 64, 67, 0.15);\n",
              "      fill: #174EA6;\n",
              "    }\n",
              "\n",
              "    [theme=dark] .colab-df-convert {\n",
              "      background-color: #3B4455;\n",
              "      fill: #D2E3FC;\n",
              "    }\n",
              "\n",
              "    [theme=dark] .colab-df-convert:hover {\n",
              "      background-color: #434B5C;\n",
              "      box-shadow: 0px 1px 3px 1px rgba(0, 0, 0, 0.15);\n",
              "      filter: drop-shadow(0px 1px 2px rgba(0, 0, 0, 0.3));\n",
              "      fill: #FFFFFF;\n",
              "    }\n",
              "  </style>\n",
              "\n",
              "      <script>\n",
              "        const buttonEl =\n",
              "          document.querySelector('#df-d4bb0db8-ac13-44ab-9baf-3eb0a0cb8895 button.colab-df-convert');\n",
              "        buttonEl.style.display =\n",
              "          google.colab.kernel.accessAllowed ? 'block' : 'none';\n",
              "\n",
              "        async function convertToInteractive(key) {\n",
              "          const element = document.querySelector('#df-d4bb0db8-ac13-44ab-9baf-3eb0a0cb8895');\n",
              "          const dataTable =\n",
              "            await google.colab.kernel.invokeFunction('convertToInteractive',\n",
              "                                                     [key], {});\n",
              "          if (!dataTable) return;\n",
              "\n",
              "          const docLinkHtml = 'Like what you see? Visit the ' +\n",
              "            '<a target=\"_blank\" href=https://colab.research.google.com/notebooks/data_table.ipynb>data table notebook</a>'\n",
              "            + ' to learn more about interactive tables.';\n",
              "          element.innerHTML = '';\n",
              "          dataTable['output_type'] = 'display_data';\n",
              "          await google.colab.output.renderOutput(dataTable, element);\n",
              "          const docLink = document.createElement('div');\n",
              "          docLink.innerHTML = docLinkHtml;\n",
              "          element.appendChild(docLink);\n",
              "        }\n",
              "      </script>\n",
              "    </div>\n",
              "  </div>\n",
              "  "
            ]
          },
          "metadata": {},
          "execution_count": 6
        }
      ],
      "source": [
        "# open DataFrame\n",
        "df_gs_sc_pm = pd.read_csv('df_gs_sc_pm.csv')\n",
        "df_gs_sc_pm.iloc[[index]]"
      ]
    },
    {
      "cell_type": "code",
      "source": [
        "# seach for something\n",
        "#df_gs_sc_pm[df_gs_sc_pm['Paper Title'].str.contains(\"Aerosol optical\", na=False)]\n",
        "len(df_gs_sc_pm[df_gs_sc_pm['Desicion'] == 1.0])"
      ],
      "metadata": {
        "id": "0WgejpLaGyUV",
        "colab": {
          "base_uri": "https://localhost:8080/"
        },
        "outputId": "27c93cd9-c47f-4182-f45b-4c963d7c1cc8"
      },
      "execution_count": null,
      "outputs": [
        {
          "output_type": "execute_result",
          "data": {
            "text/plain": [
              "59"
            ]
          },
          "metadata": {},
          "execution_count": 21
        }
      ]
    },
    {
      "cell_type": "code",
      "execution_count": null,
      "metadata": {
        "id": "jAk30rJbmfG5"
      },
      "outputs": [],
      "source": [
        "# add column\n",
        "#df_gs_sc_pm['Desicion'] = pd.NaT"
      ]
    },
    {
      "cell_type": "markdown",
      "source": [
        "### Does the article study Asthma?"
      ],
      "metadata": {
        "id": "ZwrORUT4p0rR"
      }
    },
    {
      "cell_type": "code",
      "source": [
        "# options\n",
        "option_lst = ['Yes', 'No']\n",
        "\n",
        "# dropdown list for asthma\n",
        "asthma = widgets.Dropdown(\n",
        "    options= option_lst,\n",
        "    value='Yes')\n",
        "\n",
        "print('Select an option for asthma')\n",
        "display(asthma)"
      ],
      "metadata": {
        "colab": {
          "base_uri": "https://localhost:8080/",
          "height": 66,
          "referenced_widgets": [
            "6deba18813a44cc89059fed5b1ffbe08",
            "f914513bbb554c99b3b057c96343960b",
            "c5c459b27b0f4bacb4d635bca8014d09"
          ]
        },
        "id": "IAorFEBXl_tc",
        "outputId": "bd50daed-bbdb-4462-8634-4f8023568076"
      },
      "execution_count": null,
      "outputs": [
        {
          "output_type": "stream",
          "name": "stdout",
          "text": [
            "Select an option for asthma\n"
          ]
        },
        {
          "output_type": "display_data",
          "data": {
            "text/plain": [
              "Dropdown(options=('Yes', 'No'), value='Yes')"
            ],
            "application/vnd.jupyter.widget-view+json": {
              "version_major": 2,
              "version_minor": 0,
              "model_id": "6deba18813a44cc89059fed5b1ffbe08"
            }
          },
          "metadata": {}
        }
      ]
    },
    {
      "cell_type": "code",
      "source": [
        "asthma.value"
      ],
      "metadata": {
        "colab": {
          "base_uri": "https://localhost:8080/",
          "height": 35
        },
        "id": "dZjk3IE0x-Wn",
        "outputId": "a711d51a-82af-48d5-d3ba-7d1dfb0db219"
      },
      "execution_count": null,
      "outputs": [
        {
          "output_type": "execute_result",
          "data": {
            "text/plain": [
              "'No'"
            ],
            "application/vnd.google.colaboratory.intrinsic+json": {
              "type": "string"
            }
          },
          "metadata": {},
          "execution_count": 232
        }
      ]
    },
    {
      "cell_type": "markdown",
      "source": [
        "### Does the article study Allergic Rhinitis?\n",
        "\n",
        "---\n",
        "\n"
      ],
      "metadata": {
        "id": "9UpDV6bHry2A"
      }
    },
    {
      "cell_type": "code",
      "source": [
        "# options\n",
        "option_lst = ['Yes', 'No']\n",
        "\n",
        "# dropdown list for allergic rhinitis\n",
        "ar = widgets.Dropdown(\n",
        "    options= option_lst,\n",
        "    value='Yes')\n",
        "\n",
        "print('Select an option for allergic rhinitis')\n",
        "display(ar)"
      ],
      "metadata": {
        "colab": {
          "base_uri": "https://localhost:8080/",
          "height": 66,
          "referenced_widgets": [
            "8c6f53d47e484b0da2be5222c7ab6c12",
            "cb8beefaf289440e8b04948213c480c3",
            "3ab46489d6994079b193011c4ba675b3"
          ]
        },
        "id": "w_CxZeLsl_4m",
        "outputId": "c7e08f7f-b73d-4b24-a030-2711d6c659c1"
      },
      "execution_count": null,
      "outputs": [
        {
          "output_type": "stream",
          "name": "stdout",
          "text": [
            "Select an option for allergic rhinitis\n"
          ]
        },
        {
          "output_type": "display_data",
          "data": {
            "text/plain": [
              "Dropdown(options=('Yes', 'No'), value='Yes')"
            ],
            "application/vnd.jupyter.widget-view+json": {
              "version_major": 2,
              "version_minor": 0,
              "model_id": "8c6f53d47e484b0da2be5222c7ab6c12"
            }
          },
          "metadata": {}
        }
      ]
    },
    {
      "cell_type": "code",
      "source": [
        "ar.value"
      ],
      "metadata": {
        "colab": {
          "base_uri": "https://localhost:8080/",
          "height": 35
        },
        "id": "k7WM0AIZw6ec",
        "outputId": "508e1f04-f05d-44ad-9a08-448612a2597b"
      },
      "execution_count": null,
      "outputs": [
        {
          "output_type": "execute_result",
          "data": {
            "text/plain": [
              "'No'"
            ],
            "application/vnd.google.colaboratory.intrinsic+json": {
              "type": "string"
            }
          },
          "metadata": {},
          "execution_count": 233
        }
      ]
    },
    {
      "cell_type": "markdown",
      "source": [
        "### Does the article use Air Quality data?"
      ],
      "metadata": {
        "id": "LC6bCqvGtMUk"
      }
    },
    {
      "cell_type": "code",
      "source": [
        "# options\n",
        "option_lst = ['Yes', 'No']\n",
        "\n",
        "# dropdown list for air quality\n",
        "aq = widgets.Dropdown(\n",
        "    options= option_lst,\n",
        "    value='Yes')\n",
        "\n",
        "print('Select an option for air quality')\n",
        "display(aq)"
      ],
      "metadata": {
        "id": "2xSWWYeFmADB",
        "colab": {
          "base_uri": "https://localhost:8080/",
          "height": 66,
          "referenced_widgets": [
            "5c3ea84857ff4b0eb4c27ba06d933576",
            "8b0f8e20f227452392d8ca0d10c484a0",
            "c4898f05078b417b822e62e4289ae679"
          ]
        },
        "outputId": "ff2216b3-8fa5-4be3-9662-a7730581ab20"
      },
      "execution_count": null,
      "outputs": [
        {
          "output_type": "stream",
          "name": "stdout",
          "text": [
            "Select an option for air quality\n"
          ]
        },
        {
          "output_type": "display_data",
          "data": {
            "text/plain": [
              "Dropdown(options=('Yes', 'No'), value='Yes')"
            ],
            "application/vnd.jupyter.widget-view+json": {
              "version_major": 2,
              "version_minor": 0,
              "model_id": "5c3ea84857ff4b0eb4c27ba06d933576"
            }
          },
          "metadata": {}
        }
      ]
    },
    {
      "cell_type": "code",
      "source": [
        "aq.value"
      ],
      "metadata": {
        "colab": {
          "base_uri": "https://localhost:8080/",
          "height": 35
        },
        "id": "pngWwXOayIWx",
        "outputId": "2b1be964-1b31-44ad-f4a9-b0ac6b9db574"
      },
      "execution_count": null,
      "outputs": [
        {
          "output_type": "execute_result",
          "data": {
            "text/plain": [
              "'Yes'"
            ],
            "application/vnd.google.colaboratory.intrinsic+json": {
              "type": "string"
            }
          },
          "metadata": {},
          "execution_count": 234
        }
      ]
    },
    {
      "cell_type": "markdown",
      "source": [
        "### Does the article use Remote Sensing data?"
      ],
      "metadata": {
        "id": "H_5MgEfHtsMT"
      }
    },
    {
      "cell_type": "code",
      "source": [
        "# options\n",
        "option_lst = ['Yes', 'No']\n",
        "\n",
        "# dropdown list for remote sensing\n",
        "rs = widgets.Dropdown(\n",
        "    options= option_lst,\n",
        "    value='Yes')\n",
        "\n",
        "print('Select an option for remote sensing')\n",
        "display(rs)"
      ],
      "metadata": {
        "colab": {
          "base_uri": "https://localhost:8080/",
          "height": 66,
          "referenced_widgets": [
            "0ffe2298268c465b9adc72cec335c820",
            "c515d515159a46b18dd50e37534370da",
            "e1c4e114abde4be1bfdd4230ad6a6768"
          ]
        },
        "id": "HlFT27ckuKI5",
        "outputId": "cdd18101-e8b8-41f4-b72b-fe2d8f1c700d"
      },
      "execution_count": null,
      "outputs": [
        {
          "output_type": "stream",
          "name": "stdout",
          "text": [
            "Select an option for remote sensing\n"
          ]
        },
        {
          "output_type": "display_data",
          "data": {
            "text/plain": [
              "Dropdown(options=('Yes', 'No'), value='Yes')"
            ],
            "application/vnd.jupyter.widget-view+json": {
              "version_major": 2,
              "version_minor": 0,
              "model_id": "0ffe2298268c465b9adc72cec335c820"
            }
          },
          "metadata": {}
        }
      ]
    },
    {
      "cell_type": "code",
      "source": [
        "rs.value"
      ],
      "metadata": {
        "colab": {
          "base_uri": "https://localhost:8080/",
          "height": 35
        },
        "id": "vwbU4pefyKoQ",
        "outputId": "231bf476-5ded-4067-f6dc-4aa005f9187d"
      },
      "execution_count": null,
      "outputs": [
        {
          "output_type": "execute_result",
          "data": {
            "text/plain": [
              "'Yes'"
            ],
            "application/vnd.google.colaboratory.intrinsic+json": {
              "type": "string"
            }
          },
          "metadata": {},
          "execution_count": 235
        }
      ]
    },
    {
      "cell_type": "code",
      "source": [
        "# use if and elif statements to accept the paper\n",
        "if asthma.value == 'Yes' and rs.value == 'Yes' and aq.value == 'Yes':\n",
        "  df_gs_sc_pm.at[index, 'Desicion'] = 1 # accepted\n",
        "elif ar.value == 'Yes' and rs.value == 'Yes' and aq.value == 'Yes':\n",
        "  df_gs_sc_pm.at[index, 'Desicion'] = 1 # accepted\n",
        "else:\n",
        "  df_gs_sc_pm.at[index, 'Desicion'] = 0 # rejected"
      ],
      "metadata": {
        "id": "hDN4xb7iuKU0"
      },
      "execution_count": null,
      "outputs": []
    },
    {
      "cell_type": "code",
      "source": [
        "# checking results\n",
        "df_gs_sc_pm.iloc[index]"
      ],
      "metadata": {
        "colab": {
          "base_uri": "https://localhost:8080/"
        },
        "id": "Wc5hPa_RuXiZ",
        "outputId": "23924ab1-d793-4833-cdf5-63424ed638ef"
      },
      "execution_count": null,
      "outputs": [
        {
          "output_type": "execute_result",
          "data": {
            "text/plain": [
              "Paper Title     An empirical model to estimate daily forest fi...\n",
              "Year                                                       2014.0\n",
              "Author                                       Yao J, Henderson SB.\n",
              "Citation                                                      NaN\n",
              "Publication                          J Expo Sci Environ Epidemiol\n",
              "Url of paper                                  10.1038/jes.2013.87\n",
              "Abstract                                                         \n",
              "Desicion                                                      0.0\n",
              "Name: 185, dtype: object"
            ]
          },
          "metadata": {},
          "execution_count": 237
        }
      ]
    },
    {
      "cell_type": "code",
      "execution_count": null,
      "metadata": {
        "id": "zN2N71OomfG5"
      },
      "outputs": [],
      "source": [
        "# save changes\n",
        "df_gs_sc_pm.to_csv('df_gs_sc_pm.csv', index=False)"
      ]
    }
  ],
  "metadata": {
    "kernelspec": {
      "display_name": "Python 3 (ipykernel)",
      "language": "python",
      "name": "python3"
    },
    "language_info": {
      "codemirror_mode": {
        "name": "ipython",
        "version": 3
      },
      "file_extension": ".py",
      "mimetype": "text/x-python",
      "name": "python",
      "nbconvert_exporter": "python",
      "pygments_lexer": "ipython3",
      "version": "3.9.12"
    },
    "colab": {
      "provenance": [],
      "include_colab_link": true
    },
    "widgets": {
      "application/vnd.jupyter.widget-state+json": {
        "6deba18813a44cc89059fed5b1ffbe08": {
          "model_module": "@jupyter-widgets/controls",
          "model_name": "DropdownModel",
          "model_module_version": "1.5.0",
          "state": {
            "_dom_classes": [],
            "_model_module": "@jupyter-widgets/controls",
            "_model_module_version": "1.5.0",
            "_model_name": "DropdownModel",
            "_options_labels": [
              "Yes",
              "No"
            ],
            "_view_count": null,
            "_view_module": "@jupyter-widgets/controls",
            "_view_module_version": "1.5.0",
            "_view_name": "DropdownView",
            "description": "",
            "description_tooltip": null,
            "disabled": false,
            "index": 1,
            "layout": "IPY_MODEL_f914513bbb554c99b3b057c96343960b",
            "style": "IPY_MODEL_c5c459b27b0f4bacb4d635bca8014d09"
          }
        },
        "f914513bbb554c99b3b057c96343960b": {
          "model_module": "@jupyter-widgets/base",
          "model_name": "LayoutModel",
          "model_module_version": "1.2.0",
          "state": {
            "_model_module": "@jupyter-widgets/base",
            "_model_module_version": "1.2.0",
            "_model_name": "LayoutModel",
            "_view_count": null,
            "_view_module": "@jupyter-widgets/base",
            "_view_module_version": "1.2.0",
            "_view_name": "LayoutView",
            "align_content": null,
            "align_items": null,
            "align_self": null,
            "border": null,
            "bottom": null,
            "display": null,
            "flex": null,
            "flex_flow": null,
            "grid_area": null,
            "grid_auto_columns": null,
            "grid_auto_flow": null,
            "grid_auto_rows": null,
            "grid_column": null,
            "grid_gap": null,
            "grid_row": null,
            "grid_template_areas": null,
            "grid_template_columns": null,
            "grid_template_rows": null,
            "height": null,
            "justify_content": null,
            "justify_items": null,
            "left": null,
            "margin": null,
            "max_height": null,
            "max_width": null,
            "min_height": null,
            "min_width": null,
            "object_fit": null,
            "object_position": null,
            "order": null,
            "overflow": null,
            "overflow_x": null,
            "overflow_y": null,
            "padding": null,
            "right": null,
            "top": null,
            "visibility": null,
            "width": null
          }
        },
        "c5c459b27b0f4bacb4d635bca8014d09": {
          "model_module": "@jupyter-widgets/controls",
          "model_name": "DescriptionStyleModel",
          "model_module_version": "1.5.0",
          "state": {
            "_model_module": "@jupyter-widgets/controls",
            "_model_module_version": "1.5.0",
            "_model_name": "DescriptionStyleModel",
            "_view_count": null,
            "_view_module": "@jupyter-widgets/base",
            "_view_module_version": "1.2.0",
            "_view_name": "StyleView",
            "description_width": ""
          }
        },
        "8c6f53d47e484b0da2be5222c7ab6c12": {
          "model_module": "@jupyter-widgets/controls",
          "model_name": "DropdownModel",
          "model_module_version": "1.5.0",
          "state": {
            "_dom_classes": [],
            "_model_module": "@jupyter-widgets/controls",
            "_model_module_version": "1.5.0",
            "_model_name": "DropdownModel",
            "_options_labels": [
              "Yes",
              "No"
            ],
            "_view_count": null,
            "_view_module": "@jupyter-widgets/controls",
            "_view_module_version": "1.5.0",
            "_view_name": "DropdownView",
            "description": "",
            "description_tooltip": null,
            "disabled": false,
            "index": 1,
            "layout": "IPY_MODEL_cb8beefaf289440e8b04948213c480c3",
            "style": "IPY_MODEL_3ab46489d6994079b193011c4ba675b3"
          }
        },
        "cb8beefaf289440e8b04948213c480c3": {
          "model_module": "@jupyter-widgets/base",
          "model_name": "LayoutModel",
          "model_module_version": "1.2.0",
          "state": {
            "_model_module": "@jupyter-widgets/base",
            "_model_module_version": "1.2.0",
            "_model_name": "LayoutModel",
            "_view_count": null,
            "_view_module": "@jupyter-widgets/base",
            "_view_module_version": "1.2.0",
            "_view_name": "LayoutView",
            "align_content": null,
            "align_items": null,
            "align_self": null,
            "border": null,
            "bottom": null,
            "display": null,
            "flex": null,
            "flex_flow": null,
            "grid_area": null,
            "grid_auto_columns": null,
            "grid_auto_flow": null,
            "grid_auto_rows": null,
            "grid_column": null,
            "grid_gap": null,
            "grid_row": null,
            "grid_template_areas": null,
            "grid_template_columns": null,
            "grid_template_rows": null,
            "height": null,
            "justify_content": null,
            "justify_items": null,
            "left": null,
            "margin": null,
            "max_height": null,
            "max_width": null,
            "min_height": null,
            "min_width": null,
            "object_fit": null,
            "object_position": null,
            "order": null,
            "overflow": null,
            "overflow_x": null,
            "overflow_y": null,
            "padding": null,
            "right": null,
            "top": null,
            "visibility": null,
            "width": null
          }
        },
        "3ab46489d6994079b193011c4ba675b3": {
          "model_module": "@jupyter-widgets/controls",
          "model_name": "DescriptionStyleModel",
          "model_module_version": "1.5.0",
          "state": {
            "_model_module": "@jupyter-widgets/controls",
            "_model_module_version": "1.5.0",
            "_model_name": "DescriptionStyleModel",
            "_view_count": null,
            "_view_module": "@jupyter-widgets/base",
            "_view_module_version": "1.2.0",
            "_view_name": "StyleView",
            "description_width": ""
          }
        },
        "5c3ea84857ff4b0eb4c27ba06d933576": {
          "model_module": "@jupyter-widgets/controls",
          "model_name": "DropdownModel",
          "model_module_version": "1.5.0",
          "state": {
            "_dom_classes": [],
            "_model_module": "@jupyter-widgets/controls",
            "_model_module_version": "1.5.0",
            "_model_name": "DropdownModel",
            "_options_labels": [
              "Yes",
              "No"
            ],
            "_view_count": null,
            "_view_module": "@jupyter-widgets/controls",
            "_view_module_version": "1.5.0",
            "_view_name": "DropdownView",
            "description": "",
            "description_tooltip": null,
            "disabled": false,
            "index": 0,
            "layout": "IPY_MODEL_8b0f8e20f227452392d8ca0d10c484a0",
            "style": "IPY_MODEL_c4898f05078b417b822e62e4289ae679"
          }
        },
        "8b0f8e20f227452392d8ca0d10c484a0": {
          "model_module": "@jupyter-widgets/base",
          "model_name": "LayoutModel",
          "model_module_version": "1.2.0",
          "state": {
            "_model_module": "@jupyter-widgets/base",
            "_model_module_version": "1.2.0",
            "_model_name": "LayoutModel",
            "_view_count": null,
            "_view_module": "@jupyter-widgets/base",
            "_view_module_version": "1.2.0",
            "_view_name": "LayoutView",
            "align_content": null,
            "align_items": null,
            "align_self": null,
            "border": null,
            "bottom": null,
            "display": null,
            "flex": null,
            "flex_flow": null,
            "grid_area": null,
            "grid_auto_columns": null,
            "grid_auto_flow": null,
            "grid_auto_rows": null,
            "grid_column": null,
            "grid_gap": null,
            "grid_row": null,
            "grid_template_areas": null,
            "grid_template_columns": null,
            "grid_template_rows": null,
            "height": null,
            "justify_content": null,
            "justify_items": null,
            "left": null,
            "margin": null,
            "max_height": null,
            "max_width": null,
            "min_height": null,
            "min_width": null,
            "object_fit": null,
            "object_position": null,
            "order": null,
            "overflow": null,
            "overflow_x": null,
            "overflow_y": null,
            "padding": null,
            "right": null,
            "top": null,
            "visibility": null,
            "width": null
          }
        },
        "c4898f05078b417b822e62e4289ae679": {
          "model_module": "@jupyter-widgets/controls",
          "model_name": "DescriptionStyleModel",
          "model_module_version": "1.5.0",
          "state": {
            "_model_module": "@jupyter-widgets/controls",
            "_model_module_version": "1.5.0",
            "_model_name": "DescriptionStyleModel",
            "_view_count": null,
            "_view_module": "@jupyter-widgets/base",
            "_view_module_version": "1.2.0",
            "_view_name": "StyleView",
            "description_width": ""
          }
        },
        "0ffe2298268c465b9adc72cec335c820": {
          "model_module": "@jupyter-widgets/controls",
          "model_name": "DropdownModel",
          "model_module_version": "1.5.0",
          "state": {
            "_dom_classes": [],
            "_model_module": "@jupyter-widgets/controls",
            "_model_module_version": "1.5.0",
            "_model_name": "DropdownModel",
            "_options_labels": [
              "Yes",
              "No"
            ],
            "_view_count": null,
            "_view_module": "@jupyter-widgets/controls",
            "_view_module_version": "1.5.0",
            "_view_name": "DropdownView",
            "description": "",
            "description_tooltip": null,
            "disabled": false,
            "index": 0,
            "layout": "IPY_MODEL_c515d515159a46b18dd50e37534370da",
            "style": "IPY_MODEL_e1c4e114abde4be1bfdd4230ad6a6768"
          }
        },
        "c515d515159a46b18dd50e37534370da": {
          "model_module": "@jupyter-widgets/base",
          "model_name": "LayoutModel",
          "model_module_version": "1.2.0",
          "state": {
            "_model_module": "@jupyter-widgets/base",
            "_model_module_version": "1.2.0",
            "_model_name": "LayoutModel",
            "_view_count": null,
            "_view_module": "@jupyter-widgets/base",
            "_view_module_version": "1.2.0",
            "_view_name": "LayoutView",
            "align_content": null,
            "align_items": null,
            "align_self": null,
            "border": null,
            "bottom": null,
            "display": null,
            "flex": null,
            "flex_flow": null,
            "grid_area": null,
            "grid_auto_columns": null,
            "grid_auto_flow": null,
            "grid_auto_rows": null,
            "grid_column": null,
            "grid_gap": null,
            "grid_row": null,
            "grid_template_areas": null,
            "grid_template_columns": null,
            "grid_template_rows": null,
            "height": null,
            "justify_content": null,
            "justify_items": null,
            "left": null,
            "margin": null,
            "max_height": null,
            "max_width": null,
            "min_height": null,
            "min_width": null,
            "object_fit": null,
            "object_position": null,
            "order": null,
            "overflow": null,
            "overflow_x": null,
            "overflow_y": null,
            "padding": null,
            "right": null,
            "top": null,
            "visibility": null,
            "width": null
          }
        },
        "e1c4e114abde4be1bfdd4230ad6a6768": {
          "model_module": "@jupyter-widgets/controls",
          "model_name": "DescriptionStyleModel",
          "model_module_version": "1.5.0",
          "state": {
            "_model_module": "@jupyter-widgets/controls",
            "_model_module_version": "1.5.0",
            "_model_name": "DescriptionStyleModel",
            "_view_count": null,
            "_view_module": "@jupyter-widgets/base",
            "_view_module_version": "1.2.0",
            "_view_name": "StyleView",
            "description_width": ""
          }
        }
      }
    }
  },
  "nbformat": 4,
  "nbformat_minor": 0
}